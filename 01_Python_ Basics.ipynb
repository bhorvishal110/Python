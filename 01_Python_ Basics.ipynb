{
  "cells": [
    {
      "cell_type": "markdown",
      "metadata": {
        "id": "e3DKfYsgL7oL"
      },
      "source": [
        "## Python Variables\n",
        "* Variables are containers for storing data values\n",
        "* A variable is created the moment you first assign a value to it.\n",
        "* Unlike other programming languages,you dont have to declare the type of variable"
      ]
    },
    {
      "cell_type": "code",
      "execution_count": 2,
      "metadata": {
        "colab": {
          "base_uri": "https://localhost:8080/"
        },
        "id": "zqkLmcRPL7oP",
        "outputId": "b5609180-1f1f-4969-f280-8afea6b8c090"
      },
      "outputs": [
        {
          "output_type": "stream",
          "name": "stdout",
          "text": [
            "5\n",
            "John\n"
          ]
        }
      ],
      "source": [
        "# Ex1)\n",
        "x = 5\n",
        "y = \"John\"\n",
        "\n",
        "print(x)\n",
        "print(y)"
      ]
    },
    {
      "cell_type": "code",
      "execution_count": 3,
      "metadata": {
        "colab": {
          "base_uri": "https://localhost:8080/"
        },
        "id": "zrCHV9mGL7oR",
        "outputId": "48bac872-dac6-41e4-fc5e-3ce6862e9dde"
      },
      "outputs": [
        {
          "output_type": "stream",
          "name": "stdout",
          "text": [
            "5\n",
            "john\n"
          ]
        }
      ],
      "source": [
        "# Ex2)\n",
        "# In Python, there is no need to declare the type of variable .i.e,\n",
        "# same varible can be used to hold different data types\n",
        "x = 5\n",
        "print(x)\n",
        "x = 'john'\n",
        "print(x)"
      ]
    },
    {
      "cell_type": "markdown",
      "metadata": {
        "id": "Jcytnb0NL7oS"
      },
      "source": [
        "### Convention for naming variables"
      ]
    },
    {
      "cell_type": "markdown",
      "metadata": {
        "id": "-yUw-m5NL7oS"
      },
      "source": [
        "* A variable name can only contain alpha-numeric characters and underscores (A-z, 0-9, and _ )\n",
        "* A variable name must start with a letter or the underscore character\n",
        "* A variable name cannot start with a number"
      ]
    },
    {
      "cell_type": "code",
      "execution_count": 4,
      "metadata": {
        "colab": {
          "base_uri": "https://localhost:8080/"
        },
        "id": "uvMMXiAhL7oT",
        "outputId": "1b8050bb-623c-4f07-db79-378df2300e8c"
      },
      "outputs": [
        {
          "output_type": "stream",
          "name": "stdout",
          "text": [
            "25 30 35\n"
          ]
        }
      ],
      "source": [
        "# Ex 3)\n",
        "# Variable names are case-sensitive (age, Age and AGE are three different variables)\n",
        "age = 25\n",
        "# print(age)\n",
        "Age = 30\n",
        "# print(age)\n",
        "AGE = 35\n",
        "print(age,Age,AGE)"
      ]
    },
    {
      "cell_type": "markdown",
      "metadata": {
        "id": "s80BrLawL7oT"
      },
      "source": [
        "* Examples of legal and illegal variable names"
      ]
    },
    {
      "cell_type": "code",
      "execution_count": 5,
      "metadata": {
        "colab": {
          "base_uri": "https://localhost:8080/",
          "height": 130
        },
        "id": "jMhSylrRL7oU",
        "outputId": "e6d0fac8-1a35-46f9-ae0c-e523ffa33428"
      },
      "outputs": [
        {
          "output_type": "error",
          "ename": "SyntaxError",
          "evalue": "ignored",
          "traceback": [
            "\u001b[0;36m  File \u001b[0;32m\"<ipython-input-5-a636bf192a30>\"\u001b[0;36m, line \u001b[0;32m10\u001b[0m\n\u001b[0;31m    2myvar = \"Python\"  # starting with number\u001b[0m\n\u001b[0m         ^\u001b[0m\n\u001b[0;31mSyntaxError\u001b[0m\u001b[0;31m:\u001b[0m invalid syntax\n"
          ]
        }
      ],
      "source": [
        "#Legal variable names:\n",
        "myvar = \"Python\"\n",
        "my_var = \"Python\"\n",
        "_my_var = \"Python\"\n",
        "myVar = \"Python\"\n",
        "MYVAR = \"Python\"\n",
        "myvar2 = \"Python\"\n",
        "\n",
        "#Illegal variable names:\n",
        "2myvar = \"Python\"  # starting with number\n",
        "my-var = \"Python\"  # hyphen is not allowed \n",
        "my var = \"Python\"  # space in between is not allowed"
      ]
    },
    {
      "cell_type": "markdown",
      "source": [
        "# **Type Casting**\n",
        "If you want to specify the data type of a variable, this can be done with casting."
      ],
      "metadata": {
        "id": "doPZCzFwMkLs"
      }
    },
    {
      "cell_type": "code",
      "source": [
        "#3\n",
        "x = str(3)\n",
        "y = int(3)\n",
        "z = float(3)\n",
        "\n",
        "print(x)\n",
        "print(y)\n",
        "print(z)\n",
        "print(type(x))\n",
        "print(type(y))\n",
        "print(type(z))"
      ],
      "metadata": {
        "colab": {
          "base_uri": "https://localhost:8080/"
        },
        "id": "wrCN8aROMsfa",
        "outputId": "bfeb12ef-0aff-4e01-8fb5-083f06374925"
      },
      "execution_count": 1,
      "outputs": [
        {
          "output_type": "stream",
          "name": "stdout",
          "text": [
            "3\n",
            "3\n",
            "3.0\n",
            "<class 'str'>\n",
            "<class 'int'>\n",
            "<class 'float'>\n"
          ]
        }
      ]
    },
    {
      "cell_type": "code",
      "source": [
        "x = 10\n",
        "y = \"Rohan\"\n",
        "a =  float(x)\n",
        "print(a)\n",
        "print(type(x))\n",
        "print(type(y))\n",
        "print(type(a))"
      ],
      "metadata": {
        "colab": {
          "base_uri": "https://localhost:8080/"
        },
        "id": "DNIS3UHONEGE",
        "outputId": "5d7ca9cf-78fa-491a-f5b8-832dbd0bb962"
      },
      "execution_count": 6,
      "outputs": [
        {
          "output_type": "stream",
          "name": "stdout",
          "text": [
            "10.0\n",
            "<class 'int'>\n",
            "<class 'str'>\n",
            "<class 'float'>\n"
          ]
        }
      ]
    },
    {
      "cell_type": "markdown",
      "source": [
        "# **Python Numbers**\n",
        "There are three numeric types in Python:\n",
        "\n",
        "int float complex Variables of numeric types are created when you assign a value to them:"
      ],
      "metadata": {
        "id": "_ASHyOwvNIRi"
      }
    },
    {
      "cell_type": "code",
      "source": [
        "#Example\n",
        "#Convert from one type to another:\n",
        "\n",
        "x = 1    # int\n",
        "y = 2.8  # float\n",
        "z = 1j   # complex\n",
        "\n",
        "#Checking the type of the numbers:\n",
        "print(type(x))\n",
        "print(type(y))\n",
        "print(type(z))\n",
        "\n",
        "#convert from int to float:\n",
        "a = float(x)\n",
        "\n",
        "#convert from float to int:\n",
        "b = int(y)\n",
        "\n",
        "#convert from int to complex:\n",
        "c = complex(x)\n",
        "\n",
        "print(a)\n",
        "print(b)\n",
        "print(c)\n",
        "\n",
        "print(type(a))\n",
        "print(type(b))\n",
        "print(type(c))"
      ],
      "metadata": {
        "colab": {
          "base_uri": "https://localhost:8080/"
        },
        "id": "JlsvMZqONKaz",
        "outputId": "3cbcce54-1405-48b0-97cd-963e38398b34"
      },
      "execution_count": 7,
      "outputs": [
        {
          "output_type": "stream",
          "name": "stdout",
          "text": [
            "<class 'int'>\n",
            "<class 'float'>\n",
            "<class 'complex'>\n",
            "1.0\n",
            "2\n",
            "(1+0j)\n",
            "<class 'float'>\n",
            "<class 'int'>\n",
            "<class 'complex'>\n"
          ]
        }
      ]
    },
    {
      "cell_type": "markdown",
      "metadata": {
        "id": "5Wv23rA_L7oU"
      },
      "source": [
        "## Python print() Function\n",
        "* The print() function prints the specified message to the screen\n",
        "* The message can be a string, or any other object, the object will be converted into a string before written to the screen."
      ]
    },
    {
      "cell_type": "code",
      "execution_count": 8,
      "metadata": {
        "colab": {
          "base_uri": "https://localhost:8080/"
        },
        "id": "t3vB0ZsiL7oV",
        "outputId": "f683b4e8-5bf2-4071-d6dd-5a4072c04c21"
      },
      "outputs": [
        {
          "output_type": "stream",
          "name": "stdout",
          "text": [
            "Hello world\n"
          ]
        }
      ],
      "source": [
        "# Ex1)\n",
        "print(\"Hello world\")"
      ]
    },
    {
      "cell_type": "code",
      "execution_count": 9,
      "metadata": {
        "colab": {
          "base_uri": "https://localhost:8080/"
        },
        "id": "FSZTI_A7L7oW",
        "outputId": "1707037b-f0cd-4417-9a06-33bf25837cce"
      },
      "outputs": [
        {
          "output_type": "stream",
          "name": "stdout",
          "text": [
            "Welcome to python\n"
          ]
        }
      ],
      "source": [
        "# Ex2)\n",
        "print(\"Welcome to python\")"
      ]
    },
    {
      "cell_type": "code",
      "execution_count": 10,
      "metadata": {
        "colab": {
          "base_uri": "https://localhost:8080/"
        },
        "id": "K4BRo_j3L7oW",
        "outputId": "e568d61d-8361-4306-a443-fbad2d75dda4"
      },
      "outputs": [
        {
          "output_type": "stream",
          "name": "stdout",
          "text": [
            "Hello world\n"
          ]
        }
      ],
      "source": [
        "# Ex3)\n",
        "a = \"Hello world\"\n",
        "print(a)"
      ]
    },
    {
      "cell_type": "code",
      "execution_count": 11,
      "metadata": {
        "colab": {
          "base_uri": "https://localhost:8080/"
        },
        "id": "hxpqotGPL7oW",
        "outputId": "3f44b395-76dd-42c2-d2f3-51461baa03f9"
      },
      "outputs": [
        {
          "output_type": "stream",
          "name": "stdout",
          "text": [
            "Arun\n",
            "Balaji\n"
          ]
        }
      ],
      "source": [
        "# Ex4)\n",
        "first_name = 'Arun'\n",
        "last_name = 'Balaji'\n",
        "\n",
        "print(first_name)\n",
        "print(last_name)"
      ]
    },
    {
      "cell_type": "code",
      "execution_count": null,
      "metadata": {
        "id": "dqIjuZSAL7oX"
      },
      "outputs": [],
      "source": [
        "# desired output is:\n",
        "# Arun-Balaji\n",
        "# by using 2 print() functions"
      ]
    },
    {
      "cell_type": "code",
      "execution_count": 12,
      "metadata": {
        "colab": {
          "base_uri": "https://localhost:8080/"
        },
        "id": "mw4oYCa1L7oX",
        "outputId": "e357e17f-ee7b-441b-e444-714189ecae1f"
      },
      "outputs": [
        {
          "output_type": "stream",
          "name": "stdout",
          "text": [
            "Arun-Balaji\n"
          ]
        }
      ],
      "source": [
        "# Ex5)\n",
        "# You can specify the end parameter\n",
        "print(first_name,end = '-')\n",
        "print(last_name)"
      ]
    },
    {
      "cell_type": "code",
      "execution_count": 13,
      "metadata": {
        "colab": {
          "base_uri": "https://localhost:8080/"
        },
        "id": "eIxjg5KTL7oX",
        "outputId": "a07ba4e3-5005-42e2-9ef3-50b698fdca21"
      },
      "outputs": [
        {
          "output_type": "stream",
          "name": "stdout",
          "text": [
            "I have an Apple\n"
          ]
        }
      ],
      "source": [
        "# Ex6)\n",
        "fruit = 'Apple'\n",
        "print(\"I have an \"+fruit)"
      ]
    },
    {
      "cell_type": "code",
      "execution_count": 14,
      "metadata": {
        "colab": {
          "base_uri": "https://localhost:8080/"
        },
        "id": "LM8PUERoL7oY",
        "outputId": "003e8792-dbb8-4fbb-97da-a84975946c16"
      },
      "outputs": [
        {
          "output_type": "stream",
          "name": "stdout",
          "text": [
            "I have 2 fruits, one is Apple other one is Banana\n"
          ]
        }
      ],
      "source": [
        "# Ex7)\n",
        "fruit1 = 'Apple'\n",
        "fruit2 = 'Banana'\n",
        "print('I have 2 fruits, one is '+ fruit1+\" other one is \"+fruit2)"
      ]
    },
    {
      "cell_type": "code",
      "execution_count": 15,
      "metadata": {
        "colab": {
          "base_uri": "https://localhost:8080/"
        },
        "id": "7uW2lRhbL7oY",
        "outputId": "5c7d4b65-1977-4010-b629-20a492c1b8c2"
      },
      "outputs": [
        {
          "output_type": "stream",
          "name": "stdout",
          "text": [
            " I have 2 fruits, one is Apple other one is Banana\n"
          ]
        }
      ],
      "source": [
        "# Ex8) print format()\n",
        "print(\" I have 2 fruits, one is {} other one is {}\".format(fruit1,fruit2))"
      ]
    },
    {
      "cell_type": "code",
      "execution_count": 16,
      "metadata": {
        "colab": {
          "base_uri": "https://localhost:8080/"
        },
        "id": "dwD1DrhqL7oY",
        "outputId": "23a77f6f-78b8-4ffd-ea35-c1340572309b"
      },
      "outputs": [
        {
          "output_type": "stream",
          "name": "stdout",
          "text": [
            " I have 2 fruits, one is Banana other one is Apple\n"
          ]
        }
      ],
      "source": [
        "# Ex9) giving indexes in the placeholders\n",
        "print(\" I have 2 fruits, one is {1} other one is {0}\".format(fruit1,fruit2))"
      ]
    },
    {
      "cell_type": "markdown",
      "source": [
        "The Python print statement is often used to output variables.\n",
        "\n",
        "To combine both text and a variable, Python uses the + character:"
      ],
      "metadata": {
        "id": "-QNcSklRN6rF"
      }
    },
    {
      "cell_type": "code",
      "source": [
        "# The Python print statement is often used to output variables.\n",
        "# To combine both text and a variable, Python uses the + character\n",
        "x = \"awesome\"\n",
        "print(\"Python is\" + x)\n",
        "\n",
        "#You can also use the + character to add a variable to another variable:\n",
        "x = \"Python is \"\n",
        "y = \"awesome\"\n",
        "z =  x + y\n",
        "print(z)\n",
        "#For numbers, the + character works as a mathematical operator:\n",
        "x = 5\n",
        "y = 10\n",
        "print(x + y)\n",
        "#If you try to combine a string and a number, Python will give you an error:\n",
        "#Error\n",
        "x = 5\n",
        "y = \"John\"\n",
        "print(x + y)"
      ],
      "metadata": {
        "colab": {
          "base_uri": "https://localhost:8080/",
          "height": 252
        },
        "id": "Kj8yVuaON8Be",
        "outputId": "8e3ffe7c-a772-4dec-ae81-95e905d01261"
      },
      "execution_count": 18,
      "outputs": [
        {
          "output_type": "stream",
          "name": "stdout",
          "text": [
            "Python isawesome\n",
            "Python is awesome\n",
            "15\n"
          ]
        },
        {
          "output_type": "error",
          "ename": "TypeError",
          "evalue": "ignored",
          "traceback": [
            "\u001b[0;31m---------------------------------------------------------------------------\u001b[0m",
            "\u001b[0;31mTypeError\u001b[0m                                 Traceback (most recent call last)",
            "\u001b[0;32m<ipython-input-18-daca42cd826e>\u001b[0m in \u001b[0;36m<module>\u001b[0;34m()\u001b[0m\n\u001b[1;32m     17\u001b[0m \u001b[0mx\u001b[0m \u001b[0;34m=\u001b[0m \u001b[0;36m5\u001b[0m\u001b[0;34m\u001b[0m\u001b[0;34m\u001b[0m\u001b[0m\n\u001b[1;32m     18\u001b[0m \u001b[0my\u001b[0m \u001b[0;34m=\u001b[0m \u001b[0;34m\"John\"\u001b[0m\u001b[0;34m\u001b[0m\u001b[0;34m\u001b[0m\u001b[0m\n\u001b[0;32m---> 19\u001b[0;31m \u001b[0mprint\u001b[0m\u001b[0;34m(\u001b[0m\u001b[0mx\u001b[0m \u001b[0;34m+\u001b[0m \u001b[0my\u001b[0m\u001b[0;34m)\u001b[0m\u001b[0;34m\u001b[0m\u001b[0;34m\u001b[0m\u001b[0m\n\u001b[0m",
            "\u001b[0;31mTypeError\u001b[0m: unsupported operand type(s) for +: 'int' and 'str'"
          ]
        }
      ]
    },
    {
      "cell_type": "markdown",
      "metadata": {
        "id": "J75DeTVDL7oZ"
      },
      "source": [
        "## Python Comments\n",
        "* Comments can be used to explain Python code.\n",
        "\n",
        "* Comments can be used to make the code more readable.\n",
        "\n",
        "* Comments can be used to prevent execution when testing code."
      ]
    },
    {
      "cell_type": "markdown",
      "metadata": {
        "id": "mkhLWqcdL7oZ"
      },
      "source": [
        "'#' is used for single line comment. Python will ignore the lines starting with '#'"
      ]
    },
    {
      "cell_type": "code",
      "execution_count": 19,
      "metadata": {
        "colab": {
          "base_uri": "https://localhost:8080/"
        },
        "id": "anjnnTJRL7oZ",
        "outputId": "bbc2f18d-b0bd-4802-eb61-b657e27f0cbb"
      },
      "outputs": [
        {
          "output_type": "stream",
          "name": "stdout",
          "text": [
            "Hello world\n"
          ]
        }
      ],
      "source": [
        "#this is a comment\n",
        "print('Hello world')"
      ]
    },
    {
      "cell_type": "code",
      "execution_count": 20,
      "metadata": {
        "colab": {
          "base_uri": "https://localhost:8080/"
        },
        "id": "_g-nL7jaL7oZ",
        "outputId": "07a02fd7-4ab3-453b-9c92-bb01c781b4b6"
      },
      "outputs": [
        {
          "output_type": "stream",
          "name": "stdout",
          "text": [
            "Hello world\n"
          ]
        }
      ],
      "source": [
        "print('Hello world') #You can write comments here as well!"
      ]
    },
    {
      "cell_type": "code",
      "execution_count": 21,
      "metadata": {
        "colab": {
          "base_uri": "https://localhost:8080/"
        },
        "id": "u1U9U7tUL7oa",
        "outputId": "3acf1ad0-3c3d-487f-ca71-65fb905b551b"
      },
      "outputs": [
        {
          "output_type": "stream",
          "name": "stdout",
          "text": [
            "Hello world\n",
            "This is our first class\n"
          ]
        }
      ],
      "source": [
        "print('Hello world')\n",
        "# print('Welcome to python')\n",
        "print('This is our first class')"
      ]
    },
    {
      "cell_type": "code",
      "execution_count": 22,
      "metadata": {
        "colab": {
          "base_uri": "https://localhost:8080/"
        },
        "id": "8UtaYQZDL7oa",
        "outputId": "6d00726b-ac50-4c6b-a4d4-9da20e79775f"
      },
      "outputs": [
        {
          "output_type": "stream",
          "name": "stdout",
          "text": [
            "Hello-World\n"
          ]
        }
      ],
      "source": [
        "# i am a \n",
        "# multiline \n",
        "# comment \n",
        "# using '#' \n",
        "# at the beginning of\n",
        "# each line\n",
        "print('Hello-World')"
      ]
    },
    {
      "cell_type": "markdown",
      "metadata": {
        "id": "jZPEMfE8L7oa"
      },
      "source": [
        "\"\"\"\n",
        " ....\n",
        "\"\"\"\n",
        "is used to comment multiple lines of code"
      ]
    },
    {
      "cell_type": "code",
      "execution_count": 23,
      "metadata": {
        "colab": {
          "base_uri": "https://localhost:8080/"
        },
        "id": "EtIv_sfYL7oa",
        "outputId": "63287124-46f9-4a55-b4ce-a64584ecdc89"
      },
      "outputs": [
        {
          "output_type": "stream",
          "name": "stdout",
          "text": [
            "Hello world\n"
          ]
        }
      ],
      "source": [
        "\"\"\"\n",
        "i am a \n",
        "multiline \n",
        "comment \n",
        "using '#' \n",
        "at the beginning of\n",
        "each line\n",
        "\"\"\"\n",
        "print('Hello world')"
      ]
    },
    {
      "cell_type": "markdown",
      "source": [
        "You can assign a multiline string to a variable by using three quotes:\n",
        "\n"
      ],
      "metadata": {
        "id": "WvcALIx_Oh-x"
      }
    },
    {
      "cell_type": "code",
      "source": [
        "# Example\n",
        "# You can use three double quotes:\n",
        "\n",
        "a = \"\"\"python is awesome,\n",
        "Python is simple.\"\"\"\n",
        "print(a)\n",
        "\n",
        "#Or three single quotes:\n",
        "#Example\n",
        "a = '''python is awesome,\n",
        "Python is simple.'''\n",
        "print(a)"
      ],
      "metadata": {
        "colab": {
          "base_uri": "https://localhost:8080/"
        },
        "id": "JOVh3gtkOi_W",
        "outputId": "ea26531f-b8bd-4fe3-95ba-091f9b6f9177"
      },
      "execution_count": 25,
      "outputs": [
        {
          "output_type": "stream",
          "name": "stdout",
          "text": [
            "python is awesome,\n",
            "Python is simple.\n",
            "python is awesome,\n",
            "Python is simple.\n"
          ]
        }
      ]
    },
    {
      "cell_type": "code",
      "source": [
        "# Example\n",
        "# Get the character at position 1 (remember that the first character has the position 0):       \n",
        "a = \"Hello, World!\"\n",
        "print(a[1])"
      ],
      "metadata": {
        "colab": {
          "base_uri": "https://localhost:8080/"
        },
        "id": "v4d5d1LTOoVZ",
        "outputId": "e4858307-8708-46b1-b577-d90d239a2d2b"
      },
      "execution_count": 26,
      "outputs": [
        {
          "output_type": "stream",
          "name": "stdout",
          "text": [
            "e\n"
          ]
        }
      ]
    },
    {
      "cell_type": "code",
      "source": [
        "# Looping Through a String\n",
        "# Since strings are arrays, we can loop through the characters in a string, with a for loop.\n",
        "\n",
        "# Example\n",
        "# Loop through the letters in the word \"banana\":\n",
        "\n",
        "for x in \"banana\":\n",
        "  print(x)"
      ],
      "metadata": {
        "colab": {
          "base_uri": "https://localhost:8080/"
        },
        "id": "32RLCpYqOry9",
        "outputId": "ce5f7b7b-901b-4fb5-a33d-4dfbb863c803"
      },
      "execution_count": 27,
      "outputs": [
        {
          "output_type": "stream",
          "name": "stdout",
          "text": [
            "b\n",
            "a\n",
            "n\n",
            "a\n",
            "n\n",
            "a\n"
          ]
        }
      ]
    },
    {
      "cell_type": "code",
      "source": [
        "# String Length\n",
        "# To get the length of a string, use the len() function.\n",
        "# Example\n",
        "# The len() function returns the length of a string:\n",
        "\n",
        "a = \"Hello, World!\"\n",
        "print(len(a))"
      ],
      "metadata": {
        "colab": {
          "base_uri": "https://localhost:8080/"
        },
        "id": "0mdIQJtMOvI0",
        "outputId": "2f804d1a-f973-4a5d-9a57-694726538797"
      },
      "execution_count": 28,
      "outputs": [
        {
          "output_type": "stream",
          "name": "stdout",
          "text": [
            "13\n"
          ]
        }
      ]
    },
    {
      "cell_type": "markdown",
      "metadata": {
        "id": "PF53a21CL7ob"
      },
      "source": [
        "## input()\n",
        "* The input() function allows us to take input from the user."
      ]
    },
    {
      "cell_type": "code",
      "execution_count": 29,
      "metadata": {
        "colab": {
          "base_uri": "https://localhost:8080/"
        },
        "id": "Q42xqo_uL7ob",
        "outputId": "5dedb2a4-3e95-4f21-d222-086c10f5f540"
      },
      "outputs": [
        {
          "output_type": "stream",
          "name": "stdout",
          "text": [
            "Enter your name : Vishal\n",
            "hello Vishal\n"
          ]
        }
      ],
      "source": [
        "# Ex1) ask name from the user\n",
        "name = input(\"Enter your name : \")\n",
        "print(\"hello \"+name)"
      ]
    },
    {
      "cell_type": "code",
      "execution_count": 32,
      "metadata": {
        "colab": {
          "base_uri": "https://localhost:8080/"
        },
        "id": "3ANDjuHtL7ob",
        "outputId": "0a94829f-bbc0-49b6-d828-b702a7db798d"
      },
      "outputs": [
        {
          "output_type": "stream",
          "name": "stdout",
          "text": [
            "enter the first number : 12\n",
            "enter the second number : 34\n",
            "1234\n"
          ]
        }
      ],
      "source": [
        "# Ex2) take two inputs(numbers) from user and add the numbers\n",
        "num1 = input(\"enter the first number : \")\n",
        "num2 = input(\"enter the second number : \")\n",
        "num3 = num1 + num2 \n",
        "print(num3)"
      ]
    },
    {
      "cell_type": "markdown",
      "metadata": {
        "id": "YkQe5HebL7ob"
      },
      "source": [
        "#### remember, whatever value user inputs is converted to string by default"
      ]
    },
    {
      "cell_type": "code",
      "execution_count": 33,
      "metadata": {
        "colab": {
          "base_uri": "https://localhost:8080/"
        },
        "id": "Wb3qHOXmL7ob",
        "outputId": "f05b2c8f-aa92-4402-b561-922dbdba3a6a"
      },
      "outputs": [
        {
          "output_type": "stream",
          "name": "stdout",
          "text": [
            "type of num1 = <class 'str'> and num2 = <class 'str'> \n"
          ]
        }
      ],
      "source": [
        "# check the type\n",
        "print(\"type of num1 = {} and num2 = {} \".format(type(num1),type(num2)))\n",
        "\n",
        "# convert to int\n",
        "num1 = int(num1)\n",
        "num2 = int(num2)"
      ]
    },
    {
      "cell_type": "code",
      "execution_count": 34,
      "metadata": {
        "colab": {
          "base_uri": "https://localhost:8080/"
        },
        "id": "vU2luioPL7oc",
        "outputId": "6d3a8356-b598-43d1-8759-7d687c322b0e"
      },
      "outputs": [
        {
          "output_type": "stream",
          "name": "stdout",
          "text": [
            "46\n"
          ]
        }
      ],
      "source": [
        "# add and print\n",
        "num3 = num1 + num2 \n",
        "print(num3)"
      ]
    },
    {
      "cell_type": "markdown",
      "source": [
        "# **Slicing**\n",
        "You can return a range of characters by using the slice syntax.\n",
        "\n",
        "Specify the start index and the end index, separated by a colon, to return a part of the string."
      ],
      "metadata": {
        "id": "p23Zy1y8PWJW"
      }
    },
    {
      "cell_type": "code",
      "source": [
        "#Example\n",
        "#Get the characters from position 2 to position 5 (not included):\n",
        "b = \"Hello, World!\"\n",
        "print(b[2:5])"
      ],
      "metadata": {
        "colab": {
          "base_uri": "https://localhost:8080/"
        },
        "id": "Tc1KjP6hPaXT",
        "outputId": "7df0acde-f9bd-4e38-c750-695d40024303"
      },
      "execution_count": 35,
      "outputs": [
        {
          "output_type": "stream",
          "name": "stdout",
          "text": [
            "llo\n"
          ]
        }
      ]
    },
    {
      "cell_type": "markdown",
      "source": [
        "# **Negative Indexing**\n",
        "Use negative indexes to start the slice from the end of the string: Example Get the characters:\n",
        "\n",
        "From: \"o\" in \"World!\" (position -5)\n",
        "\n",
        "To, but not included: \"d\" in \"World!\" (position -2):"
      ],
      "metadata": {
        "id": "6-QZncswPfp6"
      }
    },
    {
      "cell_type": "code",
      "source": [
        "b = \"Hello, World!\"\n",
        "print(b[-5:-2])\n",
        "# Get the characters from index 2 to index 4 (llo).\n",
        "txt = \"Hello World\"\n",
        "print(txt[2:4])"
      ],
      "metadata": {
        "colab": {
          "base_uri": "https://localhost:8080/"
        },
        "id": "9AcQ5c0mPkLq",
        "outputId": "f6065df2-cce3-49cc-a29d-be84a8a5efb0"
      },
      "execution_count": 36,
      "outputs": [
        {
          "output_type": "stream",
          "name": "stdout",
          "text": [
            "orl\n",
            "ll\n"
          ]
        }
      ]
    }
  ],
  "metadata": {
    "kernelspec": {
      "display_name": "Python 3",
      "language": "python",
      "name": "python3"
    },
    "language_info": {
      "codemirror_mode": {
        "name": "ipython",
        "version": 3
      },
      "file_extension": ".py",
      "mimetype": "text/x-python",
      "name": "python",
      "nbconvert_exporter": "python",
      "pygments_lexer": "ipython3",
      "version": "3.7.6"
    },
    "colab": {
      "name": "01 - Python Basics.ipynb",
      "provenance": []
    }
  },
  "nbformat": 4,
  "nbformat_minor": 0
}