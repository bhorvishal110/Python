{
  "nbformat": 4,
  "nbformat_minor": 0,
  "metadata": {
    "colab": {
      "name": "03. Python List.ipynb",
      "provenance": []
    },
    "kernelspec": {
      "name": "python3",
      "display_name": "Python 3"
    },
    "language_info": {
      "name": "python"
    }
  },
  "cells": [
    {
      "cell_type": "markdown",
      "source": [
        "# **Python Lists**\n",
        "\n",
        "mylist = [\"apple\", \"banana\", \"cherry\"] List Lists are used to store multiple items in a single variable.\n",
        "\n",
        "Lists are one of 4 built-in data types in Python used to store collections of data, the other 3 are Tuple, Set, and Dictionary, all with different qualities and usage.\n",
        "\n",
        "Lists are created using square brackets:"
      ],
      "metadata": {
        "id": "OwMVsiO_8yhc"
      }
    },
    {
      "cell_type": "code",
      "source": [
        "# Example\n",
        "# Create a List:\n",
        "\n",
        "thislist = [\"apple\", \"banana\", \"cherry\"]\n",
        "print(thislist)"
      ],
      "metadata": {
        "colab": {
          "base_uri": "https://localhost:8080/"
        },
        "id": "8wqzuIvM9MDa",
        "outputId": "ec5289d5-2a27-4de1-926b-af9a69baafb0"
      },
      "execution_count": null,
      "outputs": [
        {
          "output_type": "stream",
          "name": "stdout",
          "text": [
            "['apple', 'banana', 'cherry']\n"
          ]
        }
      ]
    },
    {
      "cell_type": "markdown",
      "source": [
        "List Items List items are **ordered, changeable, and allow duplicate values.**\n",
        "\n",
        "**List items are indexed**, the first item has index [0], the second item has index [1] etc.\n",
        "\n",
        "**Ordered** When we say that lists are ordered, it means that the items have a defined order, and that order will not change.\n",
        "\n",
        "If you add new items to a list, the new items will be placed at the end of the list.\n",
        "\n",
        "**Allow Duplicates** Since lists are indexed, lists can have items with the same value:"
      ],
      "metadata": {
        "id": "5asdFs4B9bBC"
      }
    },
    {
      "cell_type": "code",
      "source": [
        "# Example\n",
        "# Lists allow duplicate values:\n",
        "\n",
        "thislist = [\"apple\", \"banana\", \"cherry\", \"apple\", \"cherry\"]\n",
        "print(thislist)"
      ],
      "metadata": {
        "colab": {
          "base_uri": "https://localhost:8080/"
        },
        "id": "mxm7BAsG9cbr",
        "outputId": "3e8af947-67f3-4bb5-9ec7-f6d03b21f39d"
      },
      "execution_count": null,
      "outputs": [
        {
          "output_type": "stream",
          "name": "stdout",
          "text": [
            "['apple', 'banana', 'cherry', 'apple', 'cherry']\n"
          ]
        }
      ]
    },
    {
      "cell_type": "markdown",
      "source": [
        "List Length To determine how many items a list has, use the **len() function:**"
      ],
      "metadata": {
        "id": "EPrClCox9jEE"
      }
    },
    {
      "cell_type": "code",
      "source": [
        "# Example\n",
        "# Print the number of items in the list:\n",
        "\n",
        "thislist = [\"apple\", \"banana\", \"cherry\"]\n",
        "print(len(thislist))"
      ],
      "metadata": {
        "colab": {
          "base_uri": "https://localhost:8080/"
        },
        "id": "ZKOT9A3e9kYr",
        "outputId": "b8d9cd77-b5df-433c-d04f-1d6ff9bffd46"
      },
      "execution_count": null,
      "outputs": [
        {
          "output_type": "stream",
          "name": "stdout",
          "text": [
            "3\n"
          ]
        }
      ]
    },
    {
      "cell_type": "markdown",
      "source": [
        "List Items - Data Types List items can be of any data type:\n",
        "\n",
        "Example String, int and boolean data types:"
      ],
      "metadata": {
        "id": "uFIGP2jZ9qwD"
      }
    },
    {
      "cell_type": "code",
      "source": [
        "list1 = [\"apple\", \"banana\", \"cherry\"]\n",
        "list2 = [1, 5, 7, 9, 3]\n",
        "list3 = [True, False, False]"
      ],
      "metadata": {
        "id": "LDWYYyLz9ujW"
      },
      "execution_count": null,
      "outputs": []
    },
    {
      "cell_type": "markdown",
      "source": [
        "A list can contain different data types:\n",
        "\n",
        "Example A list with strings, integers and boolean values:\n",
        "\n",
        "list1 = [\"abc\", 34, True, 40, \"male\"]"
      ],
      "metadata": {
        "id": "buuXaF0K90hO"
      }
    },
    {
      "cell_type": "code",
      "source": [
        "#Example\n",
        "#A list with strings, integers and boolean values:\n",
        "\n",
        "list1 = [\"abc\", 34, True, 40, \"male\"]"
      ],
      "metadata": {
        "id": "_wShaIkI93pl"
      },
      "execution_count": null,
      "outputs": []
    },
    {
      "cell_type": "markdown",
      "source": [
        "**type()** From Python's perspective, lists are defined as objects with the data type 'list':\n",
        "\n",
        "<class 'list'>"
      ],
      "metadata": {
        "id": "QnBQhzQk98W0"
      }
    },
    {
      "cell_type": "code",
      "source": [
        "# Example\n",
        "# What is the data type of a list?\n",
        "\n",
        "mylist = [\"apple\", \"banana\", \"cherry\"]\n",
        "print(type(mylist))"
      ],
      "metadata": {
        "colab": {
          "base_uri": "https://localhost:8080/"
        },
        "id": "_5RTpndN9-hc",
        "outputId": "4a905edf-2c84-4651-def3-ca0a789fcc9e"
      },
      "execution_count": null,
      "outputs": [
        {
          "output_type": "stream",
          "name": "stdout",
          "text": [
            "<class 'list'>\n"
          ]
        }
      ]
    },
    {
      "cell_type": "markdown",
      "source": [
        "The list() Constructor It is also possible to use the list() constructor when creating a new list.\n",
        "\n",
        "Example Using the list() constructor to make a List:"
      ],
      "metadata": {
        "id": "JJ2tCrXI-EWr"
      }
    },
    {
      "cell_type": "code",
      "source": [
        "thislist = list((\"apple\", \"banana\", \"cherry\")) # note the double round-brackets\n",
        "print(thislist)"
      ],
      "metadata": {
        "colab": {
          "base_uri": "https://localhost:8080/"
        },
        "id": "loNnC-k--Hoq",
        "outputId": "27c37a93-69c5-47cc-f659-01aa3fac6b92"
      },
      "execution_count": null,
      "outputs": [
        {
          "output_type": "stream",
          "name": "stdout",
          "text": [
            "['apple', 'banana', 'cherry']\n"
          ]
        }
      ]
    },
    {
      "cell_type": "markdown",
      "source": [
        "# **Indexing**\n",
        "Indexing starts from 0(zero). Very much similar to what we have learnt in our previous class"
      ],
      "metadata": {
        "id": "huXtYoLzcHZp"
      }
    },
    {
      "cell_type": "code",
      "source": [
        "# to get the first element\n",
        "list1 = [1,2,3,4,5,6,7,8,9]\n",
        "list1[0]"
      ],
      "metadata": {
        "colab": {
          "base_uri": "https://localhost:8080/"
        },
        "id": "8rfep2IXcLbA",
        "outputId": "1abd9466-a2e4-4010-8800-a46c8a43105b"
      },
      "execution_count": null,
      "outputs": [
        {
          "output_type": "execute_result",
          "data": {
            "text/plain": [
              "1"
            ]
          },
          "metadata": {},
          "execution_count": 2
        }
      ]
    },
    {
      "cell_type": "code",
      "source": [
        "# to get the third element\n",
        "list1[2]"
      ],
      "metadata": {
        "colab": {
          "base_uri": "https://localhost:8080/"
        },
        "id": "Dd5TsqMucO0Q",
        "outputId": "f8759ec2-b886-42a8-d0ff-9ec174b54b2a"
      },
      "execution_count": null,
      "outputs": [
        {
          "output_type": "execute_result",
          "data": {
            "text/plain": [
              "3"
            ]
          },
          "metadata": {},
          "execution_count": 3
        }
      ]
    },
    {
      "cell_type": "code",
      "source": [
        "# to get the last element\n",
        "list1[8]"
      ],
      "metadata": {
        "colab": {
          "base_uri": "https://localhost:8080/"
        },
        "id": "AutfRS5WcSug",
        "outputId": "3dd48273-ad5f-4505-e04b-df6459d51b7c"
      },
      "execution_count": null,
      "outputs": [
        {
          "output_type": "execute_result",
          "data": {
            "text/plain": [
              "9"
            ]
          },
          "metadata": {},
          "execution_count": 4
        }
      ]
    },
    {
      "cell_type": "markdown",
      "source": [
        "# **Slicing**"
      ],
      "metadata": {
        "id": "BsdvnvOgcWs5"
      }
    },
    {
      "cell_type": "code",
      "source": [
        "# [start:stop:step]\n",
        "\n",
        "# start = starting position (default value is 0)\n",
        "# stop = end position(exclusive) (default value is end position)\n",
        "# step = step size or increment size (default value is 1)"
      ],
      "metadata": {
        "id": "s6zjwxSZcYPL"
      },
      "execution_count": null,
      "outputs": []
    },
    {
      "cell_type": "code",
      "source": [
        "# to get first 5 elements \n",
        "list1[:5]"
      ],
      "metadata": {
        "colab": {
          "base_uri": "https://localhost:8080/"
        },
        "id": "a5U-1ZDtcbEM",
        "outputId": "d56fe5a6-7433-4c97-8c09-3fa9db571c2d"
      },
      "execution_count": null,
      "outputs": [
        {
          "output_type": "execute_result",
          "data": {
            "text/plain": [
              "[1, 2, 3, 4, 5]"
            ]
          },
          "metadata": {},
          "execution_count": 5
        }
      ]
    },
    {
      "cell_type": "code",
      "source": [
        "# to get last 5 elements \n",
        "list1[-5:]"
      ],
      "metadata": {
        "colab": {
          "base_uri": "https://localhost:8080/"
        },
        "id": "benn0U8ccfjM",
        "outputId": "169f3289-a079-4321-d7dd-58d559edc9c1"
      },
      "execution_count": null,
      "outputs": [
        {
          "output_type": "execute_result",
          "data": {
            "text/plain": [
              "[5, 6, 7, 8, 9]"
            ]
          },
          "metadata": {},
          "execution_count": 6
        }
      ]
    },
    {
      "cell_type": "code",
      "source": [
        "# to get alternate elements \n",
        "list1 = [1,2,3,4,5,6,7,8,9]\n",
        "list1[::2]"
      ],
      "metadata": {
        "colab": {
          "base_uri": "https://localhost:8080/"
        },
        "id": "8D7F1qwVcjsB",
        "outputId": "5ca09363-7d57-46ca-b1dd-0c8a1294530f"
      },
      "execution_count": null,
      "outputs": [
        {
          "output_type": "execute_result",
          "data": {
            "text/plain": [
              "[1, 3, 5, 7, 9]"
            ]
          },
          "metadata": {},
          "execution_count": 7
        }
      ]
    },
    {
      "cell_type": "code",
      "source": [
        "# to get every 3rd element from the starting position\n",
        "list1"
      ],
      "metadata": {
        "colab": {
          "base_uri": "https://localhost:8080/"
        },
        "id": "FhMrJhpicm3b",
        "outputId": "d3e32bd2-a651-44d6-934b-aa17e97e6757"
      },
      "execution_count": null,
      "outputs": [
        {
          "output_type": "execute_result",
          "data": {
            "text/plain": [
              "[1, 2, 3, 4, 5, 6, 7, 8, 9]"
            ]
          },
          "metadata": {},
          "execution_count": 8
        }
      ]
    },
    {
      "cell_type": "code",
      "source": [
        "list1[::3]"
      ],
      "metadata": {
        "colab": {
          "base_uri": "https://localhost:8080/"
        },
        "id": "3njwmA9ncp6F",
        "outputId": "395aea23-0d93-415f-b3a0-2e83cdf0836a"
      },
      "execution_count": null,
      "outputs": [
        {
          "output_type": "execute_result",
          "data": {
            "text/plain": [
              "[1, 4, 7]"
            ]
          },
          "metadata": {},
          "execution_count": 9
        }
      ]
    },
    {
      "cell_type": "markdown",
      "source": [
        "# **Mutable**"
      ],
      "metadata": {
        "id": "H05M00-Ecs6l"
      }
    },
    {
      "cell_type": "code",
      "source": [
        "# to change the first value\n",
        "list1[0] = 100\n",
        "list1"
      ],
      "metadata": {
        "colab": {
          "base_uri": "https://localhost:8080/"
        },
        "id": "pUhZyrxlcxgt",
        "outputId": "6e234253-20e8-4269-ee27-325635bc7926"
      },
      "execution_count": null,
      "outputs": [
        {
          "output_type": "execute_result",
          "data": {
            "text/plain": [
              "[100, 2, 3, 4, 5, 6, 7, 8, 9]"
            ]
          },
          "metadata": {},
          "execution_count": 10
        }
      ]
    },
    {
      "cell_type": "code",
      "source": [
        "# similarly you can change any values based on index position\n",
        "list1[2] = 300\n",
        "list1"
      ],
      "metadata": {
        "colab": {
          "base_uri": "https://localhost:8080/"
        },
        "id": "HQ20lpUJc0XV",
        "outputId": "a16adabd-9815-4699-bdc6-cd4da9b35286"
      },
      "execution_count": null,
      "outputs": [
        {
          "output_type": "execute_result",
          "data": {
            "text/plain": [
              "[100, 2, 300, 4, 5, 6, 7, 8, 9]"
            ]
          },
          "metadata": {},
          "execution_count": 11
        }
      ]
    },
    {
      "cell_type": "markdown",
      "source": [
        "# **Some Inbuilt Methods**\n"
      ],
      "metadata": {
        "id": "8MoEY5aNc5BG"
      }
    },
    {
      "cell_type": "code",
      "source": [
        "# my_list\n",
        "my_list = [1,2,3,True]\n",
        "my_list"
      ],
      "metadata": {
        "colab": {
          "base_uri": "https://localhost:8080/"
        },
        "id": "yACe4eRPdCUv",
        "outputId": "95a8e515-1753-4b45-9df4-9580bdc53a3b"
      },
      "execution_count": null,
      "outputs": [
        {
          "output_type": "execute_result",
          "data": {
            "text/plain": [
              "[1, 2, 3, True]"
            ]
          },
          "metadata": {},
          "execution_count": 12
        }
      ]
    },
    {
      "cell_type": "markdown",
      "source": [
        "1) **.append(val)**\n",
        "\n",
        "appends the value at the end of the list"
      ],
      "metadata": {
        "id": "qSg4lCNMdF9R"
      }
    },
    {
      "cell_type": "code",
      "source": [
        "my_list.append(\"Python\")\n",
        "print(my_list)"
      ],
      "metadata": {
        "colab": {
          "base_uri": "https://localhost:8080/"
        },
        "id": "ZpprWpVxdL-q",
        "outputId": "0365b38b-8458-4d54-b6b4-2f53350ee01e"
      },
      "execution_count": null,
      "outputs": [
        {
          "output_type": "stream",
          "name": "stdout",
          "text": [
            "[1, 2, 3, True, 'Python']\n"
          ]
        }
      ]
    },
    {
      "cell_type": "code",
      "source": [
        "my_list.append(\"ML\")\n",
        "print(my_list)"
      ],
      "metadata": {
        "colab": {
          "base_uri": "https://localhost:8080/"
        },
        "id": "fvfi3HPRdS-e",
        "outputId": "59d0fccc-61f8-4cc5-cf50-5e79ee73a6ec"
      },
      "execution_count": null,
      "outputs": [
        {
          "output_type": "stream",
          "name": "stdout",
          "text": [
            "[1, 2, 3, True, 'Python', 'ML']\n"
          ]
        }
      ]
    },
    {
      "cell_type": "code",
      "source": [
        "my_list"
      ],
      "metadata": {
        "colab": {
          "base_uri": "https://localhost:8080/"
        },
        "id": "_ACt2eA0dWLc",
        "outputId": "e9755198-4082-4568-bd7c-94f11c9df953"
      },
      "execution_count": null,
      "outputs": [
        {
          "output_type": "execute_result",
          "data": {
            "text/plain": [
              "[1, 2, 3, True, 'Python', 'ML']"
            ]
          },
          "metadata": {},
          "execution_count": 15
        }
      ]
    },
    {
      "cell_type": "markdown",
      "source": [
        "## **2) insert(pos,element)**\n",
        "inserts the element at the specified index"
      ],
      "metadata": {
        "id": "gXp22cbQdZp1"
      }
    },
    {
      "cell_type": "code",
      "source": [
        "# to insert value 4 after 3\n",
        "my_list.insert(3,4)"
      ],
      "metadata": {
        "id": "pL3zU2Nmdfcc"
      },
      "execution_count": null,
      "outputs": []
    },
    {
      "cell_type": "code",
      "source": [
        "my_list"
      ],
      "metadata": {
        "colab": {
          "base_uri": "https://localhost:8080/"
        },
        "id": "Jf1yZfvfdkKK",
        "outputId": "2855c15b-6dfc-4747-874b-3c0f5a8d4177"
      },
      "execution_count": null,
      "outputs": [
        {
          "output_type": "execute_result",
          "data": {
            "text/plain": [
              "[1, 2, 3, 4, True, 'Python', 'ML']"
            ]
          },
          "metadata": {},
          "execution_count": 17
        }
      ]
    },
    {
      "cell_type": "code",
      "source": [
        "# to insert value False after True\n",
        "my_list.insert(0,False)"
      ],
      "metadata": {
        "id": "R2eOHp5ldoea"
      },
      "execution_count": null,
      "outputs": []
    },
    {
      "cell_type": "code",
      "source": [
        "my_list"
      ],
      "metadata": {
        "colab": {
          "base_uri": "https://localhost:8080/"
        },
        "id": "_z46pMQJdr6S",
        "outputId": "da71eabf-4b2d-422b-c0af-f965df001362"
      },
      "execution_count": null,
      "outputs": [
        {
          "output_type": "execute_result",
          "data": {
            "text/plain": [
              "[False, 1, 2, 3, 4, True, 'Python', 'ML']"
            ]
          },
          "metadata": {},
          "execution_count": 19
        }
      ]
    },
    {
      "cell_type": "markdown",
      "source": [
        "### **copying the lists**\n",
        "1) my_list_copy = my_list\n",
        "\n",
        "2) my_list_copy = my_list.copy()"
      ],
      "metadata": {
        "id": "Pk_pnTUDdwX1"
      }
    },
    {
      "cell_type": "code",
      "source": [
        "my_list"
      ],
      "metadata": {
        "colab": {
          "base_uri": "https://localhost:8080/"
        },
        "id": "rnoI3ZBhd1x1",
        "outputId": "eac1583c-ab17-4f10-db56-213cbe57b477"
      },
      "execution_count": null,
      "outputs": [
        {
          "output_type": "execute_result",
          "data": {
            "text/plain": [
              "[False, 1, 2, 3, 4, True, 'Python', 'ML']"
            ]
          },
          "metadata": {},
          "execution_count": 20
        }
      ]
    },
    {
      "cell_type": "code",
      "source": [
        "my_list_copy = my_list\n"
      ],
      "metadata": {
        "id": "HAMZ5oQAd49F"
      },
      "execution_count": null,
      "outputs": []
    },
    {
      "cell_type": "code",
      "source": [
        "print(my_list)\n",
        "print(my_list_copy)"
      ],
      "metadata": {
        "colab": {
          "base_uri": "https://localhost:8080/"
        },
        "id": "q01TBKPvd727",
        "outputId": "34745214-fbe4-4d63-e59b-f7afcaee346a"
      },
      "execution_count": null,
      "outputs": [
        {
          "output_type": "stream",
          "name": "stdout",
          "text": [
            "[False, 1, 2, 3, 4, True, 'Python', 'ML']\n",
            "[False, 1, 2, 3, 4, True, 'Python', 'ML']\n"
          ]
        }
      ]
    },
    {
      "cell_type": "code",
      "source": [
        "my_list_copy = my_list.copy()\n",
        "print(my_list)\n",
        "print(my_list_copy)"
      ],
      "metadata": {
        "colab": {
          "base_uri": "https://localhost:8080/"
        },
        "id": "jkub-vIFd-mi",
        "outputId": "99be15c7-d893-48e0-96b7-1075e59f320b"
      },
      "execution_count": null,
      "outputs": [
        {
          "output_type": "stream",
          "name": "stdout",
          "text": [
            "[False, 1, 2, 3, 4, True, 'Python', 'ML']\n",
            "[False, 1, 2, 3, 4, True, 'Python', 'ML']\n"
          ]
        }
      ]
    },
    {
      "cell_type": "markdown",
      "source": [
        "**Problem with assignment (=)**"
      ],
      "metadata": {
        "id": "wyvy8xTXexXe"
      }
    },
    {
      "cell_type": "code",
      "source": [
        "my_list_copy = my_list\n",
        "print(my_list)"
      ],
      "metadata": {
        "colab": {
          "base_uri": "https://localhost:8080/"
        },
        "id": "6tn7RM9ke1YF",
        "outputId": "f36a20df-49b9-4765-f417-8b64c377843e"
      },
      "execution_count": null,
      "outputs": [
        {
          "output_type": "stream",
          "name": "stdout",
          "text": [
            "[False, 1, 2, 3, 4, True, 'Python', 'ML']\n"
          ]
        }
      ]
    },
    {
      "cell_type": "code",
      "source": [
        "print(my_list_copy)"
      ],
      "metadata": {
        "colab": {
          "base_uri": "https://localhost:8080/"
        },
        "id": "hQcq0wMYe4Hb",
        "outputId": "dce9cac8-4553-4ed4-ef4b-7fd157ce81fe"
      },
      "execution_count": null,
      "outputs": [
        {
          "output_type": "stream",
          "name": "stdout",
          "text": [
            "[False, 1, 2, 3, 4, True, 'Python', 'ML']\n"
          ]
        }
      ]
    },
    {
      "cell_type": "code",
      "source": [
        "my_list_copy[0] = 100\n"
      ],
      "metadata": {
        "id": "UeC0G-Xye6ox"
      },
      "execution_count": null,
      "outputs": []
    },
    {
      "cell_type": "code",
      "source": [
        "my_list_copy"
      ],
      "metadata": {
        "colab": {
          "base_uri": "https://localhost:8080/"
        },
        "id": "CoXbfIaNe-BC",
        "outputId": "84d6fec5-0e9d-4261-9931-d5f1757393a9"
      },
      "execution_count": null,
      "outputs": [
        {
          "output_type": "execute_result",
          "data": {
            "text/plain": [
              "[100, 1, 2, 3, 4, True, 'Python', 'ML']"
            ]
          },
          "metadata": {},
          "execution_count": 27
        }
      ]
    },
    {
      "cell_type": "markdown",
      "source": [
        "**Note: original list is also getting modified**\n"
      ],
      "metadata": {
        "id": "R1vcGA3gfBYR"
      }
    },
    {
      "cell_type": "code",
      "source": [
        "my_list"
      ],
      "metadata": {
        "colab": {
          "base_uri": "https://localhost:8080/"
        },
        "id": "_hPBgsbJfFCh",
        "outputId": "96c483ab-bdbf-41a3-cab2-2cdba985ccf3"
      },
      "execution_count": null,
      "outputs": [
        {
          "output_type": "execute_result",
          "data": {
            "text/plain": [
              "[100, 1, 2, 3, 4, True, 'Python', 'ML']"
            ]
          },
          "metadata": {},
          "execution_count": 28
        }
      ]
    },
    {
      "cell_type": "markdown",
      "source": [
        "# **3) .copy()**\n"
      ],
      "metadata": {
        "id": "LN8jXSzRfM9E"
      }
    },
    {
      "cell_type": "code",
      "source": [
        "my_list_copy = my_list.copy()\n",
        "print(my_list)"
      ],
      "metadata": {
        "colab": {
          "base_uri": "https://localhost:8080/"
        },
        "id": "8u_hfzH9fRWt",
        "outputId": "b808281e-a81b-4162-ce96-829122b86c4c"
      },
      "execution_count": null,
      "outputs": [
        {
          "output_type": "stream",
          "name": "stdout",
          "text": [
            "[100, 1, 2, 3, 4, True, 'Python', 'ML']\n"
          ]
        }
      ]
    },
    {
      "cell_type": "code",
      "source": [
        "my_list_copy"
      ],
      "metadata": {
        "colab": {
          "base_uri": "https://localhost:8080/"
        },
        "id": "XVL3anFIfUQ2",
        "outputId": "3a937f2a-0bcf-46c9-8917-fa83440b2056"
      },
      "execution_count": null,
      "outputs": [
        {
          "output_type": "execute_result",
          "data": {
            "text/plain": [
              "[100, 1, 2, 3, 4, True, 'Python', 'ML']"
            ]
          },
          "metadata": {},
          "execution_count": 30
        }
      ]
    },
    {
      "cell_type": "code",
      "source": [
        "my_list_copy[0] = 0\n"
      ],
      "metadata": {
        "id": "Nx0LkhzIfW5j"
      },
      "execution_count": null,
      "outputs": []
    },
    {
      "cell_type": "code",
      "source": [
        "my_list_copy\n"
      ],
      "metadata": {
        "colab": {
          "base_uri": "https://localhost:8080/"
        },
        "id": "gaQVQNWdfaF9",
        "outputId": "43c56228-9126-47a0-98cf-f767791022c3"
      },
      "execution_count": null,
      "outputs": [
        {
          "output_type": "execute_result",
          "data": {
            "text/plain": [
              "[0, 1, 2, 3, 4, True, 'Python', 'ML']"
            ]
          },
          "metadata": {},
          "execution_count": 32
        }
      ]
    },
    {
      "cell_type": "markdown",
      "source": [
        "**Note: Original list is not getting modified**\n"
      ],
      "metadata": {
        "id": "2EXvdSsWfeRZ"
      }
    },
    {
      "cell_type": "code",
      "source": [
        "my_list"
      ],
      "metadata": {
        "colab": {
          "base_uri": "https://localhost:8080/"
        },
        "id": "VwyF9KBNfhc4",
        "outputId": "45dcfa68-b00f-428b-ab1a-5217693fbe1b"
      },
      "execution_count": null,
      "outputs": [
        {
          "output_type": "execute_result",
          "data": {
            "text/plain": [
              "[100, 1, 2, 3, 4, True, 'Python', 'ML']"
            ]
          },
          "metadata": {},
          "execution_count": 33
        }
      ]
    },
    {
      "cell_type": "markdown",
      "source": [
        "# **4) .extend()**\n",
        "syntax ----> list1.extend(list2)"
      ],
      "metadata": {
        "id": "I4wZRvYNflIp"
      }
    },
    {
      "cell_type": "code",
      "source": [
        "list1 = [1,2,3,4]\n",
        "list2 = ['a','b','c','d']\n",
        "list3 = [True,False]\n",
        "\n",
        "list1.extend(list2)\n",
        "list1.extend(list3)\n",
        "list1"
      ],
      "metadata": {
        "colab": {
          "base_uri": "https://localhost:8080/"
        },
        "id": "vUXcP8ATfo0I",
        "outputId": "92f47978-dfb3-480a-f717-dd29ca030536"
      },
      "execution_count": null,
      "outputs": [
        {
          "output_type": "execute_result",
          "data": {
            "text/plain": [
              "[1, 2, 3, 4, 'a', 'b', 'c', 'd', True, False]"
            ]
          },
          "metadata": {},
          "execution_count": 34
        }
      ]
    },
    {
      "cell_type": "code",
      "source": [
        "# similar to addition of lists\n",
        "list1 = [1,2,3,4]\n",
        "list2 = ['a','b','c','d']\n",
        "list3 = [True,False]\n",
        "\n",
        "list1 = list1+list2+list3\n",
        "list1"
      ],
      "metadata": {
        "colab": {
          "base_uri": "https://localhost:8080/"
        },
        "id": "P5AnZAaNfrs4",
        "outputId": "3eee4845-ee2f-4eeb-a4f4-d534f912d644"
      },
      "execution_count": null,
      "outputs": [
        {
          "output_type": "execute_result",
          "data": {
            "text/plain": [
              "[1, 2, 3, 4, 'a', 'b', 'c', 'd', True, False]"
            ]
          },
          "metadata": {},
          "execution_count": 35
        }
      ]
    },
    {
      "cell_type": "markdown",
      "source": [
        "# **5) .pop(index)**\n",
        "removes the element from specified index and returns the element."
      ],
      "metadata": {
        "id": "vbl44nSvfvXw"
      }
    },
    {
      "cell_type": "code",
      "source": [
        "list1 = [1,2,3,4,5,6,7,8,9]\n"
      ],
      "metadata": {
        "id": "Buag5ExLfy6S"
      },
      "execution_count": null,
      "outputs": []
    },
    {
      "cell_type": "code",
      "source": [
        "rem = list1.pop(2)\n"
      ],
      "metadata": {
        "id": "ZKOWQXY1f2KQ"
      },
      "execution_count": null,
      "outputs": []
    },
    {
      "cell_type": "code",
      "source": [
        "print(rem)"
      ],
      "metadata": {
        "colab": {
          "base_uri": "https://localhost:8080/"
        },
        "id": "Ibo53_UKf473",
        "outputId": "7b9cf73a-e4c9-40f8-ff4e-27099e911042"
      },
      "execution_count": null,
      "outputs": [
        {
          "output_type": "stream",
          "name": "stdout",
          "text": [
            "3\n"
          ]
        }
      ]
    },
    {
      "cell_type": "code",
      "source": [
        "list1"
      ],
      "metadata": {
        "colab": {
          "base_uri": "https://localhost:8080/"
        },
        "id": "rWmzGzNPf8aq",
        "outputId": "f9b47335-b5ef-464f-c677-d02c8381bbe0"
      },
      "execution_count": null,
      "outputs": [
        {
          "output_type": "execute_result",
          "data": {
            "text/plain": [
              "[1, 2, 4, 5, 6, 7, 8, 9]"
            ]
          },
          "metadata": {},
          "execution_count": 39
        }
      ]
    },
    {
      "cell_type": "markdown",
      "source": [
        "# **Exercises on List**\n"
      ],
      "metadata": {
        "id": "kGNRD9QLgK9e"
      }
    },
    {
      "cell_type": "code",
      "source": [
        "list1 = [[1,2,3],[4,5,6],[7,8,9]]\n",
        "list1"
      ],
      "metadata": {
        "colab": {
          "base_uri": "https://localhost:8080/"
        },
        "id": "3VXZRTU9gQtr",
        "outputId": "55f14b55-f95a-4435-d411-68d0cf51ce31"
      },
      "execution_count": null,
      "outputs": [
        {
          "output_type": "execute_result",
          "data": {
            "text/plain": [
              "[[1, 2, 3], [4, 5, 6], [7, 8, 9]]"
            ]
          },
          "metadata": {},
          "execution_count": 40
        }
      ]
    },
    {
      "cell_type": "code",
      "source": [
        "#to access element 1\n",
        "list1[0][0]"
      ],
      "metadata": {
        "colab": {
          "base_uri": "https://localhost:8080/"
        },
        "id": "MFYgLL9QgUPy",
        "outputId": "4bddd378-44bf-42bc-cd55-98a3439d608b"
      },
      "execution_count": null,
      "outputs": [
        {
          "output_type": "execute_result",
          "data": {
            "text/plain": [
              "1"
            ]
          },
          "metadata": {},
          "execution_count": 41
        }
      ]
    },
    {
      "cell_type": "code",
      "source": [
        "#to access elemnt 5\n",
        "list1[1][1]"
      ],
      "metadata": {
        "colab": {
          "base_uri": "https://localhost:8080/"
        },
        "id": "rmhyILXjgXNJ",
        "outputId": "8eb3331f-c991-4ed8-e4a2-4270b045f98e"
      },
      "execution_count": null,
      "outputs": [
        {
          "output_type": "execute_result",
          "data": {
            "text/plain": [
              "5"
            ]
          },
          "metadata": {},
          "execution_count": 42
        }
      ]
    },
    {
      "cell_type": "code",
      "source": [
        "#to access 8\n",
        "list1[2][1]"
      ],
      "metadata": {
        "colab": {
          "base_uri": "https://localhost:8080/"
        },
        "id": "kbnc3X-zgZ4i",
        "outputId": "6b8cc03f-f833-49e5-d3ce-19f045b73755"
      },
      "execution_count": null,
      "outputs": [
        {
          "output_type": "execute_result",
          "data": {
            "text/plain": [
              "8"
            ]
          },
          "metadata": {},
          "execution_count": 43
        }
      ]
    },
    {
      "cell_type": "code",
      "source": [
        ""
      ],
      "metadata": {
        "id": "Ih86YyvPgeEi"
      },
      "execution_count": null,
      "outputs": []
    },
    {
      "cell_type": "code",
      "source": [
        "list2 = [1,2,[3,4,5,6,[7,8,9]]]\n",
        "list2"
      ],
      "metadata": {
        "colab": {
          "base_uri": "https://localhost:8080/"
        },
        "id": "t5dBPrWcgeRU",
        "outputId": "bacb840b-b985-4396-d776-921f8bad6ce5"
      },
      "execution_count": null,
      "outputs": [
        {
          "output_type": "execute_result",
          "data": {
            "text/plain": [
              "[1, 2, [3, 4, 5, 6, [7, 8, 9]]]"
            ]
          },
          "metadata": {},
          "execution_count": 44
        }
      ]
    },
    {
      "cell_type": "code",
      "source": [
        "#to access element 2\n",
        "list2[1]"
      ],
      "metadata": {
        "colab": {
          "base_uri": "https://localhost:8080/"
        },
        "id": "ef-nis_6gfuU",
        "outputId": "2f42ba45-7fd4-434b-b825-a336dc45639a"
      },
      "execution_count": null,
      "outputs": [
        {
          "output_type": "execute_result",
          "data": {
            "text/plain": [
              "2"
            ]
          },
          "metadata": {},
          "execution_count": 45
        }
      ]
    },
    {
      "cell_type": "code",
      "source": [
        "#to access element 4\n",
        "list2[2][1]"
      ],
      "metadata": {
        "colab": {
          "base_uri": "https://localhost:8080/"
        },
        "id": "R92YxoH9gkLV",
        "outputId": "5cf5e7fb-0936-45db-9067-e3afe3abf383"
      },
      "execution_count": null,
      "outputs": [
        {
          "output_type": "execute_result",
          "data": {
            "text/plain": [
              "4"
            ]
          },
          "metadata": {},
          "execution_count": 46
        }
      ]
    },
    {
      "cell_type": "code",
      "source": [
        "#to access elements 7,8,9\n",
        "list2[2][4]"
      ],
      "metadata": {
        "colab": {
          "base_uri": "https://localhost:8080/"
        },
        "id": "WKpxWFWmgnFd",
        "outputId": "c3f76194-7f6c-4a8d-e3bb-260ec283fbc5"
      },
      "execution_count": null,
      "outputs": [
        {
          "output_type": "execute_result",
          "data": {
            "text/plain": [
              "[7, 8, 9]"
            ]
          },
          "metadata": {},
          "execution_count": 47
        }
      ]
    },
    {
      "cell_type": "code",
      "source": [
        "#to access element 9\n",
        "list2[2][4][2]"
      ],
      "metadata": {
        "colab": {
          "base_uri": "https://localhost:8080/"
        },
        "id": "RkQU7jlMgpv-",
        "outputId": "4af79cda-ca61-4c7a-e6aa-cbcaf655e92c"
      },
      "execution_count": null,
      "outputs": [
        {
          "output_type": "execute_result",
          "data": {
            "text/plain": [
              "9"
            ]
          },
          "metadata": {},
          "execution_count": 48
        }
      ]
    },
    {
      "cell_type": "code",
      "source": [
        "#to access 3,4,5,6\n",
        "list2[2][:4]"
      ],
      "metadata": {
        "id": "yeuP6ewWgtfG",
        "outputId": "d902a1fa-2e0a-4d57-b2ac-a0f81e0f08b3",
        "colab": {
          "base_uri": "https://localhost:8080/"
        }
      },
      "execution_count": null,
      "outputs": [
        {
          "output_type": "execute_result",
          "data": {
            "text/plain": [
              "[3, 4, 5, 6]"
            ]
          },
          "metadata": {},
          "execution_count": 49
        }
      ]
    }
  ]
}