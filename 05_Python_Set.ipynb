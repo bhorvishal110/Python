{
  "nbformat": 4,
  "nbformat_minor": 0,
  "metadata": {
    "colab": {
      "name": "05. Python Set.ipynb",
      "provenance": []
    },
    "kernelspec": {
      "name": "python3",
      "display_name": "Python 3"
    },
    "language_info": {
      "name": "python"
    }
  },
  "cells": [
    {
      "cell_type": "markdown",
      "source": [
        "# **Python Sets**\n",
        "Set Sets are used to store multiple items in a single variable.\n",
        "\n",
        "Set is one of 4 built-in data types in Python used to store collections of data, the other 3 are List, Tuple, and Dictionary, all with different qualities and usage.\n",
        "\n",
        "A set is a collection which is unordered, unchangeable*, and unindexed.\n",
        "\n",
        "Note: Set items are unchangeable, but you can remove items and add new items. Sets are written with curly brackets."
      ],
      "metadata": {
        "id": "Ouxaxd1YAey1"
      }
    },
    {
      "cell_type": "code",
      "source": [
        "myset = {\"apple\", \"banana\", \"cherry\"}"
      ],
      "metadata": {
        "id": "x3UE4dgvAkfF"
      },
      "execution_count": 1,
      "outputs": []
    },
    {
      "cell_type": "code",
      "source": [
        "# Example\n",
        "# Create a Set:\n",
        "\n",
        "thisset = {\"apple\", \"banana\", \"cherry\"}\n",
        "print(thisset)"
      ],
      "metadata": {
        "colab": {
          "base_uri": "https://localhost:8080/"
        },
        "id": "NL8U7fN7AqID",
        "outputId": "6245acef-89fa-4f33-a8fc-b92499bfddf6"
      },
      "execution_count": 2,
      "outputs": [
        {
          "output_type": "stream",
          "name": "stdout",
          "text": [
            "{'apple', 'cherry', 'banana'}\n"
          ]
        }
      ]
    },
    {
      "cell_type": "markdown",
      "source": [
        "Note: **Sets are unordered**, so you cannot be sure in which order the items will appear.\n",
        "\n",
        "Set Items Set items are **unordered, unchangeable, and do not allow duplicate values.**\n",
        "\n",
        "**Unordered** Unordered means that the items in a set do not have a defined order.\n",
        "\n",
        "Set items can appear in a different order every time you use them, and c**annot be referred to by index or key.**\n",
        "\n",
        "**Unchangeable** Set items are unchangeable, meaning that we cannot change the items after the set has been created.\n",
        "\n",
        "Once a set is created, you **cannot change its items**, but you can remove items and add new items.\n",
        "\n",
        "**Duplicates Not Allowed** Sets cannot have two items with the same value."
      ],
      "metadata": {
        "id": "hxwWVmG3Aust"
      }
    },
    {
      "cell_type": "code",
      "source": [
        "# Example\n",
        "# Duplicate values will be ignored:\n",
        "\n",
        "thisset = {\"apple\", \"banana\", \"cherry\", \"apple\"}\n",
        "\n",
        "print(thisset)"
      ],
      "metadata": {
        "colab": {
          "base_uri": "https://localhost:8080/"
        },
        "id": "FnGQdcgoBIk7",
        "outputId": "36507dbb-a767-4805-ac6e-9e192e4b618e"
      },
      "execution_count": 3,
      "outputs": [
        {
          "output_type": "stream",
          "name": "stdout",
          "text": [
            "{'apple', 'cherry', 'banana'}\n"
          ]
        }
      ]
    },
    {
      "cell_type": "markdown",
      "source": [
        "Get the Length of a Set To determine how many items a set has, use the **len() method.**"
      ],
      "metadata": {
        "id": "OlmMpyQJBMZy"
      }
    },
    {
      "cell_type": "code",
      "source": [
        "# Example\n",
        "# Get the number of items in a set:\n",
        "\n",
        "thisset = {\"apple\", \"banana\", \"cherry\"}\n",
        "\n",
        "print(len(thisset))"
      ],
      "metadata": {
        "colab": {
          "base_uri": "https://localhost:8080/"
        },
        "id": "jlju4cu3BPvl",
        "outputId": "83eda9bc-0064-435f-927b-2ff4fc74ec4d"
      },
      "execution_count": 4,
      "outputs": [
        {
          "output_type": "stream",
          "name": "stdout",
          "text": [
            "3\n"
          ]
        }
      ]
    },
    {
      "cell_type": "markdown",
      "source": [
        "# **Set Items - Data Types**\n",
        "Set items can be of any data type:"
      ],
      "metadata": {
        "id": "A__nkkduBZk8"
      }
    },
    {
      "cell_type": "code",
      "source": [
        "# Example\n",
        "# String, int and boolean data types:\n",
        "\n",
        "set1 = {\"apple\", \"banana\", \"cherry\"}\n",
        "set2 = {1, 5, 7, 9, 3}\n",
        "set3 = {True, False, False}"
      ],
      "metadata": {
        "id": "liml7qM3Bgn7"
      },
      "execution_count": 5,
      "outputs": []
    },
    {
      "cell_type": "markdown",
      "source": [
        "A set can contain different data types:"
      ],
      "metadata": {
        "id": "CPUcvc4aBkVD"
      }
    },
    {
      "cell_type": "code",
      "source": [
        "# Example\n",
        "# A set with strings, integers and boolean values:\n",
        "set1 = {\"abc\", 34, True, 40, \"male\"}"
      ],
      "metadata": {
        "id": "mHIv_-jKBmVV"
      },
      "execution_count": 6,
      "outputs": []
    },
    {
      "cell_type": "markdown",
      "source": [
        "type() From Python's perspective, sets are defined as objects with the data type 'set':\n",
        "\n",
        "<class 'set'>"
      ],
      "metadata": {
        "id": "ANnf4mu-BuJ8"
      }
    },
    {
      "cell_type": "code",
      "source": [
        "# Example\n",
        "# What is the data type of a set?\n",
        "\n",
        "myset = {\"apple\", \"banana\", \"cherry\"}\n",
        "print(type(myset))"
      ],
      "metadata": {
        "colab": {
          "base_uri": "https://localhost:8080/"
        },
        "id": "lhnw1_aJBw4M",
        "outputId": "f17f075c-a3fb-4cb2-d00a-a19e447bbb84"
      },
      "execution_count": 7,
      "outputs": [
        {
          "output_type": "stream",
          "name": "stdout",
          "text": [
            "<class 'set'>\n"
          ]
        }
      ]
    },
    {
      "cell_type": "markdown",
      "source": [
        "**The set() Constructor** It is also possible to use the set() constructor to make a set."
      ],
      "metadata": {
        "id": "DyvkMMTrB0RT"
      }
    },
    {
      "cell_type": "code",
      "source": [
        "# Example\n",
        "# Using the set() constructor to make a set:\n",
        "\n",
        "thisset = set((\"apple\", \"banana\", \"cherry\")) # note the double round-brackets\n",
        "print(thisset)"
      ],
      "metadata": {
        "colab": {
          "base_uri": "https://localhost:8080/"
        },
        "id": "xA0VtHb9B3nF",
        "outputId": "9c9dfc0b-060f-47d5-d81c-cf0d17e24773"
      },
      "execution_count": 8,
      "outputs": [
        {
          "output_type": "stream",
          "name": "stdout",
          "text": [
            "{'apple', 'cherry', 'banana'}\n"
          ]
        }
      ]
    },
    {
      "cell_type": "markdown",
      "source": [
        "# **Indexing and Slicing is not allowed in sets**\n"
      ],
      "metadata": {
        "id": "Hbih-JYbDjOb"
      }
    },
    {
      "cell_type": "code",
      "source": [
        "set4 = {2,3,4.4,True,\"python\"}\n",
        "set5 = {1,2,3,4,1,2,1,1,4,3}\n",
        "set6 = {\"a\",1,\"b\",2,3}"
      ],
      "metadata": {
        "id": "g695AhvtDqN6"
      },
      "execution_count": 11,
      "outputs": []
    },
    {
      "cell_type": "code",
      "source": [
        "# try to index\n",
        "set4[0]"
      ],
      "metadata": {
        "colab": {
          "base_uri": "https://localhost:8080/",
          "height": 182
        },
        "id": "3xT4ZGYKDzEx",
        "outputId": "d5ee7c3d-19a4-4d53-9b31-c078c4da5185"
      },
      "execution_count": 13,
      "outputs": [
        {
          "output_type": "error",
          "ename": "TypeError",
          "evalue": "ignored",
          "traceback": [
            "\u001b[0;31m---------------------------------------------------------------------------\u001b[0m",
            "\u001b[0;31mTypeError\u001b[0m                                 Traceback (most recent call last)",
            "\u001b[0;32m<ipython-input-13-afe526be81b7>\u001b[0m in \u001b[0;36m<module>\u001b[0;34m()\u001b[0m\n\u001b[1;32m      1\u001b[0m \u001b[0;31m# try to index\u001b[0m\u001b[0;34m\u001b[0m\u001b[0;34m\u001b[0m\u001b[0;34m\u001b[0m\u001b[0m\n\u001b[0;32m----> 2\u001b[0;31m \u001b[0mset4\u001b[0m\u001b[0;34m[\u001b[0m\u001b[0;36m0\u001b[0m\u001b[0;34m]\u001b[0m\u001b[0;34m\u001b[0m\u001b[0;34m\u001b[0m\u001b[0m\n\u001b[0m",
            "\u001b[0;31mTypeError\u001b[0m: 'set' object is not subscriptable"
          ]
        }
      ]
    },
    {
      "cell_type": "markdown",
      "source": [
        "# **Empty set**\n"
      ],
      "metadata": {
        "id": "mwcg4mVGEGPs"
      }
    },
    {
      "cell_type": "code",
      "source": [
        "set7 = {}\n",
        "set7"
      ],
      "metadata": {
        "colab": {
          "base_uri": "https://localhost:8080/"
        },
        "id": "ok-1Jo-dEJay",
        "outputId": "9614dc18-db00-481c-f275-741276b4177d"
      },
      "execution_count": 17,
      "outputs": [
        {
          "output_type": "execute_result",
          "data": {
            "text/plain": [
              "{}"
            ]
          },
          "metadata": {},
          "execution_count": 17
        }
      ]
    },
    {
      "cell_type": "code",
      "source": [
        "type(set7)\n"
      ],
      "metadata": {
        "colab": {
          "base_uri": "https://localhost:8080/"
        },
        "id": "bYNU65e9ELPD",
        "outputId": "efd1e952-0e12-414d-9cd1-6fbdba1256ee"
      },
      "execution_count": 18,
      "outputs": [
        {
          "output_type": "execute_result",
          "data": {
            "text/plain": [
              "dict"
            ]
          },
          "metadata": {},
          "execution_count": 18
        }
      ]
    },
    {
      "cell_type": "code",
      "source": [
        "# to create empty sets\n",
        "set4 = set()\n",
        "type(set4)"
      ],
      "metadata": {
        "colab": {
          "base_uri": "https://localhost:8080/"
        },
        "id": "aNVaTIUsEeuE",
        "outputId": "95462a78-3eee-49b7-b8ea-54c85892f47b"
      },
      "execution_count": 19,
      "outputs": [
        {
          "output_type": "execute_result",
          "data": {
            "text/plain": [
              "set"
            ]
          },
          "metadata": {},
          "execution_count": 19
        }
      ]
    },
    {
      "cell_type": "markdown",
      "source": [
        "# **Mutablility**\n",
        "Once set is created you can add and remove the elements from the set, but you cannot modify the existing elements in a set"
      ],
      "metadata": {
        "id": "cbBClNbxEz9w"
      }
    },
    {
      "cell_type": "markdown",
      "source": [
        "**In built methods.**\n",
        "\n",
        "**To add the elements**\n",
        "\n",
        "**1) add(item)**\n",
        "\n",
        "adds single item to the set"
      ],
      "metadata": {
        "id": "lGxaQT8pE7zC"
      }
    },
    {
      "cell_type": "code",
      "source": [
        "set1 = {1,2,3,4,6}\n",
        "# set1\n",
        "set1.add(6)\n",
        "print(set1)"
      ],
      "metadata": {
        "colab": {
          "base_uri": "https://localhost:8080/"
        },
        "id": "dPPRsxiXFNO8",
        "outputId": "70abc2c7-8a10-4800-c070-767418da7bf4"
      },
      "execution_count": 20,
      "outputs": [
        {
          "output_type": "stream",
          "name": "stdout",
          "text": [
            "{1, 2, 3, 4, 6}\n"
          ]
        }
      ]
    },
    {
      "cell_type": "code",
      "source": [
        "set1.add(7)\n",
        "set1"
      ],
      "metadata": {
        "colab": {
          "base_uri": "https://localhost:8080/"
        },
        "id": "AusuOnU9FPh0",
        "outputId": "87cee1d3-1511-4f3e-aec5-2f279537ad67"
      },
      "execution_count": 21,
      "outputs": [
        {
          "output_type": "execute_result",
          "data": {
            "text/plain": [
              "{1, 2, 3, 4, 6, 7}"
            ]
          },
          "metadata": {},
          "execution_count": 21
        }
      ]
    },
    {
      "cell_type": "markdown",
      "source": [
        "**2) .update(list)**\n",
        "\n",
        "this method is used to add more than one items. All the items should be passed in the form of lists "
      ],
      "metadata": {
        "id": "mcZxE7MzFT1E"
      }
    },
    {
      "cell_type": "code",
      "source": [
        "set1 = {1,2,3,4,5}\n",
        "set1.update([6,7,8]) # pass list of values to set1"
      ],
      "metadata": {
        "id": "_j8erL5nFbSU"
      },
      "execution_count": 22,
      "outputs": []
    },
    {
      "cell_type": "code",
      "source": [
        "set1"
      ],
      "metadata": {
        "colab": {
          "base_uri": "https://localhost:8080/"
        },
        "id": "TZjOXnE5FexX",
        "outputId": "6fb8fa05-b123-43c2-f67b-ab8a27ce7a3f"
      },
      "execution_count": 23,
      "outputs": [
        {
          "output_type": "execute_result",
          "data": {
            "text/plain": [
              "{1, 2, 3, 4, 5, 6, 7, 8}"
            ]
          },
          "metadata": {},
          "execution_count": 23
        }
      ]
    },
    {
      "cell_type": "markdown",
      "source": [
        "**3) copy()**\n",
        "\n",
        "to copy a set"
      ],
      "metadata": {
        "id": "uy7lM6wmFjZ8"
      }
    },
    {
      "cell_type": "code",
      "source": [
        "set2 = set1.copy()\n",
        "set2"
      ],
      "metadata": {
        "colab": {
          "base_uri": "https://localhost:8080/"
        },
        "id": "lxw993OxFm3T",
        "outputId": "c4138058-1ce7-402d-e4f1-ec2acac6b082"
      },
      "execution_count": 24,
      "outputs": [
        {
          "output_type": "execute_result",
          "data": {
            "text/plain": [
              "{1, 2, 3, 4, 5, 6, 7, 8}"
            ]
          },
          "metadata": {},
          "execution_count": 24
        }
      ]
    },
    {
      "cell_type": "markdown",
      "source": [
        "**# To remove the items**\n",
        "\n",
        "**4) remove(item)**\n",
        "\n",
        "removes the specified item from the set. If specified item is not present it will raise error\n",
        "\n"
      ],
      "metadata": {
        "id": "uE-ZP5nuFr4d"
      }
    },
    {
      "cell_type": "code",
      "source": [
        "set1"
      ],
      "metadata": {
        "colab": {
          "base_uri": "https://localhost:8080/"
        },
        "id": "cntz_N1jF3rF",
        "outputId": "2a1b4053-0fa6-4571-f947-3d44f3995a52"
      },
      "execution_count": 25,
      "outputs": [
        {
          "output_type": "execute_result",
          "data": {
            "text/plain": [
              "{1, 2, 3, 4, 5, 6, 7, 8}"
            ]
          },
          "metadata": {},
          "execution_count": 25
        }
      ]
    },
    {
      "cell_type": "code",
      "source": [
        "set1.remove(1)\n",
        "set1"
      ],
      "metadata": {
        "colab": {
          "base_uri": "https://localhost:8080/"
        },
        "id": "cUdg87uUF6uP",
        "outputId": "f0b0252f-7c11-4719-d566-ecc11fa059d7"
      },
      "execution_count": 26,
      "outputs": [
        {
          "output_type": "execute_result",
          "data": {
            "text/plain": [
              "{2, 3, 4, 5, 6, 7, 8}"
            ]
          },
          "metadata": {},
          "execution_count": 26
        }
      ]
    },
    {
      "cell_type": "code",
      "source": [
        "set1.remove(2)\n",
        "set1"
      ],
      "metadata": {
        "colab": {
          "base_uri": "https://localhost:8080/"
        },
        "id": "UOEdMBQwF892",
        "outputId": "7c7a9639-87aa-4f65-90f0-41bd6ab55fc0"
      },
      "execution_count": 27,
      "outputs": [
        {
          "output_type": "execute_result",
          "data": {
            "text/plain": [
              "{3, 4, 5, 6, 7, 8}"
            ]
          },
          "metadata": {},
          "execution_count": 27
        }
      ]
    },
    {
      "cell_type": "code",
      "source": [
        "#Gives error because 2 is not present\n",
        "set1.remove(2)\n",
        "set1"
      ],
      "metadata": {
        "colab": {
          "base_uri": "https://localhost:8080/",
          "height": 200
        },
        "id": "4NGe_NVnGDgG",
        "outputId": "88f2698b-24f8-466f-d5da-a0068be26aa6"
      },
      "execution_count": 28,
      "outputs": [
        {
          "output_type": "error",
          "ename": "KeyError",
          "evalue": "ignored",
          "traceback": [
            "\u001b[0;31m---------------------------------------------------------------------------\u001b[0m",
            "\u001b[0;31mKeyError\u001b[0m                                  Traceback (most recent call last)",
            "\u001b[0;32m<ipython-input-28-a686c1823738>\u001b[0m in \u001b[0;36m<module>\u001b[0;34m()\u001b[0m\n\u001b[1;32m      1\u001b[0m \u001b[0;31m#Gives error because 2 is not present\u001b[0m\u001b[0;34m\u001b[0m\u001b[0;34m\u001b[0m\u001b[0;34m\u001b[0m\u001b[0m\n\u001b[0;32m----> 2\u001b[0;31m \u001b[0mset1\u001b[0m\u001b[0;34m.\u001b[0m\u001b[0mremove\u001b[0m\u001b[0;34m(\u001b[0m\u001b[0;36m2\u001b[0m\u001b[0;34m)\u001b[0m\u001b[0;34m\u001b[0m\u001b[0;34m\u001b[0m\u001b[0m\n\u001b[0m\u001b[1;32m      3\u001b[0m \u001b[0mset1\u001b[0m\u001b[0;34m\u001b[0m\u001b[0;34m\u001b[0m\u001b[0m\n",
            "\u001b[0;31mKeyError\u001b[0m: 2"
          ]
        }
      ]
    },
    {
      "cell_type": "markdown",
      "source": [
        "**5) discard(item)**\n",
        "\n",
        "removes the specified item from the set.But if the item is not present then it will not raise error"
      ],
      "metadata": {
        "id": "MDpLyAx1GLiY"
      }
    },
    {
      "cell_type": "code",
      "source": [
        "set1 = {1,2,3,4,5,6}\n",
        "set1"
      ],
      "metadata": {
        "colab": {
          "base_uri": "https://localhost:8080/"
        },
        "id": "Mb_ZFZl0GP94",
        "outputId": "ad608abd-c639-424c-a765-308336b6d529"
      },
      "execution_count": 29,
      "outputs": [
        {
          "output_type": "execute_result",
          "data": {
            "text/plain": [
              "{1, 2, 3, 4, 5, 6}"
            ]
          },
          "metadata": {},
          "execution_count": 29
        }
      ]
    },
    {
      "cell_type": "code",
      "source": [
        "set1.discard(1)\n",
        "set1"
      ],
      "metadata": {
        "colab": {
          "base_uri": "https://localhost:8080/"
        },
        "id": "E0PAMlFHGShx",
        "outputId": "d0dbcb73-011e-44da-cc46-f174030dfc7a"
      },
      "execution_count": 30,
      "outputs": [
        {
          "output_type": "execute_result",
          "data": {
            "text/plain": [
              "{2, 3, 4, 5, 6}"
            ]
          },
          "metadata": {},
          "execution_count": 30
        }
      ]
    },
    {
      "cell_type": "code",
      "source": [
        "set1.discard(2)\n",
        "set1"
      ],
      "metadata": {
        "colab": {
          "base_uri": "https://localhost:8080/"
        },
        "id": "hGgBxWEOGVL4",
        "outputId": "061fc5d6-fc21-46c9-a49e-df57a77ed4ca"
      },
      "execution_count": 31,
      "outputs": [
        {
          "output_type": "execute_result",
          "data": {
            "text/plain": [
              "{3, 4, 5, 6}"
            ]
          },
          "metadata": {},
          "execution_count": 31
        }
      ]
    },
    {
      "cell_type": "code",
      "source": [
        "# will not give the error if 2 is not there\n",
        "set1.discard(2)\n",
        "set1"
      ],
      "metadata": {
        "colab": {
          "base_uri": "https://localhost:8080/"
        },
        "id": "y_tlxTYFGYlN",
        "outputId": "675ce747-b4bb-4e38-bacf-e9b0feda1d2b"
      },
      "execution_count": 32,
      "outputs": [
        {
          "output_type": "execute_result",
          "data": {
            "text/plain": [
              "{3, 4, 5, 6}"
            ]
          },
          "metadata": {},
          "execution_count": 32
        }
      ]
    },
    {
      "cell_type": "markdown",
      "source": [
        "**6) pop()**\n",
        "\n",
        "Sets are unordered, so when using the pop() method, you will not know which item that gets removed."
      ],
      "metadata": {
        "id": "HFhebyCrGbd8"
      }
    },
    {
      "cell_type": "code",
      "source": [
        "set1 = {\"a\",1,\"B\",2,3,\"c\",4}\n",
        "set1.pop()"
      ],
      "metadata": {
        "colab": {
          "base_uri": "https://localhost:8080/"
        },
        "id": "7AG2HxB2GfBc",
        "outputId": "cf74251f-c782-4af0-8d53-a168f0794fe2"
      },
      "execution_count": 33,
      "outputs": [
        {
          "output_type": "execute_result",
          "data": {
            "text/plain": [
              "1"
            ]
          },
          "metadata": {},
          "execution_count": 33
        }
      ]
    },
    {
      "cell_type": "code",
      "source": [
        "set1.pop()\n"
      ],
      "metadata": {
        "colab": {
          "base_uri": "https://localhost:8080/"
        },
        "id": "j2VX8BO4Gjz1",
        "outputId": "0c670816-3e55-43ba-fffa-e4ae317d01bc"
      },
      "execution_count": 34,
      "outputs": [
        {
          "output_type": "execute_result",
          "data": {
            "text/plain": [
              "2"
            ]
          },
          "metadata": {},
          "execution_count": 34
        }
      ]
    },
    {
      "cell_type": "markdown",
      "source": [
        "**7) clear()**\n",
        "\n",
        "empties the set"
      ],
      "metadata": {
        "id": "bt4tmDC8GmnW"
      }
    },
    {
      "cell_type": "code",
      "source": [
        "set1"
      ],
      "metadata": {
        "colab": {
          "base_uri": "https://localhost:8080/"
        },
        "id": "2BsAfqZnGp4t",
        "outputId": "2b73cd09-75fc-4237-fdc9-e3947d133bd5"
      },
      "execution_count": 35,
      "outputs": [
        {
          "output_type": "execute_result",
          "data": {
            "text/plain": [
              "{3, 4, 'B', 'a', 'c'}"
            ]
          },
          "metadata": {},
          "execution_count": 35
        }
      ]
    },
    {
      "cell_type": "code",
      "source": [
        "set1.clear()\n",
        "set1"
      ],
      "metadata": {
        "colab": {
          "base_uri": "https://localhost:8080/"
        },
        "id": "hNHIrqn9GsZF",
        "outputId": "698f4dea-029d-4cc5-efa9-fad411232b23"
      },
      "execution_count": 36,
      "outputs": [
        {
          "output_type": "execute_result",
          "data": {
            "text/plain": [
              "set()"
            ]
          },
          "metadata": {},
          "execution_count": 36
        }
      ]
    },
    {
      "cell_type": "markdown",
      "source": [
        "**#  Other inbuilt methods**\n",
        "\n",
        "**8) union()**\n",
        "\n",
        "returns a new set with all the elements from set1 and set2"
      ],
      "metadata": {
        "id": "u_3JKXquG62g"
      }
    },
    {
      "cell_type": "code",
      "source": [
        "set1 = {1,2,3,4,5}\n",
        "set2 = {4,5,6,7,8}\n",
        "print(set1)\n",
        "print(set2)"
      ],
      "metadata": {
        "colab": {
          "base_uri": "https://localhost:8080/"
        },
        "id": "Jv14S5e0HHkP",
        "outputId": "d9e12a7a-baa5-4583-dd80-35102fab687b"
      },
      "execution_count": 37,
      "outputs": [
        {
          "output_type": "stream",
          "name": "stdout",
          "text": [
            "{1, 2, 3, 4, 5}\n",
            "{4, 5, 6, 7, 8}\n"
          ]
        }
      ]
    },
    {
      "cell_type": "code",
      "source": [
        "set3 = set1.union(set2)\n",
        "set3"
      ],
      "metadata": {
        "colab": {
          "base_uri": "https://localhost:8080/"
        },
        "id": "cHL_I72nHKFv",
        "outputId": "9505adc2-403d-4d11-d99f-8107b7bc9915"
      },
      "execution_count": 38,
      "outputs": [
        {
          "output_type": "execute_result",
          "data": {
            "text/plain": [
              "{1, 2, 3, 4, 5, 6, 7, 8}"
            ]
          },
          "metadata": {},
          "execution_count": 38
        }
      ]
    },
    {
      "cell_type": "markdown",
      "source": [
        "**9) intersection()**\n",
        "\n",
        "returns the common element from both the sets"
      ],
      "metadata": {
        "id": "LC92nRiZHNZH"
      }
    },
    {
      "cell_type": "code",
      "source": [
        "set1"
      ],
      "metadata": {
        "colab": {
          "base_uri": "https://localhost:8080/"
        },
        "id": "gAVWEi52HPuW",
        "outputId": "3fb1e372-521c-42e7-bbe0-c31a33e8895a"
      },
      "execution_count": 39,
      "outputs": [
        {
          "output_type": "execute_result",
          "data": {
            "text/plain": [
              "{1, 2, 3, 4, 5}"
            ]
          },
          "metadata": {},
          "execution_count": 39
        }
      ]
    },
    {
      "cell_type": "code",
      "source": [
        "set2"
      ],
      "metadata": {
        "colab": {
          "base_uri": "https://localhost:8080/"
        },
        "id": "dF7nbaJGHTv8",
        "outputId": "4ef0dea6-dab9-4422-83fe-d0a432493919"
      },
      "execution_count": 40,
      "outputs": [
        {
          "output_type": "execute_result",
          "data": {
            "text/plain": [
              "{4, 5, 6, 7, 8}"
            ]
          },
          "metadata": {},
          "execution_count": 40
        }
      ]
    },
    {
      "cell_type": "code",
      "source": [
        "set3 = set1.intersection(set2)\n",
        "set3"
      ],
      "metadata": {
        "colab": {
          "base_uri": "https://localhost:8080/"
        },
        "id": "C7RCGfV8HWPM",
        "outputId": "fefa1c5f-a26a-44b0-c44a-9870d9f8d252"
      },
      "execution_count": 41,
      "outputs": [
        {
          "output_type": "execute_result",
          "data": {
            "text/plain": [
              "{4, 5}"
            ]
          },
          "metadata": {},
          "execution_count": 41
        }
      ]
    }
  ]
}