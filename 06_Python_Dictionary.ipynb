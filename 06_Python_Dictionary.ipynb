{
  "nbformat": 4,
  "nbformat_minor": 0,
  "metadata": {
    "colab": {
      "name": "06. Python Dictionary.ipynb",
      "provenance": []
    },
    "kernelspec": {
      "name": "python3",
      "display_name": "Python 3"
    },
    "language_info": {
      "name": "python"
    }
  },
  "cells": [
    {
      "cell_type": "markdown",
      "source": [
        "# **Python Dictionaries**\n",
        "**Dictionary** \n",
        "\n",
        "Dictionaries are used to store data values in key:value pairs.\n",
        "\n",
        "A dictionary is a collection which is ordered*, changeable and do not allow duplicates. Dictionaries are written with curly brackets, and have keys and values:\n",
        "\n",
        "**Dictionary Items**\n",
        "\n",
        " Dictionary items are ordered, changeable, and does not allow duplicates.\n",
        "\n",
        "Dictionary items are presented in key:value pairs, and can be referred to by using the key name."
      ],
      "metadata": {
        "id": "OPMeofQ0tSCa"
      }
    },
    {
      "cell_type": "code",
      "source": [
        "thisdict = {\n",
        "  \"brand\": \"Ford\",\n",
        "  \"model\": \"Mustang\",\n",
        "  \"year\": 1964\n",
        "}"
      ],
      "metadata": {
        "id": "2UX3XPSgtZ1Z"
      },
      "execution_count": 1,
      "outputs": []
    },
    {
      "cell_type": "code",
      "source": [
        "#Create and print a dictionary:\n",
        "\n",
        "thisdict = {\n",
        "  \"brand\": \"Ford\",\n",
        "  \"model\": \"Mustang\",\n",
        "  \"year\": 1964,\n",
        "}\n",
        "print(thisdict)"
      ],
      "metadata": {
        "colab": {
          "base_uri": "https://localhost:8080/"
        },
        "id": "eGnBFdOmtd8t",
        "outputId": "71506e09-f2b8-4b6b-cab4-31d13c2f9b9c"
      },
      "execution_count": 2,
      "outputs": [
        {
          "output_type": "stream",
          "name": "stdout",
          "text": [
            "{'brand': 'Ford', 'model': 'Mustang', 'year': 1964}\n"
          ]
        }
      ]
    },
    {
      "cell_type": "code",
      "source": [
        "#Print the \"brand\" value of the dictionary:\n",
        "\n",
        "thisdict = {\n",
        "  \"brand\": \"Ford\",\n",
        "  \"model\": \"Mustang\",\n",
        "  \"year\": 1964\n",
        "}\n",
        "print(thisdict[\"year\"])"
      ],
      "metadata": {
        "colab": {
          "base_uri": "https://localhost:8080/"
        },
        "id": "_VC7G1YQtiaC",
        "outputId": "96784d31-60f3-43bf-880b-d33d41cd1cc8"
      },
      "execution_count": 3,
      "outputs": [
        {
          "output_type": "stream",
          "name": "stdout",
          "text": [
            "1964\n"
          ]
        }
      ]
    },
    {
      "cell_type": "code",
      "source": [
        "# Dictionary Length\n",
        "len(thisdict)"
      ],
      "metadata": {
        "colab": {
          "base_uri": "https://localhost:8080/"
        },
        "id": "uSfPHAMeuNqq",
        "outputId": "35b604f5-3c29-4470-f231-08fef0d0be89"
      },
      "execution_count": 4,
      "outputs": [
        {
          "output_type": "execute_result",
          "data": {
            "text/plain": [
              "3"
            ]
          },
          "metadata": {},
          "execution_count": 4
        }
      ]
    },
    {
      "cell_type": "code",
      "source": [
        "type(thisdict)"
      ],
      "metadata": {
        "colab": {
          "base_uri": "https://localhost:8080/"
        },
        "id": "MraxVXuXuVoy",
        "outputId": "1db0c7ab-e7be-4e96-eeb8-8578640e1b3a"
      },
      "execution_count": 5,
      "outputs": [
        {
          "output_type": "execute_result",
          "data": {
            "text/plain": [
              "dict"
            ]
          },
          "metadata": {},
          "execution_count": 5
        }
      ]
    },
    {
      "cell_type": "markdown",
      "source": [
        "# **Accessing Items**\n"
      ],
      "metadata": {
        "id": "dHWgSQCuuiXC"
      }
    },
    {
      "cell_type": "code",
      "source": [
        "# Example\n",
        "dict1 = {\n",
        "    \"Brand\":\"Bajaj\",\n",
        "    \"model\":\"Pulsar\",\n",
        "    \"year\":2015,\n",
        "    \"cost\":85000\n",
        "}"
      ],
      "metadata": {
        "id": "eXQS_srNukWh"
      },
      "execution_count": 7,
      "outputs": []
    },
    {
      "cell_type": "code",
      "source": [
        "# 1)\n",
        "x = dict1[\"model\"]\n",
        "x"
      ],
      "metadata": {
        "colab": {
          "base_uri": "https://localhost:8080/",
          "height": 35
        },
        "id": "N_NbcgtYumlU",
        "outputId": "0b19a59b-4efe-49e8-d546-dae59179e467"
      },
      "execution_count": 8,
      "outputs": [
        {
          "output_type": "execute_result",
          "data": {
            "application/vnd.google.colaboratory.intrinsic+json": {
              "type": "string"
            },
            "text/plain": [
              "'Pulsar'"
            ]
          },
          "metadata": {},
          "execution_count": 8
        }
      ]
    },
    {
      "cell_type": "code",
      "source": [
        "# 2) get(keyname)\n",
        "x = dict1.get(\"model\")\n",
        "x"
      ],
      "metadata": {
        "colab": {
          "base_uri": "https://localhost:8080/",
          "height": 35
        },
        "id": "h9SNtSSQuvsT",
        "outputId": "525a6f72-5156-43de-e68f-504149cd1c8a"
      },
      "execution_count": 9,
      "outputs": [
        {
          "output_type": "execute_result",
          "data": {
            "application/vnd.google.colaboratory.intrinsic+json": {
              "type": "string"
            },
            "text/plain": [
              "'Pulsar'"
            ]
          },
          "metadata": {},
          "execution_count": 9
        }
      ]
    },
    {
      "cell_type": "markdown",
      "source": [
        "# **Change/update Values**\n"
      ],
      "metadata": {
        "id": "H1zXxdgluyjx"
      }
    },
    {
      "cell_type": "code",
      "source": [
        "#update the year\n",
        "dict1[\"year\"] = 2018\n",
        "dict1"
      ],
      "metadata": {
        "colab": {
          "base_uri": "https://localhost:8080/"
        },
        "id": "A1vw1gizu0SC",
        "outputId": "a926658a-c51a-463b-ea08-2a156c2c5d47"
      },
      "execution_count": 10,
      "outputs": [
        {
          "output_type": "execute_result",
          "data": {
            "text/plain": [
              "{'Brand': 'Bajaj', 'cost': 85000, 'model': 'Pulsar', 'year': 2018}"
            ]
          },
          "metadata": {},
          "execution_count": 10
        }
      ]
    },
    {
      "cell_type": "code",
      "source": [
        "# keys() method to get the keys \n",
        "keys = list(dict1.keys())\n",
        "print(keys)"
      ],
      "metadata": {
        "colab": {
          "base_uri": "https://localhost:8080/"
        },
        "id": "_38fw2YGu16R",
        "outputId": "41241a41-7f1e-4fc9-89a7-3fad44c32d42"
      },
      "execution_count": 11,
      "outputs": [
        {
          "output_type": "stream",
          "name": "stdout",
          "text": [
            "['Brand', 'model', 'year', 'cost']\n"
          ]
        }
      ]
    },
    {
      "cell_type": "code",
      "source": [
        "# values() method to get the values\n",
        "vals = list(dict1.values())\n",
        "print(vals)"
      ],
      "metadata": {
        "colab": {
          "base_uri": "https://localhost:8080/"
        },
        "id": "0M3Tz7mCu7g8",
        "outputId": "89c53c34-6141-49ec-e19a-298a8777502c"
      },
      "execution_count": 12,
      "outputs": [
        {
          "output_type": "stream",
          "name": "stdout",
          "text": [
            "['Bajaj', 'Pulsar', 2018, 85000]\n"
          ]
        }
      ]
    },
    {
      "cell_type": "code",
      "source": [
        "# items() method to get both keys and values\n",
        "items = list(dict1.items())\n",
        "items"
      ],
      "metadata": {
        "colab": {
          "base_uri": "https://localhost:8080/"
        },
        "id": "Sb9FQJfCu-Ec",
        "outputId": "838d9ecd-0564-4759-9c81-c3b2319f0b3c"
      },
      "execution_count": 13,
      "outputs": [
        {
          "output_type": "execute_result",
          "data": {
            "text/plain": [
              "[('Brand', 'Bajaj'), ('model', 'Pulsar'), ('year', 2018), ('cost', 85000)]"
            ]
          },
          "metadata": {},
          "execution_count": 13
        }
      ]
    },
    {
      "cell_type": "markdown",
      "source": [
        "# **Adding items to an existing dictionary**\n"
      ],
      "metadata": {
        "id": "i_MgmL2qvAhI"
      }
    },
    {
      "cell_type": "code",
      "source": [
        "# add color of the bike\n",
        "dict1[\"color\"] = \"Black\"\n",
        "dict1"
      ],
      "metadata": {
        "colab": {
          "base_uri": "https://localhost:8080/"
        },
        "id": "sHSI2OxWvEF9",
        "outputId": "b3327d40-7e47-4edb-fa5a-f6acfef24c9e"
      },
      "execution_count": 14,
      "outputs": [
        {
          "output_type": "execute_result",
          "data": {
            "text/plain": [
              "{'Brand': 'Bajaj',\n",
              " 'color': 'Black',\n",
              " 'cost': 85000,\n",
              " 'model': 'Pulsar',\n",
              " 'year': 2018}"
            ]
          },
          "metadata": {},
          "execution_count": 14
        }
      ]
    },
    {
      "cell_type": "code",
      "source": [
        "# add tyreType\n",
        "dict1['tyreType'] = 'Tubeless'\n",
        "dict1"
      ],
      "metadata": {
        "colab": {
          "base_uri": "https://localhost:8080/"
        },
        "id": "qvqNcDS2vHrT",
        "outputId": "15695f70-7aff-453f-9256-4cd95251bd0b"
      },
      "execution_count": 15,
      "outputs": [
        {
          "output_type": "execute_result",
          "data": {
            "text/plain": [
              "{'Brand': 'Bajaj',\n",
              " 'color': 'Black',\n",
              " 'cost': 85000,\n",
              " 'model': 'Pulsar',\n",
              " 'tyreType': 'Tubeless',\n",
              " 'year': 2018}"
            ]
          },
          "metadata": {},
          "execution_count": 15
        }
      ]
    },
    {
      "cell_type": "markdown",
      "source": [
        "# **Removing items**\n"
      ],
      "metadata": {
        "id": "t8exnKy1vKWC"
      }
    },
    {
      "cell_type": "code",
      "source": [
        "# 1) pop(key)\n",
        "rem = dict1.pop('model')\n",
        "print(rem)\n",
        "print(dict1)"
      ],
      "metadata": {
        "colab": {
          "base_uri": "https://localhost:8080/"
        },
        "id": "3y2cgWOMvL6C",
        "outputId": "982a5a2c-fa10-4c48-b227-06fa09a6d6c6"
      },
      "execution_count": 16,
      "outputs": [
        {
          "output_type": "stream",
          "name": "stdout",
          "text": [
            "Pulsar\n",
            "{'Brand': 'Bajaj', 'year': 2018, 'cost': 85000, 'color': 'Black', 'tyreType': 'Tubeless'}\n"
          ]
        }
      ]
    },
    {
      "cell_type": "code",
      "source": [
        "# adding again\n",
        "dict1['model'] = 'Pulsar'\n",
        "dict1"
      ],
      "metadata": {
        "colab": {
          "base_uri": "https://localhost:8080/"
        },
        "id": "TFmTV8OovPz5",
        "outputId": "b25a8784-ffd3-49ba-abf6-19146f7bac44"
      },
      "execution_count": 17,
      "outputs": [
        {
          "output_type": "execute_result",
          "data": {
            "text/plain": [
              "{'Brand': 'Bajaj',\n",
              " 'color': 'Black',\n",
              " 'cost': 85000,\n",
              " 'model': 'Pulsar',\n",
              " 'tyreType': 'Tubeless',\n",
              " 'year': 2018}"
            ]
          },
          "metadata": {},
          "execution_count": 17
        }
      ]
    },
    {
      "cell_type": "code",
      "source": [
        "# 2) popitem() removes the last inserted item\n",
        "print(dict1)\n",
        "dict1.popitem()\n",
        "print(dict1)"
      ],
      "metadata": {
        "colab": {
          "base_uri": "https://localhost:8080/"
        },
        "id": "z7Rv2kuJvSU7",
        "outputId": "3d4cf461-b76f-4e65-f93c-cd1b5a02e287"
      },
      "execution_count": 18,
      "outputs": [
        {
          "output_type": "stream",
          "name": "stdout",
          "text": [
            "{'Brand': 'Bajaj', 'year': 2018, 'cost': 85000, 'color': 'Black', 'tyreType': 'Tubeless', 'model': 'Pulsar'}\n",
            "{'Brand': 'Bajaj', 'year': 2018, 'cost': 85000, 'color': 'Black', 'tyreType': 'Tubeless'}\n"
          ]
        }
      ]
    },
    {
      "cell_type": "code",
      "source": [
        "# 3) del keyword\n",
        "del dict1['year']"
      ],
      "metadata": {
        "id": "zrHaGooGvVf5"
      },
      "execution_count": 19,
      "outputs": []
    },
    {
      "cell_type": "code",
      "source": [
        "dict1"
      ],
      "metadata": {
        "colab": {
          "base_uri": "https://localhost:8080/"
        },
        "id": "ieSObDhyvYPl",
        "outputId": "8bfae2ee-a5b5-471e-e354-ab238e405030"
      },
      "execution_count": 20,
      "outputs": [
        {
          "output_type": "execute_result",
          "data": {
            "text/plain": [
              "{'Brand': 'Bajaj', 'color': 'Black', 'cost': 85000, 'tyreType': 'Tubeless'}"
            ]
          },
          "metadata": {},
          "execution_count": 20
        }
      ]
    },
    {
      "cell_type": "code",
      "source": [
        "# 4) clear() method\n",
        "dict1.clear()"
      ],
      "metadata": {
        "id": "XbC-v_1WvbAz"
      },
      "execution_count": 21,
      "outputs": []
    },
    {
      "cell_type": "code",
      "source": [
        "dict1"
      ],
      "metadata": {
        "colab": {
          "base_uri": "https://localhost:8080/"
        },
        "id": "A4LTreY9vdMy",
        "outputId": "8a40e989-2c62-4451-e0cd-beee31b87c29"
      },
      "execution_count": 22,
      "outputs": [
        {
          "output_type": "execute_result",
          "data": {
            "text/plain": [
              "{}"
            ]
          },
          "metadata": {},
          "execution_count": 22
        }
      ]
    },
    {
      "cell_type": "markdown",
      "source": [
        "# **Copy a dictionary**\n"
      ],
      "metadata": {
        "id": "BHpUQ1W6vgYD"
      }
    },
    {
      "cell_type": "code",
      "source": [
        "# 1) copy() method\n",
        "dict1 = {\n",
        "  \"brand\": \"Bajaj\",\n",
        "  \"model\": \"Pulsar\",\n",
        "  \"year\": 2015,\n",
        "  \"cost\": 85000\n",
        "}\n",
        "mydict = dict1.copy()\n",
        "print(mydict)"
      ],
      "metadata": {
        "colab": {
          "base_uri": "https://localhost:8080/"
        },
        "id": "sPFcIKdsvjTr",
        "outputId": "67e6b4d0-6429-407f-a0ff-18fe14f372ef"
      },
      "execution_count": 23,
      "outputs": [
        {
          "output_type": "stream",
          "name": "stdout",
          "text": [
            "{'brand': 'Bajaj', 'model': 'Pulsar', 'year': 2015, 'cost': 85000}\n"
          ]
        }
      ]
    },
    {
      "cell_type": "markdown",
      "source": [
        "# **Nested Dictionaries**\n"
      ],
      "metadata": {
        "id": "Gl3vB70nvo-h"
      }
    },
    {
      "cell_type": "code",
      "source": [
        "child1 = {\n",
        "  \"name\" : \"John\",\n",
        "  \"year\" : 1995\n",
        "}\n",
        "child2 = {\n",
        "  \"name\" : \"Sammy\",\n",
        "  \"year\" : 2001\n",
        "}\n",
        "\n",
        "\n",
        "myfamily = {\n",
        "  \"child1\" : child1,\n",
        "  \"child2\" : child2\n",
        "}"
      ],
      "metadata": {
        "id": "js4IPVBGvqcy"
      },
      "execution_count": 24,
      "outputs": []
    },
    {
      "cell_type": "code",
      "source": [
        "myfamily"
      ],
      "metadata": {
        "colab": {
          "base_uri": "https://localhost:8080/"
        },
        "id": "gBp-2_igvsBr",
        "outputId": "339785d2-0abd-419d-c0e5-11e89211aea4"
      },
      "execution_count": 25,
      "outputs": [
        {
          "output_type": "execute_result",
          "data": {
            "text/plain": [
              "{'child1': {'name': 'John', 'year': 1995},\n",
              " 'child2': {'name': 'Sammy', 'year': 2001}}"
            ]
          },
          "metadata": {},
          "execution_count": 25
        }
      ]
    },
    {
      "cell_type": "code",
      "source": [
        "myfamily = {\n",
        "  \"child1\" : {\n",
        "    \"name\" : \"John\",\n",
        "    \"year\" : 1995\n",
        "  },\n",
        "  \"child2\" : {\n",
        "    \"name\" : \"Sammy\",\n",
        "    \"year\" : 2001\n",
        "  }\n",
        "}"
      ],
      "metadata": {
        "id": "TPsojny3vykj"
      },
      "execution_count": 26,
      "outputs": []
    },
    {
      "cell_type": "code",
      "source": [
        "myfamily"
      ],
      "metadata": {
        "colab": {
          "base_uri": "https://localhost:8080/"
        },
        "id": "rndVv5Z9v1AN",
        "outputId": "9a2afdc3-8fa0-400d-dbfb-10e84ea59b23"
      },
      "execution_count": 27,
      "outputs": [
        {
          "output_type": "execute_result",
          "data": {
            "text/plain": [
              "{'child1': {'name': 'John', 'year': 1995},\n",
              " 'child2': {'name': 'Sammy', 'year': 2001}}"
            ]
          },
          "metadata": {},
          "execution_count": 27
        }
      ]
    },
    {
      "cell_type": "markdown",
      "source": [
        "# **Exercises on Dictionaries**"
      ],
      "metadata": {
        "id": "S7FnlDV1v5hg"
      }
    },
    {
      "cell_type": "code",
      "source": [
        "myfamily = {\n",
        "  \"child1\" : {\n",
        "    \"name\" : \"John\",\n",
        "    \"year\" : 1995,\n",
        "    \"hobbies\":[\"Music\",\"Cricket\",\"TV\"]\n",
        "  },\n",
        "  \"child2\" : {\n",
        "    \"name\" : \"Sammy\",\n",
        "    \"year\" : 2001\n",
        "  }\n",
        "}\n",
        "myfamily"
      ],
      "metadata": {
        "colab": {
          "base_uri": "https://localhost:8080/"
        },
        "id": "l44a-LbNv7QE",
        "outputId": "6198ce8c-5ef8-4594-d829-024fc5c3aba1"
      },
      "execution_count": 28,
      "outputs": [
        {
          "output_type": "execute_result",
          "data": {
            "text/plain": [
              "{'child1': {'hobbies': ['Music', 'Cricket', 'TV'],\n",
              "  'name': 'John',\n",
              "  'year': 1995},\n",
              " 'child2': {'name': 'Sammy', 'year': 2001}}"
            ]
          },
          "metadata": {},
          "execution_count": 28
        }
      ]
    },
    {
      "cell_type": "code",
      "source": [
        "#accessing \"John\"\n",
        "myfamily[\"child1\"][\"name\"]"
      ],
      "metadata": {
        "colab": {
          "base_uri": "https://localhost:8080/",
          "height": 35
        },
        "id": "9oiYpIdUv80t",
        "outputId": "464a9aff-eb71-42a3-c9d8-aa6f04b20a51"
      },
      "execution_count": 29,
      "outputs": [
        {
          "output_type": "execute_result",
          "data": {
            "application/vnd.google.colaboratory.intrinsic+json": {
              "type": "string"
            },
            "text/plain": [
              "'John'"
            ]
          },
          "metadata": {},
          "execution_count": 29
        }
      ]
    },
    {
      "cell_type": "code",
      "source": [
        "#accessing 1995\n",
        "myfamily[\"child1\"][\"year\"]"
      ],
      "metadata": {
        "colab": {
          "base_uri": "https://localhost:8080/"
        },
        "id": "NlZofbZlwCm7",
        "outputId": "6f4b2d26-ed24-4ae2-bcbe-ca0e64122977"
      },
      "execution_count": 30,
      "outputs": [
        {
          "output_type": "execute_result",
          "data": {
            "text/plain": [
              "1995"
            ]
          },
          "metadata": {},
          "execution_count": 30
        }
      ]
    },
    {
      "cell_type": "code",
      "source": [
        "#accessing \"Sammy\"\n",
        "myfamily[\"child2\"][\"name\"]"
      ],
      "metadata": {
        "colab": {
          "base_uri": "https://localhost:8080/",
          "height": 35
        },
        "id": "ebp2ET0MwFBD",
        "outputId": "79834389-3ac3-4171-9cb3-33fc4ef8fd9c"
      },
      "execution_count": 31,
      "outputs": [
        {
          "output_type": "execute_result",
          "data": {
            "application/vnd.google.colaboratory.intrinsic+json": {
              "type": "string"
            },
            "text/plain": [
              "'Sammy'"
            ]
          },
          "metadata": {},
          "execution_count": 31
        }
      ]
    },
    {
      "cell_type": "code",
      "source": [
        "#accessing 2001\n",
        "myfamily[\"child2\"][\"year\"]"
      ],
      "metadata": {
        "colab": {
          "base_uri": "https://localhost:8080/"
        },
        "id": "aVwvfz2fwIGK",
        "outputId": "6fbdaab1-be9a-433f-bfb3-285c2fd77c39"
      },
      "execution_count": 32,
      "outputs": [
        {
          "output_type": "execute_result",
          "data": {
            "text/plain": [
              "2001"
            ]
          },
          "metadata": {},
          "execution_count": 32
        }
      ]
    },
    {
      "cell_type": "code",
      "source": [
        "myfamily"
      ],
      "metadata": {
        "colab": {
          "base_uri": "https://localhost:8080/"
        },
        "id": "xWWnBqsVwK-b",
        "outputId": "4dc74d06-172e-47b9-acd9-9459cc0c8ab4"
      },
      "execution_count": 33,
      "outputs": [
        {
          "output_type": "execute_result",
          "data": {
            "text/plain": [
              "{'child1': {'hobbies': ['Music', 'Cricket', 'TV'],\n",
              "  'name': 'John',\n",
              "  'year': 1995},\n",
              " 'child2': {'name': 'Sammy', 'year': 2001}}"
            ]
          },
          "metadata": {},
          "execution_count": 33
        }
      ]
    },
    {
      "cell_type": "code",
      "source": [
        "#accessing 'Cricket'\n",
        "myfamily['child1']['hobbies'][1]"
      ],
      "metadata": {
        "colab": {
          "base_uri": "https://localhost:8080/",
          "height": 35
        },
        "id": "9tQAJLLTwNab",
        "outputId": "dadcd03b-b497-488e-a1dd-cd058e17aee9"
      },
      "execution_count": 34,
      "outputs": [
        {
          "output_type": "execute_result",
          "data": {
            "application/vnd.google.colaboratory.intrinsic+json": {
              "type": "string"
            },
            "text/plain": [
              "'Cricket'"
            ]
          },
          "metadata": {},
          "execution_count": 34
        }
      ]
    },
    {
      "cell_type": "code",
      "source": [
        "#get ['Cricket','TV']\n",
        "myfamily['child1']['hobbies'][1:]"
      ],
      "metadata": {
        "colab": {
          "base_uri": "https://localhost:8080/"
        },
        "id": "7sZZviU2wQYw",
        "outputId": "a2622979-d5f3-4f8a-8635-fae9a83296fe"
      },
      "execution_count": 35,
      "outputs": [
        {
          "output_type": "execute_result",
          "data": {
            "text/plain": [
              "['Cricket', 'TV']"
            ]
          },
          "metadata": {},
          "execution_count": 35
        }
      ]
    },
    {
      "cell_type": "code",
      "source": [
        "#get ['Music','TV']\n",
        "myfamily['child1']['hobbies'][::-1]"
      ],
      "metadata": {
        "colab": {
          "base_uri": "https://localhost:8080/"
        },
        "id": "51hF7zYSwTQQ",
        "outputId": "8233e7d5-54f0-41fe-9afb-f610fe188524"
      },
      "execution_count": 36,
      "outputs": [
        {
          "output_type": "execute_result",
          "data": {
            "text/plain": [
              "['TV', 'Cricket', 'Music']"
            ]
          },
          "metadata": {},
          "execution_count": 36
        }
      ]
    }
  ]
}