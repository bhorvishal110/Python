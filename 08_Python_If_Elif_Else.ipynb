{
  "nbformat": 4,
  "nbformat_minor": 0,
  "metadata": {
    "colab": {
      "name": "08. Python If... Elif... Else.ipynb",
      "provenance": [],
      "collapsed_sections": []
    },
    "kernelspec": {
      "name": "python3",
      "display_name": "Python 3"
    },
    "language_info": {
      "name": "python"
    }
  },
  "cells": [
    {
      "cell_type": "markdown",
      "source": [
        "# **Python If ... Else**\n",
        "Python Conditions and If statements...... Python supports the usual logical conditions from mathematics:\n",
        "\n",
        "Equals: a == b \n",
        "\n",
        "Not Equals: a != b \n",
        "\n",
        "Less than: a < b \n",
        "\n",
        "Less than or equal to: a <= b \n",
        "\n",
        "Greater than: a > b \n",
        "\n",
        "Greater than or equal to: a >= b\n",
        "\n",
        "These conditions can be used in several ways, most commonly in \"if statements\" and loops.\n",
        "\n",
        "An \"if statement\" is written by using the if keyword."
      ],
      "metadata": {
        "id": "I9o_4Vs_G93n"
      }
    },
    {
      "cell_type": "code",
      "source": [
        "\"\"\"\n",
        "syntax of if\n",
        "\n",
        "if(condition/s):\n",
        "    statement1\n",
        "    statement2\n",
        "    ..........\n",
        "\"\"\""
      ],
      "metadata": {
        "colab": {
          "base_uri": "https://localhost:8080/",
          "height": 35
        },
        "id": "bmLW_rGGP99Y",
        "outputId": "b89fdac5-c493-407c-ec85-61074948b670"
      },
      "execution_count": 3,
      "outputs": [
        {
          "output_type": "execute_result",
          "data": {
            "application/vnd.google.colaboratory.intrinsic+json": {
              "type": "string"
            },
            "text/plain": [
              "'\\nsyntax of if\\n\\nif(condition/s):\\n    statement1\\n    statement2\\n    ..........\\n'"
            ]
          },
          "metadata": {},
          "execution_count": 3
        }
      ]
    },
    {
      "cell_type": "code",
      "source": [
        "#Ex1)\n",
        "num1 = 10\n",
        "num2 = 10\n",
        "\n",
        "if(num1 == num2):\n",
        "    print(\"Both the numbers are same\")"
      ],
      "metadata": {
        "colab": {
          "base_uri": "https://localhost:8080/"
        },
        "id": "PkfW4ECHQBiQ",
        "outputId": "0a999014-3661-4ea1-a166-594061b0cc25"
      },
      "execution_count": 2,
      "outputs": [
        {
          "output_type": "stream",
          "name": "stdout",
          "text": [
            "Both the numbers are same\n"
          ]
        }
      ]
    },
    {
      "cell_type": "code",
      "source": [
        "#Ex2)\n",
        "num1 = 11\n",
        "num2 = 10\n",
        "if(num1 != num2):\n",
        "    print(\"Numbers are diff\")"
      ],
      "metadata": {
        "colab": {
          "base_uri": "https://localhost:8080/"
        },
        "id": "PbhGGOjRQJvg",
        "outputId": "3da17937-b64d-40d1-d36f-e712e307cf6f"
      },
      "execution_count": 4,
      "outputs": [
        {
          "output_type": "stream",
          "name": "stdout",
          "text": [
            "Numbers are diff\n"
          ]
        }
      ]
    },
    {
      "cell_type": "markdown",
      "source": [
        "# **Indentation**\n",
        "Python relies on indentation (whitespace at the beginning of a line) to define scope in the code. Other programming languages often use curly-brackets for this purpose.\n",
        "\n",
        "Example If statement, without indentation (will raise an error):"
      ],
      "metadata": {
        "id": "D5ienx4THPat"
      }
    },
    {
      "cell_type": "code",
      "source": [
        "# Error\n",
        "a = 33\n",
        "b = 200\n",
        "if b > a:\n",
        "print(\"b is greater than a\") # you will get an error"
      ],
      "metadata": {
        "colab": {
          "base_uri": "https://localhost:8080/",
          "height": 130
        },
        "id": "WqWtL32QH6a_",
        "outputId": "ce72436c-d055-4db6-9b8e-193b14d1273f"
      },
      "execution_count": 6,
      "outputs": [
        {
          "output_type": "error",
          "ename": "IndentationError",
          "evalue": "ignored",
          "traceback": [
            "\u001b[0;36m  File \u001b[0;32m\"<ipython-input-6-b906152f3939>\"\u001b[0;36m, line \u001b[0;32m5\u001b[0m\n\u001b[0;31m    print(\"b is greater than a\") # you will get an error\u001b[0m\n\u001b[0m        ^\u001b[0m\n\u001b[0;31mIndentationError\u001b[0m\u001b[0;31m:\u001b[0m expected an indented block\n"
          ]
        }
      ]
    },
    {
      "cell_type": "code",
      "source": [
        "# No Error\n",
        "a = 33\n",
        "b = 200\n",
        "if b > a:\n",
        " print(\"b is greater than a\") # you will get an error"
      ],
      "metadata": {
        "id": "_Gd7e0iaIC-4",
        "outputId": "9ead945f-1329-4cf0-a364-bf3692ff5b6c",
        "colab": {
          "base_uri": "https://localhost:8080/"
        }
      },
      "execution_count": 7,
      "outputs": [
        {
          "output_type": "stream",
          "name": "stdout",
          "text": [
            "b is greater than a\n"
          ]
        }
      ]
    },
    {
      "cell_type": "markdown",
      "source": [
        "# **if.. else..**\n",
        "\n",
        "The else keyword catches anything which isn't caught by the preceding conditions.\n",
        "\n"
      ],
      "metadata": {
        "id": "mN1rswyuQgEo"
      }
    },
    {
      "cell_type": "code",
      "source": [
        "\"\"\"\n",
        "syntax of if else\n",
        "\n",
        "if(condition/s):\n",
        "    statement1\n",
        "    statement2\n",
        "    ..........\n",
        "else:\n",
        "    statement1\n",
        "    statement2\n",
        "    ..........\n",
        "\"\"\""
      ],
      "metadata": {
        "colab": {
          "base_uri": "https://localhost:8080/",
          "height": 35
        },
        "id": "rJUfCj1KQj58",
        "outputId": "162e0213-cf33-4767-b564-53ca39b87659"
      },
      "execution_count": 8,
      "outputs": [
        {
          "output_type": "execute_result",
          "data": {
            "application/vnd.google.colaboratory.intrinsic+json": {
              "type": "string"
            },
            "text/plain": [
              "'\\nsyntax of if else\\n\\nif(condition/s):\\n    statement1\\n    statement2\\n    ..........\\nelse:\\n    statement1\\n    statement2\\n    ..........\\n'"
            ]
          },
          "metadata": {},
          "execution_count": 8
        }
      ]
    },
    {
      "cell_type": "code",
      "source": [
        "#Ex1) \n",
        "num1 = 10\n",
        "num2 = 5\n",
        "\n",
        "if(num1 == num2):\n",
        "    print(\"equal\")\n",
        "else:\n",
        "    print(\"Not equal\")"
      ],
      "metadata": {
        "colab": {
          "base_uri": "https://localhost:8080/"
        },
        "id": "f9BfQp_IQp3g",
        "outputId": "f19a1bce-cec0-478b-a37d-7cce56e77596"
      },
      "execution_count": 9,
      "outputs": [
        {
          "output_type": "stream",
          "name": "stdout",
          "text": [
            "Not equal\n"
          ]
        }
      ]
    },
    {
      "cell_type": "code",
      "source": [
        "#Ex2)\n",
        "if(num1<num2):\n",
        "    print(\"num1 is less than num2\")\n",
        "else:\n",
        "    print(\"num1 is greater than num2\")"
      ],
      "metadata": {
        "colab": {
          "base_uri": "https://localhost:8080/"
        },
        "id": "fNTcyJdVQsqY",
        "outputId": "cfacdadb-8ec2-40d6-b5ef-5f24bdc3b593"
      },
      "execution_count": 10,
      "outputs": [
        {
          "output_type": "stream",
          "name": "stdout",
          "text": [
            "num1 is greater than num2\n"
          ]
        }
      ]
    },
    {
      "cell_type": "markdown",
      "source": [
        "# **if .. elif .. else**\n",
        "\n",
        "The elif keyword is pythons way of saying \"if the previous conditions were not true, then try this condition\".\n",
        "\n"
      ],
      "metadata": {
        "id": "T8VKeq3EZoEB"
      }
    },
    {
      "cell_type": "code",
      "source": [
        "\"\"\"\n",
        "syntax of if else\n",
        "\n",
        "if(condition/s):\n",
        "    statement1\n",
        "    statement2\n",
        "    ..........\n",
        "elif(condition/s):\n",
        "    statement1\n",
        "    statement2\n",
        "    ..........\n",
        "else:\n",
        "    statement1\n",
        "    statement2\n",
        "    ..........\n",
        "\"\"\""
      ],
      "metadata": {
        "id": "DWmWtbq6ZycS"
      },
      "execution_count": null,
      "outputs": []
    },
    {
      "cell_type": "code",
      "source": [
        "a = 33\n",
        "b = 33\n",
        "if b > a:\n",
        "  print(\"b is greater than a\")\n",
        "elif a == b:\n",
        "  print(\"a and b are equal\")"
      ],
      "metadata": {
        "colab": {
          "base_uri": "https://localhost:8080/"
        },
        "id": "tUQF_qu_Z3lQ",
        "outputId": "d1ed9e61-3d98-4e34-ed61-d36e9e9ce953"
      },
      "execution_count": 11,
      "outputs": [
        {
          "output_type": "stream",
          "name": "stdout",
          "text": [
            "a and b are equal\n"
          ]
        }
      ]
    },
    {
      "cell_type": "code",
      "source": [
        "#Ex1)\n",
        "num1 = 10\n",
        "num2 = 10\n",
        "\n",
        "if(num1 == num2):\n",
        "    print(\"Equal\")\n",
        "elif(num1>num2):\n",
        "    print('num1 is greater than num2')\n",
        "    \n",
        "else:\n",
        "    print('num1 is less than num2')"
      ],
      "metadata": {
        "colab": {
          "base_uri": "https://localhost:8080/"
        },
        "id": "FmWLaLRHZ_Uw",
        "outputId": "e8e44458-72e5-4a7d-eb6a-4e030ff1fb12"
      },
      "execution_count": 12,
      "outputs": [
        {
          "output_type": "stream",
          "name": "stdout",
          "text": [
            "Equal\n"
          ]
        }
      ]
    },
    {
      "cell_type": "code",
      "source": [
        "#If statements\n",
        "a = 200\n",
        "b = 100\n",
        "if b > a:\n",
        "  print(\"b is greater than a\")\n",
        "elif a == b: \n",
        "  print(\"a=b\") \n",
        "else:\n",
        "  print(\"a is greater than b\")"
      ],
      "metadata": {
        "colab": {
          "base_uri": "https://localhost:8080/"
        },
        "id": "Xh1Ct_2iaF-R",
        "outputId": "5668e606-1620-4d8b-9ad2-4d0d72ac9b6d"
      },
      "execution_count": 13,
      "outputs": [
        {
          "output_type": "stream",
          "name": "stdout",
          "text": [
            "a is greater than b\n"
          ]
        }
      ]
    },
    {
      "cell_type": "markdown",
      "source": [
        "# **And**\n",
        "The and keyword is a logical operator, and is used to combine conditional statements:\n",
        "\n",
        "Example Test if a is greater than b, AND if c is greater than a:"
      ],
      "metadata": {
        "id": "CloJrph-aeoJ"
      }
    },
    {
      "cell_type": "code",
      "source": [
        "a = 200\n",
        "b = 33\n",
        "c = 500\n",
        "if a > b and c > a:\n",
        "  print(\"Both conditions are True\")"
      ],
      "metadata": {
        "colab": {
          "base_uri": "https://localhost:8080/"
        },
        "id": "5jiKMS07ah9g",
        "outputId": "abd2014e-75e3-4b05-9a18-55cea81ef363"
      },
      "execution_count": 14,
      "outputs": [
        {
          "output_type": "stream",
          "name": "stdout",
          "text": [
            "Both conditions are True\n"
          ]
        }
      ]
    },
    {
      "cell_type": "code",
      "source": [
        "num1 = 6\n",
        "if(num1>0 and num1%2 == 0 and num1%3 == 0):\n",
        "    print(\"Satisfied\")\n",
        "else:\n",
        "    print(\"Not satisfied\")"
      ],
      "metadata": {
        "colab": {
          "base_uri": "https://localhost:8080/"
        },
        "id": "upaHt_U-bLDa",
        "outputId": "94d184c4-cc07-4374-feb4-05a859160fa7"
      },
      "execution_count": 18,
      "outputs": [
        {
          "output_type": "stream",
          "name": "stdout",
          "text": [
            "Satisfied\n"
          ]
        }
      ]
    },
    {
      "cell_type": "markdown",
      "source": [
        "# **Or**\n",
        "The or keyword is a logical operator, and is used to combine conditional statements:\n",
        "\n",
        "Example Test if a is greater than b, OR if a is greater than c:"
      ],
      "metadata": {
        "id": "js8MA9nSandi"
      }
    },
    {
      "cell_type": "code",
      "source": [
        "a = 200\n",
        "b = 33\n",
        "c = 500\n",
        "if a > b or a > c:\n",
        "  print(\"At least one of the conditions is True\")"
      ],
      "metadata": {
        "colab": {
          "base_uri": "https://localhost:8080/"
        },
        "id": "1gtlgQV1arHk",
        "outputId": "8e2dbaa7-124a-458e-9357-ccfcad71816e"
      },
      "execution_count": 16,
      "outputs": [
        {
          "output_type": "stream",
          "name": "stdout",
          "text": [
            "At least one of the conditions is True\n"
          ]
        }
      ]
    },
    {
      "cell_type": "code",
      "source": [
        "num1 =7\n",
        "# it should be positive\n",
        "# or it should be divisible by 2\n",
        "# or it should be divisible by 3\n",
        "\n",
        "if(num1>0 or num1%2 == 0 or num1%3 == 0):\n",
        "    print(\"Satisfied\")\n",
        "else:\n",
        "    print(\"Not satisfied\")"
      ],
      "metadata": {
        "colab": {
          "base_uri": "https://localhost:8080/"
        },
        "id": "f6nl17J6bt1T",
        "outputId": "56db9b65-17ab-4425-c9e5-1b3b0b392917"
      },
      "execution_count": 20,
      "outputs": [
        {
          "output_type": "stream",
          "name": "stdout",
          "text": [
            "Satisfied\n"
          ]
        }
      ]
    },
    {
      "cell_type": "markdown",
      "source": [
        "# **Nested If**\n",
        "You can have if statements inside if statements, this is called nested if statements."
      ],
      "metadata": {
        "id": "ctQH3-88aukT"
      }
    },
    {
      "cell_type": "code",
      "source": [
        "x = 5\n",
        "\n",
        "if x > 10:\n",
        "  print(\"Above ten,\")\n",
        "  if x > 20:\n",
        "    print(\"and also above 20!\")\n",
        "  else:\n",
        "    print(\"but not above 20.\")\n",
        "else:\n",
        "  print(\"<10\")"
      ],
      "metadata": {
        "colab": {
          "base_uri": "https://localhost:8080/"
        },
        "id": "ZOe55PEqax46",
        "outputId": "6240a19f-5fbf-44a3-b476-7c86a01ada07"
      },
      "execution_count": 17,
      "outputs": [
        {
          "output_type": "stream",
          "name": "stdout",
          "text": [
            "<10\n"
          ]
        }
      ]
    },
    {
      "cell_type": "code",
      "source": [
        "#Ex1)\n",
        "num1 = 3\n",
        "if(num1>0):\n",
        "    print(\"positive number\")\n",
        "    if(num1%2 == 0):\n",
        "        print(\"Divisible by 2\")\n",
        "    elif(num1%3 == 0):\n",
        "        print(\"Divisible by 3\")\n",
        "    else:\n",
        "        print(\"Not divisible by 2 or 3\")\n",
        "else:\n",
        "    print(\"negative number\")"
      ],
      "metadata": {
        "colab": {
          "base_uri": "https://localhost:8080/"
        },
        "id": "BP0HuJ-abUaZ",
        "outputId": "5ec75e24-f67c-4b32-819d-45df73999b47"
      },
      "execution_count": 19,
      "outputs": [
        {
          "output_type": "stream",
          "name": "stdout",
          "text": [
            "positive number\n",
            "Divisible by 3\n"
          ]
        }
      ]
    }
  ]
}