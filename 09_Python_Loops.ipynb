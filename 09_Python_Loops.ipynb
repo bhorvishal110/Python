{
  "nbformat": 4,
  "nbformat_minor": 0,
  "metadata": {
    "colab": {
      "name": "09.Python Loops.ipynb",
      "provenance": [],
      "collapsed_sections": []
    },
    "kernelspec": {
      "name": "python3",
      "display_name": "Python 3"
    },
    "language_info": {
      "name": "python"
    }
  },
  "cells": [
    {
      "cell_type": "markdown",
      "source": [
        "# **Python Loops**\n",
        "Python has two primitive loop commands:\n",
        "\n",
        "1. while loops\n",
        "2. for loops"
      ],
      "metadata": {
        "id": "Z-1KB_c4fo9m"
      }
    },
    {
      "cell_type": "markdown",
      "source": [
        "# **The while Loop**\n",
        "With the while loop we can execute a set of statements as long as a condition is true.\n",
        "\n",
        "Example Print i as long as i is less than 6:"
      ],
      "metadata": {
        "id": "4Hxp9p62fzKq"
      }
    },
    {
      "cell_type": "code",
      "source": [
        "\"\"\"\n",
        "syntax\n",
        "\n",
        "while(condition/s):\n",
        "    statement1\n",
        "    statement2\n",
        "    ..........\n",
        "\"\"\""
      ],
      "metadata": {
        "id": "w7E_Ga3yf5ag"
      },
      "execution_count": null,
      "outputs": []
    },
    {
      "cell_type": "code",
      "source": [
        "print(1)\n",
        "print(2)\n",
        "print(3)\n",
        "print(4)\n",
        "print(5)\n",
        "print(6)\n",
        "print(7)\n",
        "print(8)\n",
        "print(9)\n",
        "print(10)"
      ],
      "metadata": {
        "colab": {
          "base_uri": "https://localhost:8080/"
        },
        "id": "R5jtVfdIgKf5",
        "outputId": "6500afa0-42b3-4591-abd2-d6d7ef05cc2d"
      },
      "execution_count": 2,
      "outputs": [
        {
          "output_type": "stream",
          "name": "stdout",
          "text": [
            "1\n",
            "2\n",
            "3\n",
            "4\n",
            "5\n",
            "6\n",
            "7\n",
            "8\n",
            "9\n",
            "10\n"
          ]
        }
      ]
    },
    {
      "cell_type": "code",
      "source": [
        "i = 1\n",
        "while(i < 11):\n",
        "    print(i)\n",
        "    i = i + 1"
      ],
      "metadata": {
        "colab": {
          "base_uri": "https://localhost:8080/"
        },
        "id": "hJ8c1t4fgMZS",
        "outputId": "62137057-eced-4fec-93e8-ecf1173412cc"
      },
      "execution_count": 6,
      "outputs": [
        {
          "output_type": "stream",
          "name": "stdout",
          "text": [
            "1\n",
            "2\n",
            "3\n",
            "4\n",
            "5\n",
            "6\n",
            "7\n",
            "8\n",
            "9\n",
            "10\n"
          ]
        }
      ]
    },
    {
      "cell_type": "markdown",
      "source": [
        "**Note:** remember to increment i, or else the loop will continue forever."
      ],
      "metadata": {
        "id": "RhCGWjI3g0Nb"
      }
    },
    {
      "cell_type": "markdown",
      "source": [
        "# **while - else**\n",
        "if you want to know your while loop has finished its execution and you want to do some operations then you can make use of \"else\""
      ],
      "metadata": {
        "id": "bnEZJG6bgpJr"
      }
    },
    {
      "cell_type": "code",
      "source": [
        "#ex2) \n",
        "count = 1\n",
        "while(count<11):\n",
        "    print(count)\n",
        "    count = count + 1\n",
        "else:\n",
        "    print(\"End of while loop\")\n",
        "    print(count)"
      ],
      "metadata": {
        "colab": {
          "base_uri": "https://localhost:8080/"
        },
        "id": "x9cplt0UgslP",
        "outputId": "4c11f720-b4f6-4328-80e6-166978ee5a60"
      },
      "execution_count": 7,
      "outputs": [
        {
          "output_type": "stream",
          "name": "stdout",
          "text": [
            "1\n",
            "2\n",
            "3\n",
            "4\n",
            "5\n",
            "6\n",
            "7\n",
            "8\n",
            "9\n",
            "10\n",
            "End of while loop\n",
            "11\n"
          ]
        }
      ]
    },
    {
      "cell_type": "markdown",
      "source": [
        "# **The break Statement**\n",
        "\n",
        " With the break statement we can stop the loop even if the while condition is true."
      ],
      "metadata": {
        "id": "IEnNOEvFg-Ah"
      }
    },
    {
      "cell_type": "code",
      "source": [
        "#Example Exit the loop when i is 3:\n",
        "i = 1\n",
        "while i < 6:\n",
        "  print(i)\n",
        "  if i == 3:\n",
        "    break\n",
        "  i = i + 1"
      ],
      "metadata": {
        "colab": {
          "base_uri": "https://localhost:8080/"
        },
        "id": "QSCcYIsmhIKk",
        "outputId": "1562e6aa-220f-48bc-f8d1-4a7843ff9d64"
      },
      "execution_count": 8,
      "outputs": [
        {
          "output_type": "stream",
          "name": "stdout",
          "text": [
            "1\n",
            "2\n",
            "3\n"
          ]
        }
      ]
    },
    {
      "cell_type": "code",
      "source": [
        "# if count has reached 5 then break\n",
        "count = 1\n",
        "while(count<11):\n",
        "    if(count == 5):\n",
        "        print(count)\n",
        "        break\n",
        "    else:\n",
        "        print(count)\n",
        "        count = count + 1"
      ],
      "metadata": {
        "colab": {
          "base_uri": "https://localhost:8080/"
        },
        "id": "vRt1RckFhlrD",
        "outputId": "c4d3c272-a65a-4ccc-92c1-04c99601c613"
      },
      "execution_count": 10,
      "outputs": [
        {
          "output_type": "stream",
          "name": "stdout",
          "text": [
            "1\n",
            "2\n",
            "3\n",
            "4\n",
            "5\n"
          ]
        }
      ]
    },
    {
      "cell_type": "markdown",
      "source": [
        "# **The continue Statement** \n",
        "With the continue statement we can stop the current iteration, and continue with the next:"
      ],
      "metadata": {
        "id": "8X3oTasHhSmK"
      }
    },
    {
      "cell_type": "code",
      "source": [
        "#Example Continue to the next iteration if i is 3:\n",
        "i = 0\n",
        "while i < 6:\n",
        "  i = i + 1\n",
        "  if i == 3:\n",
        "    continue\n",
        "  print(i)"
      ],
      "metadata": {
        "colab": {
          "base_uri": "https://localhost:8080/"
        },
        "id": "IsFPw2aDhaEa",
        "outputId": "6759b6a3-6088-4f5f-f475-1c06d202e6c8"
      },
      "execution_count": 9,
      "outputs": [
        {
          "output_type": "stream",
          "name": "stdout",
          "text": [
            "1\n",
            "2\n",
            "4\n",
            "5\n",
            "6\n"
          ]
        }
      ]
    },
    {
      "cell_type": "code",
      "source": [
        "# print only odd numbers\n",
        "count = 0\n",
        "while(count<11):\n",
        "    count = count + 1\n",
        "    if(count%2 == 0):\n",
        "        continue\n",
        "    print(count)"
      ],
      "metadata": {
        "colab": {
          "base_uri": "https://localhost:8080/"
        },
        "id": "3lJ2g2fDhpc6",
        "outputId": "676c93d7-142c-4793-a115-fab71e8d97d0"
      },
      "execution_count": 11,
      "outputs": [
        {
          "output_type": "stream",
          "name": "stdout",
          "text": [
            "1\n",
            "3\n",
            "5\n",
            "7\n",
            "9\n",
            "11\n"
          ]
        }
      ]
    },
    {
      "cell_type": "markdown",
      "source": [
        "# **Python For Loops**\n",
        "Python For Loops A for loop is used for iterating over a sequence (that is either a list, a tuple, a dictionary, a set, or a string).\n",
        "\n",
        "This is less like the for keyword in other programming languages, and works more like an iterator method as found in other object-orientated programming languages.\n",
        "\n",
        "With the for loop we can execute a set of statements, once for each item in a list, tuple, set etc."
      ],
      "metadata": {
        "id": "k148Dfk4hxjD"
      }
    },
    {
      "cell_type": "code",
      "source": [
        "\"\"\"\n",
        "syntax\n",
        "\n",
        "for item in seq:\n",
        "    statements....\n",
        "\"\"\""
      ],
      "metadata": {
        "id": "T49U33ixkgHM"
      },
      "execution_count": null,
      "outputs": []
    },
    {
      "cell_type": "code",
      "source": [
        "# Example\n",
        "# Print each fruit in a fruit list:\n",
        "fruits = [\"apple\", \"banana\", \"cherry\"]\n",
        "for x in fruits:\n",
        "  print(x)"
      ],
      "metadata": {
        "colab": {
          "base_uri": "https://localhost:8080/"
        },
        "id": "x8mDE9qziAGB",
        "outputId": "1b2d15d3-7480-4936-fe39-8d820aa4a46c"
      },
      "execution_count": 12,
      "outputs": [
        {
          "output_type": "stream",
          "name": "stdout",
          "text": [
            "apple\n",
            "banana\n",
            "cherry\n"
          ]
        }
      ]
    },
    {
      "cell_type": "markdown",
      "source": [
        "The for loop does not require an indexing variable to set beforehand.\n",
        "\n",
        "Looping Through a String Even strings are iterable objects, they contain a sequence of characters:"
      ],
      "metadata": {
        "id": "FG0gCifziGst"
      }
    },
    {
      "cell_type": "code",
      "source": [
        "# Example\n",
        "# Loop through the letters in the word \"banana\":\n",
        "\n",
        "for i in \"banana\":\n",
        "  print(i)"
      ],
      "metadata": {
        "colab": {
          "base_uri": "https://localhost:8080/"
        },
        "id": "XD-U-rhNiJDR",
        "outputId": "8c96020a-4e0b-4291-fd2c-e971234b8638"
      },
      "execution_count": 13,
      "outputs": [
        {
          "output_type": "stream",
          "name": "stdout",
          "text": [
            "b\n",
            "a\n",
            "n\n",
            "a\n",
            "n\n",
            "a\n"
          ]
        }
      ]
    },
    {
      "cell_type": "code",
      "source": [
        "# looping over the strings\n",
        "str1 = \"abcde\"\n",
        "\n",
        "for item in str1:\n",
        "    print(item)"
      ],
      "metadata": {
        "colab": {
          "base_uri": "https://localhost:8080/"
        },
        "id": "7LmLcUS3ki07",
        "outputId": "3cb00db8-3919-4d9e-a557-08a74104341b"
      },
      "execution_count": 21,
      "outputs": [
        {
          "output_type": "stream",
          "name": "stdout",
          "text": [
            "a\n",
            "b\n",
            "c\n",
            "d\n",
            "e\n"
          ]
        }
      ]
    },
    {
      "cell_type": "code",
      "source": [
        "# looping over lists\n",
        "\n",
        "list1 = [1,2,3,4,5]\n",
        "\n",
        "for item in list1:\n",
        "    print(item)"
      ],
      "metadata": {
        "colab": {
          "base_uri": "https://localhost:8080/"
        },
        "id": "Toyenmxrkqgr",
        "outputId": "8e0df779-4181-48e7-c7fb-ea3bec6b43dd"
      },
      "execution_count": 22,
      "outputs": [
        {
          "output_type": "stream",
          "name": "stdout",
          "text": [
            "1\n",
            "2\n",
            "3\n",
            "4\n",
            "5\n"
          ]
        }
      ]
    },
    {
      "cell_type": "markdown",
      "source": [
        "# **The break Statement** \n",
        "With the break statement we can stop the loop before it has looped through all the items:\n",
        "\n",
        "Example Exit the loop when x is \"banana\":"
      ],
      "metadata": {
        "id": "ocp_p3W0iNLT"
      }
    },
    {
      "cell_type": "code",
      "source": [
        "fruits = [\"apple\", \"banana\", \"cherry\"]\n",
        "for x in fruits:\n",
        "  print(x)\n",
        "  if x == \"banana\":\n",
        "    break"
      ],
      "metadata": {
        "colab": {
          "base_uri": "https://localhost:8080/"
        },
        "id": "VjboL_paiSm6",
        "outputId": "480b492d-877e-46eb-b346-fe9bd0cfd6ca"
      },
      "execution_count": 14,
      "outputs": [
        {
          "output_type": "stream",
          "name": "stdout",
          "text": [
            "apple\n",
            "banana\n"
          ]
        }
      ]
    },
    {
      "cell_type": "code",
      "source": [
        "# Example\n",
        "# Exit the loop when x is \"banana\", but this time the break comes before the print:\n",
        "\n",
        "fruits = [\"apple\", \"banana\", \"cherry\"]\n",
        "for x in fruits:\n",
        "  if x == \"banana\":\n",
        "    break\n",
        "  print(x)"
      ],
      "metadata": {
        "colab": {
          "base_uri": "https://localhost:8080/"
        },
        "id": "xRLUz_nPiVb7",
        "outputId": "4c3faa32-de31-4ca0-9040-4569804f0bda"
      },
      "execution_count": 15,
      "outputs": [
        {
          "output_type": "stream",
          "name": "stdout",
          "text": [
            "apple\n"
          ]
        }
      ]
    },
    {
      "cell_type": "code",
      "source": [
        "# using break in for loops\n",
        "for i in range(10):\n",
        "    if ( i == 7):\n",
        "        break\n",
        "    print(i)"
      ],
      "metadata": {
        "colab": {
          "base_uri": "https://localhost:8080/"
        },
        "id": "D7rjsT8UlDkl",
        "outputId": "eea35abc-8958-4b6e-b514-43cf94ff7340"
      },
      "execution_count": 26,
      "outputs": [
        {
          "output_type": "stream",
          "name": "stdout",
          "text": [
            "0\n",
            "1\n",
            "2\n",
            "3\n",
            "4\n",
            "5\n",
            "6\n"
          ]
        }
      ]
    },
    {
      "cell_type": "markdown",
      "source": [
        "# **The continue Statement** \n",
        "With the continue statement we can stop the current iteration of the loop, and continue with the next:\n",
        "\n",
        "Example Do not print banana:"
      ],
      "metadata": {
        "id": "-n56JZgbibN5"
      }
    },
    {
      "cell_type": "code",
      "source": [
        "fruits = [\"apple\", \"banana\", \"cherry\"]\n",
        "for x in fruits:\n",
        "  if x == \"banana\":\n",
        "    continue\n",
        "  print(x)"
      ],
      "metadata": {
        "colab": {
          "base_uri": "https://localhost:8080/"
        },
        "id": "IHqIeTmbijQs",
        "outputId": "f4ae90b7-e62c-4a05-f254-e65ef30908c9"
      },
      "execution_count": 16,
      "outputs": [
        {
          "output_type": "stream",
          "name": "stdout",
          "text": [
            "apple\n",
            "cherry\n"
          ]
        }
      ]
    },
    {
      "cell_type": "markdown",
      "source": [
        "# **The range() Function:-** \n",
        "To loop through a set of code a specified number of times, we can use the range() function, The range() function returns a sequence of numbers, starting from 0 by default, and increments by 1 (by default), and ends at a specified number.\n",
        "\n",
        "\n",
        "Example Using the range() function:\n",
        "\n"
      ],
      "metadata": {
        "id": "IyJaDBJVinOT"
      }
    },
    {
      "cell_type": "code",
      "source": [
        "for x in range(6):\n",
        "  print(x)"
      ],
      "metadata": {
        "colab": {
          "base_uri": "https://localhost:8080/"
        },
        "id": "jzKGI9Yxiv5k",
        "outputId": "9da668d7-d367-4023-fa65-bbd49c2dc743"
      },
      "execution_count": 17,
      "outputs": [
        {
          "output_type": "stream",
          "name": "stdout",
          "text": [
            "0\n",
            "1\n",
            "2\n",
            "3\n",
            "4\n",
            "5\n"
          ]
        }
      ]
    },
    {
      "cell_type": "markdown",
      "source": [
        "The range() function defaults to 0 as a starting value, however it is possible to specify the starting value by adding a parameter: range(2, 6), which means values from 2 to 6 (but not including 6):\n",
        "\n",
        "Example Using the start parameter:"
      ],
      "metadata": {
        "id": "AejTpavwiz5b"
      }
    },
    {
      "cell_type": "code",
      "source": [
        "for x in range(2, 6):\n",
        "  print(x)"
      ],
      "metadata": {
        "colab": {
          "base_uri": "https://localhost:8080/"
        },
        "id": "YNfRwwBpi3uz",
        "outputId": "fb0f3cd7-6acd-4a25-8fa7-81a09ad929ca"
      },
      "execution_count": 18,
      "outputs": [
        {
          "output_type": "stream",
          "name": "stdout",
          "text": [
            "2\n",
            "3\n",
            "4\n",
            "5\n"
          ]
        }
      ]
    },
    {
      "cell_type": "code",
      "source": [
        "for i in range(1,10):\n",
        "    print(i)"
      ],
      "metadata": {
        "colab": {
          "base_uri": "https://localhost:8080/"
        },
        "id": "Wgg5aHl3ky38",
        "outputId": "4b737fa4-5369-47bf-f669-417b77e251e2"
      },
      "execution_count": 23,
      "outputs": [
        {
          "output_type": "stream",
          "name": "stdout",
          "text": [
            "1\n",
            "2\n",
            "3\n",
            "4\n",
            "5\n",
            "6\n",
            "7\n",
            "8\n",
            "9\n"
          ]
        }
      ]
    },
    {
      "cell_type": "code",
      "source": [
        "for i in range(1,10,2):\n",
        "    print(i)"
      ],
      "metadata": {
        "colab": {
          "base_uri": "https://localhost:8080/"
        },
        "id": "VIZRmhUtk3W0",
        "outputId": "59b2d30d-bd35-4612-b7f0-bfbdf2dbcc5b"
      },
      "execution_count": 24,
      "outputs": [
        {
          "output_type": "stream",
          "name": "stdout",
          "text": [
            "1\n",
            "3\n",
            "5\n",
            "7\n",
            "9\n"
          ]
        }
      ]
    },
    {
      "cell_type": "code",
      "source": [
        "#looping in reverse order from 10 to 1\n",
        "for i in range(10,0,-1):\n",
        "    print(i)"
      ],
      "metadata": {
        "colab": {
          "base_uri": "https://localhost:8080/"
        },
        "id": "q3habu1Lk7-U",
        "outputId": "5c50d775-cc2c-468f-8559-c97c114aacf3"
      },
      "execution_count": 25,
      "outputs": [
        {
          "output_type": "stream",
          "name": "stdout",
          "text": [
            "10\n",
            "9\n",
            "8\n",
            "7\n",
            "6\n",
            "5\n",
            "4\n",
            "3\n",
            "2\n",
            "1\n"
          ]
        }
      ]
    },
    {
      "cell_type": "markdown",
      "source": [
        "# **pass**\n",
        "pass keyword does nothing but you can avoid getting an error when empty code is not allowed. Empty code is not allowed in loops,if else conditions,functions,Classes etc"
      ],
      "metadata": {
        "id": "QCjw1ru4lnXV"
      }
    },
    {
      "cell_type": "code",
      "source": [
        "if(4>2):\n",
        "    pass"
      ],
      "metadata": {
        "id": "tLubPHsolpfV"
      },
      "execution_count": 27,
      "outputs": []
    },
    {
      "cell_type": "code",
      "source": [
        "if(4>2):\n",
        "    print(\"A\")\n",
        "else:\n",
        "    pass"
      ],
      "metadata": {
        "colab": {
          "base_uri": "https://localhost:8080/"
        },
        "id": "3HrrLT9vluba",
        "outputId": "f4433171-634f-472e-f970-324f250b3bd2"
      },
      "execution_count": 28,
      "outputs": [
        {
          "output_type": "stream",
          "name": "stdout",
          "text": [
            "A\n"
          ]
        }
      ]
    },
    {
      "cell_type": "code",
      "source": [
        "for i in range(10):\n",
        "    pass"
      ],
      "metadata": {
        "id": "W2e8E8VplxCz"
      },
      "execution_count": 29,
      "outputs": []
    },
    {
      "cell_type": "markdown",
      "source": [
        "# **Else in For Loop** \n",
        "The else keyword in a for loop specifies a block of code to be executed when the loop is finished:\n",
        "\n",
        "Example Print all numbers from 0 to 5, and print a message when the loop has ended:"
      ],
      "metadata": {
        "id": "u0MVV-bNi7dT"
      }
    },
    {
      "cell_type": "code",
      "source": [
        "for x in range(6):\n",
        "  print(x)\n",
        "else:\n",
        "  print(\"Finally finished!\")"
      ],
      "metadata": {
        "colab": {
          "base_uri": "https://localhost:8080/"
        },
        "id": "XAh_3Q8Mi9oy",
        "outputId": "8b805b41-b13c-46dd-a81b-74f400452818"
      },
      "execution_count": 19,
      "outputs": [
        {
          "output_type": "stream",
          "name": "stdout",
          "text": [
            "0\n",
            "1\n",
            "2\n",
            "3\n",
            "4\n",
            "5\n",
            "Finally finished!\n"
          ]
        }
      ]
    },
    {
      "cell_type": "markdown",
      "source": [
        "# **Nested Loops** \n",
        "A nested loop is a loop inside a loop.\n",
        "\n",
        "The \"inner loop\" will be executed one time for each iteration of the \"outer loop\":\n",
        "\n"
      ],
      "metadata": {
        "id": "mWciFeZmjsYK"
      }
    },
    {
      "cell_type": "code",
      "source": [
        "# Example Print each adjective for every fruit:\n",
        "adj = [\"red\", \"big\", \"tasty\"]\n",
        "fruits = [\"apple\", \"banana\", \"cherry\"]\n",
        "\n",
        "for x in adj:\n",
        "  for y in fruits:\n",
        "    print(x, y)"
      ],
      "metadata": {
        "colab": {
          "base_uri": "https://localhost:8080/"
        },
        "id": "p72GXFq0j0ga",
        "outputId": "9d674b59-5fd6-43e5-c3d1-7e360a74053a"
      },
      "execution_count": 20,
      "outputs": [
        {
          "output_type": "stream",
          "name": "stdout",
          "text": [
            "red apple\n",
            "red banana\n",
            "red cherry\n",
            "big apple\n",
            "big banana\n",
            "big cherry\n",
            "tasty apple\n",
            "tasty banana\n",
            "tasty cherry\n"
          ]
        }
      ]
    }
  ]
}