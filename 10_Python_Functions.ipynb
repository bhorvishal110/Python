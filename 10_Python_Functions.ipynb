{
  "nbformat": 4,
  "nbformat_minor": 0,
  "metadata": {
    "colab": {
      "name": "10.Python Functions.ipynb",
      "provenance": []
    },
    "kernelspec": {
      "name": "python3",
      "display_name": "Python 3"
    },
    "language_info": {
      "name": "python"
    }
  },
  "cells": [
    {
      "cell_type": "markdown",
      "source": [
        "# **Python Functions**\n",
        "A function is a block of code which only runs when it is called.\n",
        "\n",
        "You can pass data, known as parameters, into a function.\n",
        "\n",
        "A function can return data as a result."
      ],
      "metadata": {
        "id": "bLQuw55DweH1"
      }
    },
    {
      "cell_type": "code",
      "source": [
        "# syntax\n",
        "\"\"\"\n",
        "def function_name():\n",
        "    statement 1\n",
        "    statement 2\n",
        "    ...\n",
        "    ...\n",
        "    ...\n",
        "    statement n\n",
        "\"\"\""
      ],
      "metadata": {
        "id": "_tRkqJuiyHZr"
      },
      "execution_count": null,
      "outputs": []
    },
    {
      "cell_type": "code",
      "source": [
        "# Creating a Function\n",
        "# In Python a function is defined using the def keyword:\n",
        "#Example\n",
        "def my_function():\n",
        " print(\"Hello from a function\")"
      ],
      "metadata": {
        "id": "G_fO-q6PwiGT"
      },
      "execution_count": 1,
      "outputs": []
    },
    {
      "cell_type": "markdown",
      "source": [
        "# **Calling a Function**\n",
        "To call a function, use the function name followed by parenthesis:"
      ],
      "metadata": {
        "id": "_I_a1fVawlSp"
      }
    },
    {
      "cell_type": "code",
      "source": [
        "#Example\n",
        "def my_function():\n",
        "  print(\"Hello from a function\")\n",
        "\n",
        "my_function()"
      ],
      "metadata": {
        "colab": {
          "base_uri": "https://localhost:8080/"
        },
        "id": "naNwjEbPwnZi",
        "outputId": "4d6e2eee-fafc-407c-9d03-be58bdfd4864"
      },
      "execution_count": 2,
      "outputs": [
        {
          "output_type": "stream",
          "name": "stdout",
          "text": [
            "Hello from a function\n"
          ]
        }
      ]
    },
    {
      "cell_type": "code",
      "source": [
        "# defining the function\n",
        "def my_func():\n",
        "    print(\"hello\")\n",
        "    print(\"I am a function\")\n",
        "    print(\"I will execute only when i get called\")"
      ],
      "metadata": {
        "id": "hvi9RO15yNTr"
      },
      "execution_count": 12,
      "outputs": []
    },
    {
      "cell_type": "code",
      "source": [
        "# calling the function\n",
        "my_func()"
      ],
      "metadata": {
        "colab": {
          "base_uri": "https://localhost:8080/"
        },
        "id": "AWyND6mCyQ8L",
        "outputId": "0e783a14-efd0-4965-b977-ade4af070959"
      },
      "execution_count": 13,
      "outputs": [
        {
          "output_type": "stream",
          "name": "stdout",
          "text": [
            "hello\n",
            "I am a function\n",
            "I will execute only when i get called\n"
          ]
        }
      ]
    },
    {
      "cell_type": "code",
      "source": [
        "#Ex2) Adding two numbers\n",
        "def add():\n",
        "    x = 10\n",
        "    y = 20\n",
        "    z = x + y\n",
        "    print(z)"
      ],
      "metadata": {
        "id": "zPqU7P84yU5G"
      },
      "execution_count": 14,
      "outputs": []
    },
    {
      "cell_type": "code",
      "source": [
        "add()"
      ],
      "metadata": {
        "colab": {
          "base_uri": "https://localhost:8080/"
        },
        "id": "rnvJygR4yW3d",
        "outputId": "15f2b6e3-87cf-4e9e-c9d8-47d56d2f1dde"
      },
      "execution_count": 15,
      "outputs": [
        {
          "output_type": "stream",
          "name": "stdout",
          "text": [
            "30\n"
          ]
        }
      ]
    },
    {
      "cell_type": "code",
      "source": [
        "#Ex you can pass strings\n",
        "def func(name):\n",
        "    print(\"Hello {}\".format(name))"
      ],
      "metadata": {
        "id": "ghvgQ8YSFWEI"
      },
      "execution_count": 1,
      "outputs": []
    },
    {
      "cell_type": "code",
      "source": [
        "func(\"Himanshu\")"
      ],
      "metadata": {
        "colab": {
          "base_uri": "https://localhost:8080/"
        },
        "id": "dUZ8ChHuFaB2",
        "outputId": "87d9b991-24a8-4c50-dbc3-1eedac414335"
      },
      "execution_count": 2,
      "outputs": [
        {
          "output_type": "stream",
          "name": "stdout",
          "text": [
            "Hello Himanshu\n"
          ]
        }
      ]
    },
    {
      "cell_type": "code",
      "source": [
        "# Ex you can pass lists\n",
        "def func(list1):\n",
        "    for i in list1:\n",
        "        print(i)"
      ],
      "metadata": {
        "id": "yuamS3VvFcs7"
      },
      "execution_count": 3,
      "outputs": []
    },
    {
      "cell_type": "code",
      "source": [
        "func([1,2,3,4,5])"
      ],
      "metadata": {
        "colab": {
          "base_uri": "https://localhost:8080/"
        },
        "id": "QNP3wKNRFdlJ",
        "outputId": "1b073746-b490-40c6-c558-3d9cc63383aa"
      },
      "execution_count": 4,
      "outputs": [
        {
          "output_type": "stream",
          "name": "stdout",
          "text": [
            "1\n",
            "2\n",
            "3\n",
            "4\n",
            "5\n"
          ]
        }
      ]
    },
    {
      "cell_type": "markdown",
      "source": [
        "# **Arguments**\n",
        "Information can be passed into functions as arguments.\n",
        "\n",
        "Arguments are specified after the function name, inside the parentheses. You can add as many arguments as you want, just separate them with a comma.\n",
        "\n",
        "The following example has a function with one argument (fname). When the function is called, we pass along a first name, which is used inside the function to print the full name:"
      ],
      "metadata": {
        "id": "Ivcc1EXiwtL8"
      }
    },
    {
      "cell_type": "code",
      "source": [
        "#Example\n",
        "def my_function(fname):\n",
        "  print(fname + \" is my name\")\n",
        "\n",
        "my_function(\"Riya\")\n",
        "my_function(\"Priya\")\n",
        "my_function(\"Supriya\")"
      ],
      "metadata": {
        "colab": {
          "base_uri": "https://localhost:8080/"
        },
        "id": "xddxyz-5wv9V",
        "outputId": "bda79961-69ad-4b5a-99cb-ec3c558e9351"
      },
      "execution_count": 3,
      "outputs": [
        {
          "output_type": "stream",
          "name": "stdout",
          "text": [
            "Riya is my name\n",
            "Priya is my name\n",
            "Supriya is my name\n"
          ]
        }
      ]
    },
    {
      "cell_type": "markdown",
      "source": [
        "Arguments are often shortened to args in Python documentations."
      ],
      "metadata": {
        "id": "wHspMrp-wzlM"
      }
    },
    {
      "cell_type": "markdown",
      "source": [
        "# **Parameters or Arguments?**\n",
        "The terms parameter and argument can be used for the same thing: information that are passed into a function.\n",
        "\n",
        "From a function's perspective:\n",
        "\n",
        "A parameter is the variable listed inside the parentheses in the function definition.\n",
        "\n",
        "An argument is the value that is sent to the function when it is called."
      ],
      "metadata": {
        "id": "6SvXD1Lww0Ud"
      }
    },
    {
      "cell_type": "markdown",
      "source": [
        "# **Number of Arguments**\n",
        "By default, a function must be called with the correct number of arguments. Meaning that if your function expects 2 arguments, you have to call the function with 2 arguments, not more, and not less."
      ],
      "metadata": {
        "id": "SRXy3TZDw5OO"
      }
    },
    {
      "cell_type": "code",
      "source": [
        "# Example\n",
        "# This function expects 2 arguments, and gets 2 arguments:\n",
        "\n",
        "def my_function(fname, lname):\n",
        "  print(fname + \" \" + lname)\n",
        "\n",
        "my_function(\"Riya\", \"Mehra\")"
      ],
      "metadata": {
        "colab": {
          "base_uri": "https://localhost:8080/"
        },
        "id": "8ff9KHVsw7vY",
        "outputId": "6092b6a8-8467-43f8-ab68-5b2c22611405"
      },
      "execution_count": 4,
      "outputs": [
        {
          "output_type": "stream",
          "name": "stdout",
          "text": [
            "Riya Mehra\n"
          ]
        }
      ]
    },
    {
      "cell_type": "code",
      "source": [
        "# If you try to call the function with 1 or 3 arguments, you will get an error:\n",
        "# Example\n",
        "# This function expects 2 arguments, but gets only 1:\n",
        "\n",
        "def my_function(fname, lname):\n",
        "  print(fname + \" \" + lname)\n",
        "\n",
        "my_function(\"Riya\")"
      ],
      "metadata": {
        "colab": {
          "base_uri": "https://localhost:8080/",
          "height": 200
        },
        "id": "ASjYM6qNw-ZW",
        "outputId": "290968ca-4785-4d8d-a121-0a4f6ba77577"
      },
      "execution_count": 5,
      "outputs": [
        {
          "output_type": "error",
          "ename": "TypeError",
          "evalue": "ignored",
          "traceback": [
            "\u001b[0;31m---------------------------------------------------------------------------\u001b[0m",
            "\u001b[0;31mTypeError\u001b[0m                                 Traceback (most recent call last)",
            "\u001b[0;32m<ipython-input-5-d0c1c1f49e28>\u001b[0m in \u001b[0;36m<module>\u001b[0;34m()\u001b[0m\n\u001b[1;32m      6\u001b[0m   \u001b[0mprint\u001b[0m\u001b[0;34m(\u001b[0m\u001b[0mfname\u001b[0m \u001b[0;34m+\u001b[0m \u001b[0;34m\" \"\u001b[0m \u001b[0;34m+\u001b[0m \u001b[0mlname\u001b[0m\u001b[0;34m)\u001b[0m\u001b[0;34m\u001b[0m\u001b[0;34m\u001b[0m\u001b[0m\n\u001b[1;32m      7\u001b[0m \u001b[0;34m\u001b[0m\u001b[0m\n\u001b[0;32m----> 8\u001b[0;31m \u001b[0mmy_function\u001b[0m\u001b[0;34m(\u001b[0m\u001b[0;34m\"Riya\"\u001b[0m\u001b[0;34m)\u001b[0m\u001b[0;34m\u001b[0m\u001b[0;34m\u001b[0m\u001b[0m\n\u001b[0m",
            "\u001b[0;31mTypeError\u001b[0m: my_function() missing 1 required positional argument: 'lname'"
          ]
        }
      ]
    },
    {
      "cell_type": "markdown",
      "source": [
        "# **Arbitrary Arguments, *args**\n",
        "If you do not know how many arguments that will be passed into your function, add a * before the parameter name in the function definition.\n",
        "\n",
        "This way the function will receive a tuple of arguments, and can access the items accordingly: "
      ],
      "metadata": {
        "id": "5dZpQ1rzxA-x"
      }
    },
    {
      "cell_type": "code",
      "source": [
        "# Example\n",
        "# If the number of arguments is unknown, add a * before the parameter name:\n",
        "\n",
        "def my_function(*kids):\n",
        "  print(\"The youngest child is \" + kids[2])\n",
        "\n",
        "my_function(\"Emil\", \"Tobias\", \"Linus\")"
      ],
      "metadata": {
        "colab": {
          "base_uri": "https://localhost:8080/"
        },
        "id": "DS3eMf-DxPHH",
        "outputId": "95ed30eb-4d57-4812-b0ec-68b15df4f7ec"
      },
      "execution_count": 6,
      "outputs": [
        {
          "output_type": "stream",
          "name": "stdout",
          "text": [
            "The youngest child is Linus\n"
          ]
        }
      ]
    },
    {
      "cell_type": "markdown",
      "source": [
        "**Keyword Arguments** You can also send arguments with the key = value syntax. This way the order of the arguments does not matter.\n",
        "\n"
      ],
      "metadata": {
        "id": "Hle-HF_qxRcc"
      }
    },
    {
      "cell_type": "code",
      "source": [
        "#Example\n",
        "def my_function(child3, child2, child1):\n",
        "  print(\"The youngest child is \" + child3)\n",
        "\n",
        "my_function(child1 = \"Emil\", child2 = \"Tobias\", child3 = \"Linus\")"
      ],
      "metadata": {
        "colab": {
          "base_uri": "https://localhost:8080/"
        },
        "id": "hK4C3km_xUIt",
        "outputId": "ad6bdca6-c550-4199-e51d-abc1a58b967c"
      },
      "execution_count": 7,
      "outputs": [
        {
          "output_type": "stream",
          "name": "stdout",
          "text": [
            "The youngest child is Linus\n"
          ]
        }
      ]
    },
    {
      "cell_type": "markdown",
      "source": [
        "# **Default Parameter Value**\n",
        "The following example shows how to use a default parameter value.\n",
        "\n",
        "If we call the function without argument, it uses the default value:"
      ],
      "metadata": {
        "id": "4TrXCFV1xW2z"
      }
    },
    {
      "cell_type": "code",
      "source": [
        "#Example\n",
        "def my_function(country = \"Norway\"):\n",
        "  print(\"I am from \" + country)\n",
        "\n",
        "my_function(\"Sweden\")\n",
        "my_function(\"India\")\n",
        "my_function()\n",
        "my_function(\"Brazil\")"
      ],
      "metadata": {
        "colab": {
          "base_uri": "https://localhost:8080/"
        },
        "id": "EuTMMmpzxZnF",
        "outputId": "a05af442-fef1-4d78-9e67-8e2d0a501306"
      },
      "execution_count": 8,
      "outputs": [
        {
          "output_type": "stream",
          "name": "stdout",
          "text": [
            "I am from Sweden\n",
            "I am from India\n",
            "I am from Norway\n",
            "I am from Brazil\n"
          ]
        }
      ]
    },
    {
      "cell_type": "code",
      "source": [
        "#Without default values\n",
        "def add(x,y,z):\n",
        "    my_num = x + y + z\n",
        "    print(my_num)"
      ],
      "metadata": {
        "id": "GhJsRSOtF_a1"
      },
      "execution_count": 9,
      "outputs": []
    },
    {
      "cell_type": "code",
      "source": [
        "# when value is passed\n",
        "add(10,20,30)"
      ],
      "metadata": {
        "colab": {
          "base_uri": "https://localhost:8080/"
        },
        "id": "hrrcm9daGBzO",
        "outputId": "0573fead-2bd3-46ca-cccb-c61e5d886861"
      },
      "execution_count": 10,
      "outputs": [
        {
          "output_type": "stream",
          "name": "stdout",
          "text": [
            "60\n"
          ]
        }
      ]
    },
    {
      "cell_type": "code",
      "source": [
        "# when value is not passed\n",
        "add(10,20) #ERROR"
      ],
      "metadata": {
        "colab": {
          "base_uri": "https://localhost:8080/",
          "height": 182
        },
        "id": "StYgqjinGDtE",
        "outputId": "1dcb93c8-46d2-4922-e775-6802f79a30a3"
      },
      "execution_count": 11,
      "outputs": [
        {
          "output_type": "error",
          "ename": "TypeError",
          "evalue": "ignored",
          "traceback": [
            "\u001b[0;31m---------------------------------------------------------------------------\u001b[0m",
            "\u001b[0;31mTypeError\u001b[0m                                 Traceback (most recent call last)",
            "\u001b[0;32m<ipython-input-11-db362d118943>\u001b[0m in \u001b[0;36m<module>\u001b[0;34m()\u001b[0m\n\u001b[1;32m      1\u001b[0m \u001b[0;31m# when value is not passed\u001b[0m\u001b[0;34m\u001b[0m\u001b[0;34m\u001b[0m\u001b[0;34m\u001b[0m\u001b[0m\n\u001b[0;32m----> 2\u001b[0;31m \u001b[0madd\u001b[0m\u001b[0;34m(\u001b[0m\u001b[0;36m10\u001b[0m\u001b[0;34m,\u001b[0m\u001b[0;36m20\u001b[0m\u001b[0;34m)\u001b[0m \u001b[0;31m#ERROR\u001b[0m\u001b[0;34m\u001b[0m\u001b[0;34m\u001b[0m\u001b[0m\n\u001b[0m",
            "\u001b[0;31mTypeError\u001b[0m: add() missing 1 required positional argument: 'z'"
          ]
        }
      ]
    },
    {
      "cell_type": "code",
      "source": [
        "# With default values\n",
        "\n",
        "def add(x,y,z = 0): #z is initilized to 0 (default)\n",
        "    my_num = x + y + z\n",
        "    print(my_num)"
      ],
      "metadata": {
        "id": "qDh_0T8eGHWN"
      },
      "execution_count": 12,
      "outputs": []
    },
    {
      "cell_type": "code",
      "source": [
        "# when value is not passed\n",
        "add(10,20)"
      ],
      "metadata": {
        "colab": {
          "base_uri": "https://localhost:8080/"
        },
        "id": "5l82RTdXGJej",
        "outputId": "4c22df52-60a8-4ec9-ad5c-de5f03ed5ac6"
      },
      "execution_count": 13,
      "outputs": [
        {
          "output_type": "stream",
          "name": "stdout",
          "text": [
            "30\n"
          ]
        }
      ]
    },
    {
      "cell_type": "code",
      "source": [
        "#when value is passed\n",
        "add(10,20,30)"
      ],
      "metadata": {
        "colab": {
          "base_uri": "https://localhost:8080/"
        },
        "id": "dZ6tVSkLGLVO",
        "outputId": "2c5503df-4ba8-497e-f0b4-f77b74ffc83c"
      },
      "execution_count": 14,
      "outputs": [
        {
          "output_type": "stream",
          "name": "stdout",
          "text": [
            "60\n"
          ]
        }
      ]
    },
    {
      "cell_type": "markdown",
      "source": [
        "**Passing a List as an Argument** You can send any data types of argument to a function (string, number, list, dictionary etc.), and it will be treated as the same data type inside the function.\n",
        "\n",
        "E.g. if you send a List as an argument, it will still be a List when it reaches the function:"
      ],
      "metadata": {
        "id": "k7YOIr2fxcw-"
      }
    },
    {
      "cell_type": "code",
      "source": [
        "#Example\n",
        "def my_function(fruits):\n",
        "  for x in fruits:\n",
        "    print(x)\n",
        "\n",
        "fruits = [\"apple\", \"banana\", \"cherry\"]\n",
        "\n",
        "my_function(fruits)"
      ],
      "metadata": {
        "colab": {
          "base_uri": "https://localhost:8080/"
        },
        "id": "C7CUAg5yxgzM",
        "outputId": "c082c791-ee35-4257-b7e1-c06a86c3beb8"
      },
      "execution_count": 9,
      "outputs": [
        {
          "output_type": "stream",
          "name": "stdout",
          "text": [
            "apple\n",
            "banana\n",
            "cherry\n"
          ]
        }
      ]
    },
    {
      "cell_type": "markdown",
      "source": [
        "# **Return Values**\n",
        "To let a function return a value, use the return statement:"
      ],
      "metadata": {
        "id": "suO4bTIHxkLF"
      }
    },
    {
      "cell_type": "code",
      "source": [
        "#Example\n",
        "def my_function(x):\n",
        "  return 5 * x\n",
        "\n",
        "print(my_function(3))\n",
        "print(my_function(5))\n",
        "print(my_function(9))"
      ],
      "metadata": {
        "colab": {
          "base_uri": "https://localhost:8080/"
        },
        "id": "UFVcp7JoxnDk",
        "outputId": "1d860865-8657-4cce-a52b-476b105b6fc8"
      },
      "execution_count": 10,
      "outputs": [
        {
          "output_type": "stream",
          "name": "stdout",
          "text": [
            "15\n",
            "25\n",
            "45\n"
          ]
        }
      ]
    },
    {
      "cell_type": "code",
      "source": [
        "# Ex1) returning sum\n",
        "def add(x,y):\n",
        "    z = x + y\n",
        "    return z\n",
        "    print(z) #will not be executed"
      ],
      "metadata": {
        "id": "Ib-TCAWzFxAY"
      },
      "execution_count": 5,
      "outputs": []
    },
    {
      "cell_type": "code",
      "source": [
        "my_sum = add(10,20)\n",
        "my_sum + 10"
      ],
      "metadata": {
        "colab": {
          "base_uri": "https://localhost:8080/"
        },
        "id": "Yk55JdXAFzko",
        "outputId": "e30708be-b717-47c0-bc2e-18d58e0065b4"
      },
      "execution_count": 6,
      "outputs": [
        {
          "output_type": "execute_result",
          "data": {
            "text/plain": [
              "40"
            ]
          },
          "metadata": {},
          "execution_count": 6
        }
      ]
    },
    {
      "cell_type": "code",
      "source": [
        "# Ex2) returning product\n",
        "def product(x,y):\n",
        "    z = x * y\n",
        "    return z\n",
        "    print(z) #will not execute"
      ],
      "metadata": {
        "id": "Ub7VrknyF2U4"
      },
      "execution_count": 7,
      "outputs": []
    },
    {
      "cell_type": "code",
      "source": [
        "my_num = product(10,2)\n",
        "my_num"
      ],
      "metadata": {
        "colab": {
          "base_uri": "https://localhost:8080/"
        },
        "id": "N3bEotVSF39-",
        "outputId": "e3140873-ce18-4c84-e234-7b70a27e9ef1"
      },
      "execution_count": 8,
      "outputs": [
        {
          "output_type": "execute_result",
          "data": {
            "text/plain": [
              "20"
            ]
          },
          "metadata": {},
          "execution_count": 8
        }
      ]
    },
    {
      "cell_type": "markdown",
      "source": [
        "# **Recursion**\n",
        "Python also accepts function recursion, which means a defined function can call itself."
      ],
      "metadata": {
        "id": "8EQvHbR6xswE"
      }
    },
    {
      "cell_type": "code",
      "source": [
        "# Example\n",
        "# Recursion Example\n",
        "\n",
        "def tri_recursion(k):\n",
        "  if(k > 0):\n",
        "    result = k + tri_recursion(k - 1)\n",
        "  else:\n",
        "    result = 0\n",
        "  return result\n",
        "\n",
        "print(tri_recursion(6))"
      ],
      "metadata": {
        "colab": {
          "base_uri": "https://localhost:8080/"
        },
        "id": "K3ZiUKCBxvIL",
        "outputId": "0aee95b5-5026-4986-97da-f3ad55187872"
      },
      "execution_count": 11,
      "outputs": [
        {
          "output_type": "stream",
          "name": "stdout",
          "text": [
            "21\n"
          ]
        }
      ]
    },
    {
      "cell_type": "code",
      "source": [
        "# Printing Hello for 5 times using recursion\n",
        "def my_func(num):\n",
        "    num = num + 1\n",
        "    if(num>5):\n",
        "        return\n",
        "    else:\n",
        "        print(\"Hello\")\n",
        "        my_func(num)"
      ],
      "metadata": {
        "id": "thczFGOqGcL2"
      },
      "execution_count": 17,
      "outputs": []
    },
    {
      "cell_type": "code",
      "source": [
        "my_func(0)\n"
      ],
      "metadata": {
        "colab": {
          "base_uri": "https://localhost:8080/"
        },
        "id": "tHrY6uRiGgWZ",
        "outputId": "1a19ba65-fda8-4557-d4d2-ec8bf3c66d87"
      },
      "execution_count": 18,
      "outputs": [
        {
          "output_type": "stream",
          "name": "stdout",
          "text": [
            "Hello\n",
            "Hello\n",
            "Hello\n",
            "Hello\n",
            "Hello\n"
          ]
        }
      ]
    },
    {
      "cell_type": "markdown",
      "source": [
        "# **A function can call any other function**\n"
      ],
      "metadata": {
        "id": "qorvxhebGRv-"
      }
    },
    {
      "cell_type": "code",
      "source": [
        "def func1():\n",
        "    print(\"func1\")\n",
        "\n",
        "def func2():\n",
        "    print(\"func2\")\n",
        "    func1()\n",
        "    \n",
        "def func3():\n",
        "    print(\"func3\")\n",
        "    func2()"
      ],
      "metadata": {
        "id": "SIKNvv9BGVXJ"
      },
      "execution_count": 15,
      "outputs": []
    },
    {
      "cell_type": "code",
      "source": [
        "func3()"
      ],
      "metadata": {
        "colab": {
          "base_uri": "https://localhost:8080/"
        },
        "id": "SEPXcfpSGYIQ",
        "outputId": "dfd4959b-f65b-414a-eac4-1a8a5618d1ff"
      },
      "execution_count": 16,
      "outputs": [
        {
          "output_type": "stream",
          "name": "stdout",
          "text": [
            "func3\n",
            "func2\n",
            "func1\n"
          ]
        }
      ]
    }
  ]
}