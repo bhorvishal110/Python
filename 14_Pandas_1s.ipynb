{
  "nbformat": 4,
  "nbformat_minor": 0,
  "metadata": {
    "colab": {
      "name": "6. Pandas.ipynb",
      "provenance": [],
      "collapsed_sections": []
    },
    "kernelspec": {
      "name": "python3",
      "display_name": "Python 3"
    },
    "language_info": {
      "name": "python"
    }
  },
  "cells": [
    {
      "cell_type": "markdown",
      "source": [
        "# **Pandas**\n",
        "Pandas is a Python library.\n",
        "\n",
        "Pandas is used to analyze data. What is Pandas? Pandas is a Python library used for working with data sets.\n",
        "\n",
        "It has functions for analyzing, cleaning, exploring, and manipulating data. Pandas allows us to analyze big data and make conclusions based on statistical theories.\n",
        "\n",
        "Pandas can clean messy data sets, and make them readable and relevant.\n",
        "\n",
        "Relevant data is very important in data science."
      ],
      "metadata": {
        "id": "n_4ZY5EiThfj"
      }
    },
    {
      "cell_type": "code",
      "source": [
        "#Import Pandas\n",
        "import pandas\n",
        "#Create an alias with the as keyword while importing.\n",
        "import pandas as pd\n",
        "#Now the Pandas package can be referred to as pd instead of pandas."
      ],
      "metadata": {
        "id": "3N3_xPYVTl2T"
      },
      "execution_count": null,
      "outputs": []
    },
    {
      "cell_type": "markdown",
      "source": [
        "# **Pandas Series**\n",
        "A Pandas Series is like a column in a table.\n",
        "\n",
        "It is a one-dimensional array holding data of any type."
      ],
      "metadata": {
        "id": "1zOGXoKrTsoN"
      }
    },
    {
      "cell_type": "code",
      "source": [
        "#Create a simple Pandas Series from a list:\n",
        "import pandas as pd\n",
        "a = [1, 7, 2]\n",
        "myvar = pd.Series(a)\n",
        "print(myvar)"
      ],
      "metadata": {
        "colab": {
          "base_uri": "https://localhost:8080/"
        },
        "id": "m21-4ffFTuTH",
        "outputId": "3b8149f3-c7b3-41b0-cf94-bfa89a87c563"
      },
      "execution_count": null,
      "outputs": [
        {
          "output_type": "stream",
          "name": "stdout",
          "text": [
            "0    1\n",
            "1    7\n",
            "2    2\n",
            "dtype: int64\n"
          ]
        }
      ]
    },
    {
      "cell_type": "code",
      "source": [
        "# Labels\n",
        "# If nothing else is specified, the values are labeled with their index number. First value has index 0, second value has index 1 etc.\n",
        "\n",
        "# This label can be used to access a specified value.\n",
        "\n",
        "# Example\n",
        "# Return the first value of the Series:\n",
        "\n",
        "print(myvar[0])"
      ],
      "metadata": {
        "colab": {
          "base_uri": "https://localhost:8080/"
        },
        "id": "RlcynYAJTyip",
        "outputId": "40381adf-3e16-4184-d12e-c9449933f981"
      },
      "execution_count": null,
      "outputs": [
        {
          "output_type": "stream",
          "name": "stdout",
          "text": [
            "1\n"
          ]
        }
      ]
    },
    {
      "cell_type": "code",
      "source": [
        "# Key/Value Objects as Series\n",
        "# You can also use a key/value object, like a dictionary, when creating a Series.\n",
        "\n",
        "# Example\n",
        "# Create a simple Pandas Series from a dictionary:\n",
        "\n",
        "import pandas as pd\n",
        "\n",
        "calories = {\"day1\": 420, \"day2\": 380, \"day3\": 390}\n",
        "\n",
        "myvar = pd.Series(calories)\n",
        "\n",
        "print(myvar)"
      ],
      "metadata": {
        "colab": {
          "base_uri": "https://localhost:8080/"
        },
        "id": "UD1WGP-tT1lh",
        "outputId": "309c2586-3be1-48fe-ca6a-ed3122981962"
      },
      "execution_count": null,
      "outputs": [
        {
          "output_type": "stream",
          "name": "stdout",
          "text": [
            "day1    420\n",
            "day2    380\n",
            "day3    390\n",
            "dtype: int64\n"
          ]
        }
      ]
    },
    {
      "cell_type": "code",
      "source": [
        "# To select only some of the items in the dictionary, use the index argument and specify only the items you want to include in the Series.\n",
        "\n",
        "# Example\n",
        "# Create a Series using only data from \"day1\" and \"day2\":\n",
        "\n",
        "import pandas as pd\n",
        "\n",
        "calories = {\"day1\": 420, \"day2\": 380, \"day3\": 390}\n",
        "\n",
        "myvar = pd.Series(calories, index = [\"day1\", \"day2\"])\n",
        "\n",
        "print(myvar)"
      ],
      "metadata": {
        "colab": {
          "base_uri": "https://localhost:8080/"
        },
        "id": "pahbv7EWT5KJ",
        "outputId": "28c987dd-e8cf-4562-fa04-11882d0840e1"
      },
      "execution_count": null,
      "outputs": [
        {
          "output_type": "stream",
          "name": "stdout",
          "text": [
            "day1    420\n",
            "day2    380\n",
            "dtype: int64\n"
          ]
        }
      ]
    },
    {
      "cell_type": "markdown",
      "source": [
        "# **DataFrames**\n",
        "Data sets in Pandas are usually multi-dimensional tables, called DataFrames. Series is like a column, a DataFrame is the whole table.\n",
        "\n",
        "A Pandas DataFrame is a 2 dimensional data structure, like a 2 dimensional array, or a table with rows and columns."
      ],
      "metadata": {
        "id": "-DYDrh7-T85L"
      }
    },
    {
      "cell_type": "code",
      "source": [
        "# Example\n",
        "# Create a DataFrame from two Series:\n",
        "\n",
        "import pandas as pd\n",
        "\n",
        "data = {\n",
        "  \"calories\": [420, 380, 390],\n",
        "  \"duration\": [50, 40, 45]\n",
        "}\n",
        "\n",
        "myvar = pd.DataFrame(data)\n",
        "\n",
        "print(myvar)"
      ],
      "metadata": {
        "colab": {
          "base_uri": "https://localhost:8080/"
        },
        "id": "Ilnc5mq_T_Az",
        "outputId": "2aa973b0-541e-4b2b-afb3-0d6c319ae0f8"
      },
      "execution_count": null,
      "outputs": [
        {
          "output_type": "stream",
          "name": "stdout",
          "text": [
            "   calories  duration\n",
            "0       420        50\n",
            "1       380        40\n",
            "2       390        45\n"
          ]
        }
      ]
    },
    {
      "cell_type": "markdown",
      "source": [
        "# **Pandas Read CSV**"
      ],
      "metadata": {
        "id": "9d1bHoDpUDli"
      }
    },
    {
      "cell_type": "code",
      "source": [
        "# Load Files Into a DataFrame\n",
        "# If your data sets are stored in a file, Pandas can load them into a DataFrame.\n",
        "\n",
        "# Example\n",
        "# Load a comma separated file (CSV file) into a DataFrame:\n",
        "\n",
        "import pandas as pd\n",
        "\n",
        "df = pd.read_csv('Data.csv')\n",
        "\n",
        "print(df)"
      ],
      "metadata": {
        "id": "S73OaWfXUFvD",
        "outputId": "900f5c35-2eca-494f-c562-70d57f4964df",
        "colab": {
          "base_uri": "https://localhost:8080/"
        }
      },
      "execution_count": null,
      "outputs": [
        {
          "output_type": "stream",
          "name": "stdout",
          "text": [
            "     symboling  normalized-losses         make  ... horsepower-binned diesel gas\n",
            "0            3                122  alfa-romero  ...            Medium      0   1\n",
            "1            3                122  alfa-romero  ...            Medium      0   1\n",
            "2            1                122  alfa-romero  ...            Medium      0   1\n",
            "3            2                164         audi  ...            Medium      0   1\n",
            "4            2                164         audi  ...            Medium      0   1\n",
            "..         ...                ...          ...  ...               ...    ...  ..\n",
            "196         -1                 95        volvo  ...            Medium      0   1\n",
            "197         -1                 95        volvo  ...              High      0   1\n",
            "198         -1                 95        volvo  ...            Medium      0   1\n",
            "199         -1                 95        volvo  ...            Medium      1   0\n",
            "200         -1                 95        volvo  ...            Medium      0   1\n",
            "\n",
            "[201 rows x 29 columns]\n"
          ]
        }
      ]
    },
    {
      "cell_type": "code",
      "source": [
        "#Read CSV files\n",
        "# Example\n",
        "# Load the CSV into a DataFrame:\n",
        "\n",
        "import pandas as pd\n",
        "\n",
        "df = pd.read_csv('Data.csv')\n",
        "\n",
        "print(df.to_string())"
      ],
      "metadata": {
        "id": "kA8wElEndQgS",
        "colab": {
          "base_uri": "https://localhost:8080/"
        },
        "outputId": "992bcea9-d687-46fa-bcb6-1874c5701d55"
      },
      "execution_count": null,
      "outputs": [
        {
          "output_type": "stream",
          "name": "stdout",
          "text": [
            "     symboling  normalized-losses           make aspiration num-of-doors   body-style drive-wheels engine-location  wheel-base    length     width  height  curb-weight engine-type num-of-cylinders  engine-size fuel-system      bore  stroke  compression-ratio  horsepower     peak-rpm  city-mpg  highway-mpg    price  city-L/100km horsepower-binned  diesel  gas\n",
            "0            3                122    alfa-romero        std          two  convertible          rwd           front        88.6  0.811148  0.890278    48.8         2548        dohc             four          130        mpfi  3.470000    2.68               9.00  111.000000  5000.000000        21           27  13495.0     11.190476            Medium       0    1\n",
            "1            3                122    alfa-romero        std          two  convertible          rwd           front        88.6  0.811148  0.890278    48.8         2548        dohc             four          130        mpfi  3.470000    2.68               9.00  111.000000  5000.000000        21           27  16500.0     11.190476            Medium       0    1\n",
            "2            1                122    alfa-romero        std          two    hatchback          rwd           front        94.5  0.822681  0.909722    52.4         2823        ohcv              six          152        mpfi  2.680000    3.47               9.00  154.000000  5000.000000        19           26  16500.0     12.368421            Medium       0    1\n",
            "3            2                164           audi        std         four        sedan          fwd           front        99.8  0.848630  0.919444    54.3         2337         ohc             four          109        mpfi  3.190000    3.40              10.00  102.000000  5500.000000        24           30  13950.0      9.791667            Medium       0    1\n",
            "4            2                164           audi        std         four        sedan          4wd           front        99.4  0.848630  0.922222    54.3         2824         ohc             five          136        mpfi  3.190000    3.40               8.00  115.000000  5500.000000        18           22  17450.0     13.055556            Medium       0    1\n",
            "5            2                122           audi        std          two        sedan          fwd           front        99.8  0.851994  0.920833    53.1         2507         ohc             five          136        mpfi  3.190000    3.40               8.50  110.000000  5500.000000        19           25  15250.0     12.368421            Medium       0    1\n",
            "6            1                158           audi        std         four        sedan          fwd           front       105.8  0.925997  0.991667    55.7         2844         ohc             five          136        mpfi  3.190000    3.40               8.50  110.000000  5500.000000        19           25  17710.0     12.368421            Medium       0    1\n",
            "7            1                122           audi        std         four        wagon          fwd           front       105.8  0.925997  0.991667    55.7         2954         ohc             five          136        mpfi  3.190000    3.40               8.50  110.000000  5500.000000        19           25  18920.0     12.368421            Medium       0    1\n",
            "8            1                158           audi      turbo         four        sedan          fwd           front       105.8  0.925997  0.991667    55.9         3086         ohc             five          131        mpfi  3.130000    3.40               8.30  140.000000  5500.000000        17           20  23875.0     13.823529            Medium       0    1\n",
            "9            2                192            bmw        std          two        sedan          rwd           front       101.2  0.849592  0.900000    54.3         2395         ohc             four          108        mpfi  3.500000    2.80               8.80  101.000000  5800.000000        23           29  16430.0     10.217391               Low       0    1\n",
            "10           0                192            bmw        std         four        sedan          rwd           front       101.2  0.849592  0.900000    54.3         2395         ohc             four          108        mpfi  3.500000    2.80               8.80  101.000000  5800.000000        23           29  16925.0     10.217391               Low       0    1\n",
            "11           0                188            bmw        std          two        sedan          rwd           front       101.2  0.849592  0.900000    54.3         2710         ohc              six          164        mpfi  3.310000    3.19               9.00  121.000000  4250.000000        21           28  20970.0     11.190476            Medium       0    1\n",
            "12           0                188            bmw        std         four        sedan          rwd           front       101.2  0.849592  0.900000    54.3         2765         ohc              six          164        mpfi  3.310000    3.19               9.00  121.000000  4250.000000        21           28  21105.0     11.190476            Medium       0    1\n",
            "13           1                122            bmw        std         four        sedan          rwd           front       103.5  0.908217  0.929167    55.7         3055         ohc              six          164        mpfi  3.310000    3.19               9.00  121.000000  4250.000000        20           25  24565.0     11.750000            Medium       0    1\n",
            "14           0                122            bmw        std         four        sedan          rwd           front       103.5  0.908217  0.929167    55.7         3230         ohc              six          209        mpfi  3.620000    3.39               8.00  182.000000  5400.000000        16           22  30760.0     14.687500              High       0    1\n",
            "15           0                122            bmw        std          two        sedan          rwd           front       103.5  0.931283  0.943056    53.7         3380         ohc              six          209        mpfi  3.620000    3.39               8.00  182.000000  5400.000000        16           22  41315.0     14.687500              High       0    1\n",
            "16           0                122            bmw        std         four        sedan          rwd           front       110.0  0.946660  0.984722    56.3         3505         ohc              six          209        mpfi  3.620000    3.39               8.00  182.000000  5400.000000        15           20  36880.0     15.666667              High       0    1\n",
            "17           2                121      chevrolet        std          two    hatchback          fwd           front        88.4  0.678039  0.837500    53.2         1488           l            three           61        2bbl  2.910000    3.03               9.50   48.000000  5100.000000        47           53   5151.0      5.000000               Low       0    1\n",
            "18           1                 98      chevrolet        std          two    hatchback          fwd           front        94.5  0.749159  0.883333    52.0         1874         ohc             four           90        2bbl  3.030000    3.11               9.60   70.000000  5400.000000        38           43   6295.0      6.184211               Low       0    1\n",
            "19           0                 81      chevrolet        std         four        sedan          fwd           front        94.5  0.763095  0.883333    52.0         1909         ohc             four           90        2bbl  3.030000    3.11               9.60   70.000000  5400.000000        38           43   6575.0      6.184211               Low       0    1\n",
            "20           1                118          dodge        std          two    hatchback          fwd           front        93.7  0.755887  0.886111    50.8         1876         ohc             four           90        2bbl  2.970000    3.23               9.41   68.000000  5500.000000        37           41   5572.0      6.351351               Low       0    1\n",
            "21           1                118          dodge        std          two    hatchback          fwd           front        93.7  0.755887  0.886111    50.8         1876         ohc             four           90        2bbl  2.970000    3.23               9.40   68.000000  5500.000000        31           38   6377.0      7.580645               Low       0    1\n",
            "22           1                118          dodge      turbo          two    hatchback          fwd           front        93.7  0.755887  0.886111    50.8         2128         ohc             four           98        mpfi  3.030000    3.39               7.60  102.000000  5500.000000        24           30   7957.0      9.791667            Medium       0    1\n",
            "23           1                148          dodge        std         four    hatchback          fwd           front        93.7  0.755887  0.886111    50.6         1967         ohc             four           90        2bbl  2.970000    3.23               9.40   68.000000  5500.000000        31           38   6229.0      7.580645               Low       0    1\n",
            "24           1                148          dodge        std         four        sedan          fwd           front        93.7  0.755887  0.886111    50.6         1989         ohc             four           90        2bbl  2.970000    3.23               9.40   68.000000  5500.000000        31           38   6692.0      7.580645               Low       0    1\n",
            "25           1                148          dodge        std         four        sedan          fwd           front        93.7  0.755887  0.886111    50.6         1989         ohc             four           90        2bbl  2.970000    3.23               9.40   68.000000  5500.000000        31           38   7609.0      7.580645               Low       0    1\n",
            "26           1                148          dodge      turbo         four        sedan          fwd           front        93.7  0.755887  0.886111    50.6         2191         ohc             four           98        mpfi  3.030000    3.39               7.60  102.000000  5500.000000        24           30   8558.0      9.791667            Medium       0    1\n",
            "27          -1                110          dodge        std         four        wagon          fwd           front       103.3  0.839020  0.897222    59.8         2535         ohc             four          122        2bbl  3.340000    3.46               8.50   88.000000  5000.000000        24           30   8921.0      9.791667               Low       0    1\n",
            "28           3                145          dodge      turbo          two    hatchback          fwd           front        95.9  0.832292  0.920833    50.2         2811         ohc             four          156         mfi  3.600000    3.90               7.00  145.000000  5000.000000        19           24  12964.0     12.368421            Medium       0    1\n",
            "29           2                137          honda        std          two    hatchback          fwd           front        86.6  0.694858  0.887500    50.8         1713         ohc             four           92        1bbl  2.910000    3.41               9.60   58.000000  4800.000000        49           54   6479.0      4.795918               Low       0    1\n",
            "30           2                137          honda        std          two    hatchback          fwd           front        86.6  0.694858  0.887500    50.8         1819         ohc             four           92        1bbl  2.910000    3.41               9.20   76.000000  6000.000000        31           38   6855.0      7.580645               Low       0    1\n",
            "31           1                101          honda        std          two    hatchback          fwd           front        93.7  0.720807  0.888889    52.6         1837         ohc             four           79        1bbl  2.910000    3.07              10.10   60.000000  5500.000000        38           42   5399.0      6.184211               Low       0    1\n",
            "32           1                101          honda        std          two    hatchback          fwd           front        93.7  0.720807  0.888889    52.6         1940         ohc             four           92        1bbl  2.910000    3.41               9.20   76.000000  6000.000000        30           34   6529.0      7.833333               Low       0    1\n",
            "33           1                101          honda        std          two    hatchback          fwd           front        93.7  0.720807  0.888889    52.6         1956         ohc             four           92        1bbl  2.910000    3.41               9.20   76.000000  6000.000000        30           34   7129.0      7.833333               Low       0    1\n",
            "34           0                110          honda        std         four        sedan          fwd           front        96.5  0.785199  0.888889    54.5         2010         ohc             four           92        1bbl  2.910000    3.41               9.20   76.000000  6000.000000        30           34   7295.0      7.833333               Low       0    1\n",
            "35           0                 78          honda        std         four        wagon          fwd           front        96.5  0.754926  0.887500    58.3         2024         ohc             four           92        1bbl  2.920000    3.41               9.20   76.000000  6000.000000        30           34   7295.0      7.833333               Low       0    1\n",
            "36           0                106          honda        std          two    hatchback          fwd           front        96.5  0.804901  0.905556    53.3         2236         ohc             four          110        1bbl  3.150000    3.58               9.00   86.000000  5800.000000        27           33   7895.0      8.703704               Low       0    1\n",
            "37           0                106          honda        std          two    hatchback          fwd           front        96.5  0.804901  0.905556    53.3         2289         ohc             four          110        1bbl  3.150000    3.58               9.00   86.000000  5800.000000        27           33   9095.0      8.703704               Low       0    1\n",
            "38           0                 85          honda        std         four        sedan          fwd           front        96.5  0.842864  0.905556    54.1         2304         ohc             four          110        1bbl  3.150000    3.58               9.00   86.000000  5800.000000        27           33   8845.0      8.703704               Low       0    1\n",
            "39           0                 85          honda        std         four        sedan          fwd           front        96.5  0.842864  0.868056    54.1         2372         ohc             four          110        1bbl  3.150000    3.58               9.00   86.000000  5800.000000        27           33  10295.0      8.703704               Low       0    1\n",
            "40           0                 85          honda        std         four        sedan          fwd           front        96.5  0.842864  0.905556    54.1         2465         ohc             four          110        mpfi  3.150000    3.58               9.00  101.000000  5800.000000        24           28  12945.0      9.791667               Low       0    1\n",
            "41           1                107          honda        std          two        sedan          fwd           front        96.5  0.812590  0.916667    51.0         2293         ohc             four          110        2bbl  3.150000    3.58               9.10  100.000000  5500.000000        25           31  10345.0      9.400000               Low       0    1\n",
            "42           0                122          isuzu        std         four        sedan          rwd           front        94.3  0.820279  0.858333    53.5         2337         ohc             four          111        2bbl  3.310000    3.23               8.50   78.000000  4800.000000        24           29   6785.0      9.791667               Low       0    1\n",
            "43           2                122          isuzu        std          two    hatchback          rwd           front        96.0  0.829409  0.905556    51.4         2734         ohc             four          119        spfi  3.430000    3.23               9.20   90.000000  5000.000000        24           29  11048.0      9.791667               Low       0    1\n",
            "44           0                145         jaguar        std         four        sedan          rwd           front       113.0  0.959154  0.966667    52.8         4066        dohc              six          258        mpfi  3.630000    4.17               8.10  176.000000  4750.000000        15           19  32250.0     15.666667              High       0    1\n",
            "45           0                122         jaguar        std         four        sedan          rwd           front       113.0  0.959154  0.966667    52.8         4066        dohc              six          258        mpfi  3.630000    4.17               8.10  176.000000  4750.000000        15           19  35550.0     15.666667              High       0    1\n",
            "46           0                122         jaguar        std          two        sedan          rwd           front       102.0  0.921192  0.980556    47.8         3950        ohcv           twelve          326        mpfi  3.540000    2.76              11.50  262.000000  5000.000000        13           17  36000.0     18.076923               NaN       0    1\n",
            "47           1                104          mazda        std          two    hatchback          fwd           front        93.1  0.764536  0.891667    54.1         1890         ohc             four           91        2bbl  3.030000    3.15               9.00   68.000000  5000.000000        30           31   5195.0      7.833333               Low       0    1\n",
            "48           1                104          mazda        std          two    hatchback          fwd           front        93.1  0.764536  0.891667    54.1         1900         ohc             four           91        2bbl  3.030000    3.15               9.00   68.000000  5000.000000        31           38   6095.0      7.580645               Low       0    1\n",
            "49           1                104          mazda        std          two    hatchback          fwd           front        93.1  0.764536  0.891667    54.1         1905         ohc             four           91        2bbl  3.030000    3.15               9.00   68.000000  5000.000000        31           38   6795.0      7.580645               Low       0    1\n",
            "50           1                113          mazda        std         four        sedan          fwd           front        93.1  0.801538  0.891667    54.1         1945         ohc             four           91        2bbl  3.030000    3.15               9.00   68.000000  5000.000000        31           38   6695.0      7.580645               Low       0    1\n",
            "51           1                113          mazda        std         four        sedan          fwd           front        93.1  0.801538  0.891667    54.1         1950         ohc             four           91        2bbl  3.080000    3.15               9.00   68.000000  5000.000000        31           38   7395.0      7.580645               Low       0    1\n",
            "52           3                150          mazda        std          two    hatchback          rwd           front        95.3  0.812110  0.912500    49.6         2380       rotor              two           70        4bbl  3.329751     NaN               9.40  101.000000  6000.000000        17           23  10945.0     13.823529               Low       0    1\n",
            "53           3                150          mazda        std          two    hatchback          rwd           front        95.3  0.812110  0.912500    49.6         2380       rotor              two           70        4bbl  3.329751     NaN               9.40  101.000000  6000.000000        17           23  11845.0     13.823529               Low       0    1\n",
            "54           3                150          mazda        std          two    hatchback          rwd           front        95.3  0.812110  0.912500    49.6         2385       rotor              two           70        4bbl  3.329751     NaN               9.40  101.000000  6000.000000        17           23  13645.0     13.823529               Low       0    1\n",
            "55           3                150          mazda        std          two    hatchback          rwd           front        95.3  0.812110  0.912500    49.6         2500       rotor              two           80        mpfi  3.329751     NaN               9.40  135.000000  6000.000000        16           23  15645.0     14.687500            Medium       0    1\n",
            "56           1                129          mazda        std          two    hatchback          fwd           front        98.8  0.854397  0.923611    53.7         2385         ohc             four          122        2bbl  3.390000    3.39               8.60   84.000000  4800.000000        26           32   8845.0      9.038462               Low       0    1\n",
            "57           0                115          mazda        std         four        sedan          fwd           front        98.8  0.854397  0.923611    55.5         2410         ohc             four          122        2bbl  3.390000    3.39               8.60   84.000000  4800.000000        26           32   8495.0      9.038462               Low       0    1\n",
            "58           1                129          mazda        std          two    hatchback          fwd           front        98.8  0.854397  0.923611    53.7         2385         ohc             four          122        2bbl  3.390000    3.39               8.60   84.000000  4800.000000        26           32  10595.0      9.038462               Low       0    1\n",
            "59           0                115          mazda        std         four        sedan          fwd           front        98.8  0.854397  0.923611    55.5         2410         ohc             four          122        2bbl  3.390000    3.39               8.60   84.000000  4800.000000        26           32  10245.0      9.038462               Low       0    1\n",
            "60           0                122          mazda        std         four        sedan          fwd           front        98.8  0.854397  0.923611    55.5         2443         ohc             four          122         idi  3.390000    3.39              22.70   64.000000  4650.000000        36           42  10795.0      6.527778               Low       1    0\n",
            "61           0                115          mazda        std         four    hatchback          fwd           front        98.8  0.854397  0.923611    55.5         2425         ohc             four          122        2bbl  3.390000    3.39               8.60   84.000000  4800.000000        26           32  11245.0      9.038462               Low       0    1\n",
            "62           0                118          mazda        std         four        sedan          rwd           front       104.9  0.840942  0.918056    54.4         2670         ohc             four          140        mpfi  3.760000    3.16               8.00  120.000000  5000.000000        19           27  18280.0     12.368421            Medium       0    1\n",
            "63           0                122          mazda        std         four        sedan          rwd           front       104.9  0.840942  0.918056    54.4         2700         ohc             four          134         idi  3.430000    3.64              22.00   72.000000  4200.000000        31           39  18344.0      7.580645               Low       1    0\n",
            "64          -1                 93  mercedes-benz      turbo         four        sedan          rwd           front       110.0  0.917347  0.976389    56.5         3515         ohc             five          183         idi  3.580000    3.64              21.50  123.000000  4350.000000        22           25  25552.0     10.681818            Medium       1    0\n",
            "65          -1                 93  mercedes-benz      turbo         four        wagon          rwd           front       110.0  0.917347  0.976389    58.7         3750         ohc             five          183         idi  3.580000    3.64              21.50  123.000000  4350.000000        22           25  28248.0     10.681818            Medium       1    0\n",
            "66           0                 93  mercedes-benz      turbo          two      hardtop          rwd           front       106.7  0.901009  0.976389    54.9         3495         ohc             five          183         idi  3.580000    3.64              21.50  123.000000  4350.000000        22           25  28176.0     10.681818            Medium       1    0\n",
            "67          -1                 93  mercedes-benz      turbo         four        sedan          rwd           front       115.6  0.973570  0.995833    56.3         3770         ohc             five          183         idi  3.580000    3.64              21.50  123.000000  4350.000000        22           25  31600.0     10.681818            Medium       1    0\n",
            "68          -1                122  mercedes-benz        std         four        sedan          rwd           front       115.6  0.973570  0.995833    56.5         3740        ohcv            eight          234        mpfi  3.460000    3.10               8.30  155.000000  4750.000000        16           18  34184.0     14.687500            Medium       0    1\n",
            "69           3                142  mercedes-benz        std          two  convertible          rwd           front        96.6  0.866410  0.979167    50.8         3685        ohcv            eight          234        mpfi  3.460000    3.10               8.30  155.000000  4750.000000        16           18  35056.0     14.687500            Medium       0    1\n",
            "70           0                122  mercedes-benz        std         four        sedan          rwd           front       120.9  1.000000  0.995833    56.7         3900        ohcv            eight          308        mpfi  3.800000    3.35               8.00  184.000000  4500.000000        14           16  40960.0     16.785714              High       0    1\n",
            "71           1                122  mercedes-benz        std          two      hardtop          rwd           front       112.0  0.957232  1.000000    55.4         3715        ohcv            eight          304        mpfi  3.800000    3.35               8.00  184.000000  4500.000000        14           16  45400.0     16.785714              High       0    1\n",
            "72           1                122        mercury      turbo          two    hatchback          rwd           front       102.7  0.857280  0.944444    54.8         2910         ohc             four          140        mpfi  3.780000    3.12               8.00  175.000000  5000.000000        19           24  16503.0     12.368421              High       0    1\n",
            "73           2                161     mitsubishi        std          two    hatchback          fwd           front        93.7  0.755887  0.894444    50.8         1918         ohc             four           92        2bbl  2.970000    3.23               9.40   68.000000  5500.000000        37           41   5389.0      6.351351               Low       0    1\n",
            "74           2                161     mitsubishi        std          two    hatchback          fwd           front        93.7  0.755887  0.894444    50.8         1944         ohc             four           92        2bbl  2.970000    3.23               9.40   68.000000  5500.000000        31           38   6189.0      7.580645               Low       0    1\n",
            "75           2                161     mitsubishi        std          two    hatchback          fwd           front        93.7  0.755887  0.894444    50.8         2004         ohc             four           92        2bbl  2.970000    3.23               9.40   68.000000  5500.000000        31           38   6669.0      7.580645               Low       0    1\n",
            "76           1                161     mitsubishi      turbo          two    hatchback          fwd           front        93.0  0.755887  0.886111    50.8         2145         ohc             four           98        spdi  3.030000    3.39               7.60  102.000000  5500.000000        24           30   7689.0      9.791667            Medium       0    1\n",
            "77           3                153     mitsubishi      turbo          two    hatchback          fwd           front        96.3  0.831331  0.908333    49.4         2370         ohc             four          110        spdi  3.170000    3.46               7.50  116.000000  5500.000000        23           30   9959.0     10.217391            Medium       0    1\n",
            "78           3                153     mitsubishi        std          two    hatchback          fwd           front        96.3  0.831331  0.908333    49.4         2328         ohc             four          122        2bbl  3.350000    3.46               8.50   88.000000  5000.000000        25           32   8499.0      9.400000               Low       0    1\n",
            "79           3                122     mitsubishi      turbo          two    hatchback          fwd           front        95.9  0.832292  0.920833    50.2         2833         ohc             four          156        spdi  3.580000    3.86               7.00  145.000000  5000.000000        19           24  12629.0     12.368421            Medium       0    1\n",
            "80           3                122     mitsubishi      turbo          two    hatchback          fwd           front        95.9  0.832292  0.920833    50.2         2921         ohc             four          156        spdi  3.590000    3.86               7.00  145.000000  5000.000000        19           24  14869.0     12.368421            Medium       0    1\n",
            "81           3                122     mitsubishi      turbo          two    hatchback          fwd           front        95.9  0.832292  0.920833    50.2         2926         ohc             four          156        spdi  3.590000    3.86               7.00  145.000000  5000.000000        19           24  14489.0     12.368421            Medium       0    1\n",
            "82           1                125     mitsubishi        std         four        sedan          fwd           front        96.3  0.828448  0.908333    51.6         2365         ohc             four          122        2bbl  3.350000    3.46               8.50   88.000000  5000.000000        25           32   6989.0      9.400000               Low       0    1\n",
            "83           1                125     mitsubishi        std         four        sedan          fwd           front        96.3  0.828448  0.908333    51.6         2405         ohc             four          122        2bbl  3.350000    3.46               8.50   88.000000  5000.000000        25           32   8189.0      9.400000               Low       0    1\n",
            "84           1                125     mitsubishi      turbo         four        sedan          fwd           front        96.3  0.828448  0.908333    51.6         2403         ohc             four          110        spdi  3.170000    3.46               7.50  116.000000  5500.000000        23           30   9279.0     10.217391            Medium       0    1\n",
            "85          -1                137     mitsubishi        std         four        sedan          fwd           front        96.3  0.828448  0.908333    51.6         2403         ohc             four          110        spdi  3.170000    3.46               7.50  116.000000  5500.000000        23           30   9279.0     10.217391            Medium       0    1\n",
            "86           1                128         nissan        std          two        sedan          fwd           front        94.5  0.794330  0.886111    54.5         1889         ohc             four           97        2bbl  3.150000    3.29               9.40   69.000000  5200.000000        31           37   5499.0      7.580645               Low       0    1\n",
            "87           1                128         nissan        std          two        sedan          fwd           front        94.5  0.794330  0.886111    54.5         2017         ohc             four          103         idi  2.990000    3.47              21.90   55.000000  4800.000000        45           50   7099.0      5.222222               Low       1    0\n",
            "88           1                128         nissan        std          two        sedan          fwd           front        94.5  0.794330  0.886111    54.5         1918         ohc             four           97        2bbl  3.150000    3.29               9.40   69.000000  5200.000000        31           37   6649.0      7.580645               Low       0    1\n",
            "89           1                122         nissan        std         four        sedan          fwd           front        94.5  0.794330  0.886111    54.5         1938         ohc             four           97        2bbl  3.150000    3.29               9.40   69.000000  5200.000000        31           37   6849.0      7.580645               Low       0    1\n",
            "90           1                103         nissan        std         four        wagon          fwd           front        94.5  0.817876  0.886111    53.5         2024         ohc             four           97        2bbl  3.150000    3.29               9.40   69.000000  5200.000000        31           37   7349.0      7.580645               Low       0    1\n",
            "91           1                128         nissan        std          two        sedan          fwd           front        94.5  0.794330  0.886111    54.5         1951         ohc             four           97        2bbl  3.150000    3.29               9.40   69.000000  5200.000000        31           37   7299.0      7.580645               Low       0    1\n",
            "92           1                128         nissan        std          two    hatchback          fwd           front        94.5  0.795771  0.886111    53.3         2028         ohc             four           97        2bbl  3.150000    3.29               9.40   69.000000  5200.000000        31           37   7799.0      7.580645               Low       0    1\n",
            "93           1                122         nissan        std         four        sedan          fwd           front        94.5  0.794330  0.886111    54.5         1971         ohc             four           97        2bbl  3.150000    3.29               9.40   69.000000  5200.000000        31           37   7499.0      7.580645               Low       0    1\n",
            "94           1                103         nissan        std         four        wagon          fwd           front        94.5  0.817876  0.886111    53.5         2037         ohc             four           97        2bbl  3.150000    3.29               9.40   69.000000  5200.000000        31           37   7999.0      7.580645               Low       0    1\n",
            "95           2                168         nissan        std          two      hardtop          fwd           front        95.1  0.780394  0.886111    53.3         2008         ohc             four           97        2bbl  3.150000    3.29               9.40   69.000000  5200.000000        31           37   8249.0      7.580645               Low       0    1\n",
            "96           0                106         nissan        std         four    hatchback          fwd           front        97.2  0.833253  0.905556    54.7         2324         ohc             four          120        2bbl  3.330000    3.47               8.50   97.000000  5200.000000        27           34   8949.0      8.703704               Low       0    1\n",
            "97           0                106         nissan        std         four        sedan          fwd           front        97.2  0.833253  0.905556    54.7         2302         ohc             four          120        2bbl  3.330000    3.47               8.50   97.000000  5200.000000        27           34   9549.0      8.703704               Low       0    1\n",
            "98           0                128         nissan        std         four        sedan          fwd           front       100.4  0.873138  0.923611    55.1         3095        ohcv              six          181        mpfi  3.430000    3.27               9.00  152.000000  5200.000000        17           22  13499.0     13.823529            Medium       0    1\n",
            "99           0                108         nissan        std         four        wagon          fwd           front       100.4  0.887074  0.923611    56.1         3296        ohcv              six          181        mpfi  3.430000    3.27               9.00  152.000000  5200.000000        17           22  14399.0     13.823529            Medium       0    1\n",
            "100          0                108         nissan        std         four        sedan          fwd           front       100.4  0.887074  0.923611    55.1         3060        ohcv              six          181        mpfi  3.430000    3.27               9.00  152.000000  5200.000000        19           25  13499.0     12.368421            Medium       0    1\n",
            "101          3                194         nissan        std          two    hatchback          rwd           front        91.3  0.820279  0.943056    49.7         3071        ohcv              six          181        mpfi  3.430000    3.27               9.00  160.000000  5200.000000        19           25  17199.0     12.368421              High       0    1\n",
            "102          3                194         nissan      turbo          two    hatchback          rwd           front        91.3  0.820279  0.943056    49.7         3139        ohcv              six          181        mpfi  3.430000    3.27               7.80  200.000000  5200.000000        17           23  19699.0     13.823529              High       0    1\n",
            "103          1                231         nissan        std          two    hatchback          rwd           front        99.2  0.857761  0.943056    49.7         3139        ohcv              six          181        mpfi  3.430000    3.27               9.00  160.000000  5200.000000        19           25  18399.0     12.368421              High       0    1\n",
            "104          0                161         peugot        std         four        sedan          rwd           front       107.9  0.897165  0.950000    56.7         3020           l             four          120        mpfi  3.460000    3.19               8.40   97.000000  5000.000000        19           24  11900.0     12.368421               Low       0    1\n",
            "105          0                161         peugot      turbo         four        sedan          rwd           front       107.9  0.897165  0.950000    56.7         3197           l             four          152         idi  3.700000    3.52              21.00   95.000000  4150.000000        28           33  13200.0      8.392857               Low       1    0\n",
            "106          0                122         peugot        std         four        wagon          rwd           front       114.2  0.955790  0.950000    58.7         3230           l             four          120        mpfi  3.460000    3.19               8.40   97.000000  5000.000000        19           24  12440.0     12.368421               Low       0    1\n",
            "107          0                122         peugot      turbo         four        wagon          rwd           front       114.2  0.955790  0.950000    58.7         3430           l             four          152         idi  3.700000    3.52              21.00   95.000000  4150.000000        25           25  13860.0      9.400000               Low       1    0\n",
            "108          0                161         peugot        std         four        sedan          rwd           front       107.9  0.897165  0.950000    56.7         3075           l             four          120        mpfi  3.460000    2.19               8.40   95.000000  5000.000000        19           24  15580.0     12.368421               Low       0    1\n",
            "109          0                161         peugot      turbo         four        sedan          rwd           front       107.9  0.897165  0.950000    56.7         3252           l             four          152         idi  3.700000    3.52              21.00   95.000000  4150.000000        28           33  16900.0      8.392857               Low       1    0\n",
            "110          0                122         peugot        std         four        wagon          rwd           front       114.2  0.955790  0.950000    56.7         3285           l             four          120        mpfi  3.460000    2.19               8.40   95.000000  5000.000000        19           24  16695.0     12.368421               Low       0    1\n",
            "111          0                122         peugot      turbo         four        wagon          rwd           front       114.2  0.955790  0.950000    58.7         3485           l             four          152         idi  3.700000    3.52              21.00   95.000000  4150.000000        25           25  17075.0      9.400000               Low       1    0\n",
            "112          0                161         peugot        std         four        sedan          rwd           front       107.9  0.897165  0.950000    56.7         3075           l             four          120        mpfi  3.460000    3.19               8.40   97.000000  5000.000000        19           24  16630.0     12.368421               Low       0    1\n",
            "113          0                161         peugot      turbo         four        sedan          rwd           front       107.9  0.897165  0.950000    56.7         3252           l             four          152         idi  3.700000    3.52              21.00   95.000000  4150.000000        28           33  17950.0      8.392857               Low       1    0\n",
            "114          0                161         peugot      turbo         four        sedan          rwd           front       108.0  0.897165  0.948611    56.0         3130           l             four          134        mpfi  3.610000    3.21               7.00  142.000000  5600.000000        18           24  18150.0     13.055556            Medium       0    1\n",
            "115          1                119       plymouth        std          two    hatchback          fwd           front        93.7  0.755887  0.886111    50.8         1918         ohc             four           90        2bbl  2.970000    3.23               9.40   68.000000  5500.000000        37           41   5572.0      6.351351               Low       0    1\n",
            "116          1                119       plymouth      turbo          two    hatchback          fwd           front        93.7  0.755887  0.886111    50.8         2128         ohc             four           98        spdi  3.030000    3.39               7.60  102.000000  5500.000000        24           30   7957.0      9.791667            Medium       0    1\n",
            "117          1                154       plymouth        std         four    hatchback          fwd           front        93.7  0.755887  0.886111    50.6         1967         ohc             four           90        2bbl  2.970000    3.23               9.40   68.000000  5500.000000        31           38   6229.0      7.580645               Low       0    1\n",
            "118          1                154       plymouth        std         four        sedan          fwd           front        93.7  0.803940  0.886111    50.8         1989         ohc             four           90        2bbl  2.970000    3.23               9.40   68.000000  5500.000000        31           38   6692.0      7.580645               Low       0    1\n",
            "119          1                154       plymouth        std         four        sedan          fwd           front        93.7  0.803940  0.886111    50.8         2191         ohc             four           98        2bbl  2.970000    3.23               9.40   68.000000  5500.000000        31           38   7609.0      7.580645               Low       0    1\n",
            "120         -1                 74       plymouth        std         four        wagon          fwd           front       103.3  0.839020  0.897222    59.8         2535         ohc             four          122        2bbl  3.350000    3.46               8.50   88.000000  5000.000000        24           30   8921.0      9.791667               Low       0    1\n",
            "121          3                122       plymouth      turbo          two    hatchback          rwd           front        95.9  0.832292  0.920833    50.2         2818         ohc             four          156        spdi  3.590000    3.86               7.00  145.000000  5000.000000        19           24  12764.0     12.368421            Medium       0    1\n",
            "122          3                186        porsche        std          two    hatchback          rwd           front        94.5  0.811629  0.948611    50.2         2778         ohc             four          151        mpfi  3.940000    3.11               9.50  143.000000  5500.000000        19           27  22018.0     12.368421            Medium       0    1\n",
            "123          3                122        porsche        std          two      hardtop          rwd            rear        89.5  0.811629  0.902778    51.6         2756        ohcf              six          194        mpfi  3.740000    2.90               9.50  207.000000  5900.000000        17           25  32528.0     13.823529              High       0    1\n",
            "124          3                122        porsche        std          two      hardtop          rwd            rear        89.5  0.811629  0.902778    51.6         2756        ohcf              six          194        mpfi  3.740000    2.90               9.50  207.000000  5900.000000        17           25  34028.0     13.823529              High       0    1\n",
            "125          3                122        porsche        std          two  convertible          rwd            rear        89.5  0.811629  0.902778    51.6         2800        ohcf              six          194        mpfi  3.740000    2.90               9.50  207.000000  5900.000000        17           25  37028.0     13.823529              High       0    1\n",
            "126          0                122        renault        std         four        wagon          fwd           front        96.1  0.872177  0.923611    55.2         2579         ohc             four          132        mpfi  3.460000    3.90               8.70  104.256158  5125.369458        23           31   9295.0     10.217391            Medium       0    1\n",
            "127          2                122        renault        std          two    hatchback          fwd           front        96.1  0.849592  0.925000    50.5         2460         ohc             four          132        mpfi  3.460000    3.90               8.70  104.256158  5125.369458        23           31   9895.0     10.217391            Medium       0    1\n",
            "128          3                150           saab        std          two    hatchback          fwd           front        99.1  0.896684  0.923611    56.1         2658         ohc             four          121        mpfi  3.540000    3.07               9.31  110.000000  5250.000000        21           28  11850.0     11.190476            Medium       0    1\n",
            "129          2                104           saab        std         four        sedan          fwd           front        99.1  0.896684  0.923611    56.1         2695         ohc             four          121        mpfi  3.540000    3.07               9.30  110.000000  5250.000000        21           28  12170.0     11.190476            Medium       0    1\n",
            "130          3                150           saab        std          two    hatchback          fwd           front        99.1  0.896684  0.923611    56.1         2707         ohc             four          121        mpfi  2.540000    2.07               9.30  110.000000  5250.000000        21           28  15040.0     11.190476            Medium       0    1\n",
            "131          2                104           saab        std         four        sedan          fwd           front        99.1  0.896684  0.923611    56.1         2758         ohc             four          121        mpfi  3.540000    3.07               9.30  110.000000  5250.000000        21           28  15510.0     11.190476            Medium       0    1\n",
            "132          3                150           saab      turbo          two    hatchback          fwd           front        99.1  0.896684  0.923611    56.1         2808        dohc             four          121        mpfi  3.540000    3.07               9.00  160.000000  5500.000000        19           26  18150.0     12.368421              High       0    1\n",
            "133          2                104           saab      turbo         four        sedan          fwd           front        99.1  0.896684  0.923611    56.1         2847        dohc             four          121        mpfi  3.540000    3.07               9.00  160.000000  5500.000000        19           26  18620.0     12.368421              High       0    1\n",
            "134          2                 83         subaru        std          two    hatchback          fwd           front        93.7  0.753964  0.880556    53.7         2050        ohcf             four           97        2bbl  3.620000    2.36               9.00   69.000000  4900.000000        31           36   5118.0      7.580645               Low       0    1\n",
            "135          2                 83         subaru        std          two    hatchback          fwd           front        93.7  0.758770  0.883333    53.7         2120        ohcf             four          108        2bbl  3.620000    2.64               8.70   73.000000  4400.000000        26           31   7053.0      9.038462               Low       0    1\n",
            "136          2                 83         subaru        std          two    hatchback          4wd           front        93.3  0.755887  0.886111    55.7         2240        ohcf             four          108        2bbl  3.620000    2.64               8.70   73.000000  4400.000000        26           31   7603.0      9.038462               Low       0    1\n",
            "137          0                102         subaru        std         four        sedan          fwd           front        97.2  0.826526  0.908333    52.5         2145        ohcf             four          108        2bbl  3.620000    2.64               9.50   82.000000  4800.000000        32           37   7126.0      7.343750               Low       0    1\n",
            "138          0                102         subaru        std         four        sedan          fwd           front        97.2  0.826526  0.908333    52.5         2190        ohcf             four          108        2bbl  3.620000    2.64               9.50   82.000000  4400.000000        28           33   7775.0      8.392857               Low       0    1\n",
            "139          0                102         subaru        std         four        sedan          fwd           front        97.2  0.826526  0.908333    52.5         2340        ohcf             four          108        mpfi  3.620000    2.64               9.00   94.000000  5200.000000        26           32   9960.0      9.038462               Low       0    1\n",
            "140          0                102         subaru        std         four        sedan          4wd           front        97.0  0.826526  0.908333    54.3         2385        ohcf             four          108        2bbl  3.620000    2.64               9.00   82.000000  4800.000000        24           25   9233.0      9.791667               Low       0    1\n",
            "141          0                102         subaru      turbo         four        sedan          4wd           front        97.0  0.826526  0.908333    54.3         2510        ohcf             four          108        mpfi  3.620000    2.64               7.70  111.000000  4800.000000        24           29  11259.0      9.791667            Medium       0    1\n",
            "142          0                 89         subaru        std         four        wagon          fwd           front        97.0  0.833734  0.908333    53.0         2290        ohcf             four          108        2bbl  3.620000    2.64               9.00   82.000000  4800.000000        28           32   7463.0      8.392857               Low       0    1\n",
            "143          0                 89         subaru        std         four        wagon          fwd           front        97.0  0.833734  0.908333    53.0         2455        ohcf             four          108        mpfi  3.620000    2.64               9.00   94.000000  5200.000000        25           31  10198.0      9.400000               Low       0    1\n",
            "144          0                 85         subaru        std         four        wagon          4wd           front        96.9  0.834214  0.908333    54.9         2420        ohcf             four          108        2bbl  3.620000    2.64               9.00   82.000000  4800.000000        23           29   8013.0     10.217391               Low       0    1\n",
            "145          0                 85         subaru      turbo         four        wagon          4wd           front        96.9  0.834214  0.908333    54.9         2650        ohcf             four          108        mpfi  3.620000    2.64               7.70  111.000000  4800.000000        23           23  11694.0     10.217391            Medium       0    1\n",
            "146          1                 87         toyota        std          two    hatchback          fwd           front        95.7  0.762614  0.883333    54.5         1985         ohc             four           92        2bbl  3.050000    3.03               9.00   62.000000  4800.000000        35           39   5348.0      6.714286               Low       0    1\n",
            "147          1                 87         toyota        std          two    hatchback          fwd           front        95.7  0.762614  0.883333    54.5         2040         ohc             four           92        2bbl  3.050000    3.03               9.00   62.000000  4800.000000        31           38   6338.0      7.580645               Low       0    1\n",
            "148          1                 74         toyota        std         four    hatchback          fwd           front        95.7  0.762614  0.883333    54.5         2015         ohc             four           92        2bbl  3.050000    3.03               9.00   62.000000  4800.000000        31           38   6488.0      7.580645               Low       0    1\n",
            "149          0                 77         toyota        std         four        wagon          fwd           front        95.7  0.815473  0.883333    59.1         2280         ohc             four           92        2bbl  3.050000    3.03               9.00   62.000000  4800.000000        31           37   6918.0      7.580645               Low       0    1\n",
            "150          0                 81         toyota        std         four        wagon          4wd           front        95.7  0.815473  0.883333    59.1         2290         ohc             four           92        2bbl  3.050000    3.03               9.00   62.000000  4800.000000        27           32   7898.0      8.703704               Low       0    1\n",
            "151          0                 91         toyota        std         four        wagon          4wd           front        95.7  0.815473  0.883333    59.1         3110         ohc             four           92        2bbl  3.050000    3.03               9.00   62.000000  4800.000000        27           32   8778.0      8.703704               Low       0    1\n",
            "152          0                 91         toyota        std         four        sedan          fwd           front        95.7  0.799135  0.894444    53.0         2081         ohc             four           98        2bbl  3.190000    3.03               9.00   70.000000  4800.000000        30           37   6938.0      7.833333               Low       0    1\n",
            "153          0                 91         toyota        std         four    hatchback          fwd           front        95.7  0.799135  0.894444    52.8         2109         ohc             four           98        2bbl  3.190000    3.03               9.00   70.000000  4800.000000        30           37   7198.0      7.833333               Low       0    1\n",
            "154          0                 91         toyota        std         four        sedan          fwd           front        95.7  0.799135  0.894444    53.0         2275         ohc             four          110         idi  3.270000    3.35              22.50   56.000000  4500.000000        34           36   7898.0      6.911765               Low       1    0\n",
            "155          0                 91         toyota        std         four    hatchback          fwd           front        95.7  0.799135  0.894444    52.8         2275         ohc             four          110         idi  3.270000    3.35              22.50   56.000000  4500.000000        38           47   7788.0      6.184211               Low       1    0\n",
            "156          0                 91         toyota        std         four        sedan          fwd           front        95.7  0.799135  0.894444    53.0         2094         ohc             four           98        2bbl  3.190000    3.03               9.00   70.000000  4800.000000        38           47   7738.0      6.184211               Low       0    1\n",
            "157          0                 91         toyota        std         four    hatchback          fwd           front        95.7  0.799135  0.894444    52.8         2122         ohc             four           98        2bbl  3.190000    3.03               9.00   70.000000  4800.000000        28           34   8358.0      8.392857               Low       0    1\n",
            "158          0                 91         toyota        std         four        sedan          fwd           front        95.7  0.799135  0.894444    52.8         2140         ohc             four           98        2bbl  3.190000    3.03               9.00   70.000000  4800.000000        28           34   9258.0      8.392857               Low       0    1\n",
            "159          1                168         toyota        std          two        sedan          rwd           front        94.5  0.810668  0.888889    52.6         2169         ohc             four           98        2bbl  3.190000    3.03               9.00   70.000000  4800.000000        29           34   8058.0      8.103448               Low       0    1\n",
            "160          1                168         toyota        std          two    hatchback          rwd           front        94.5  0.810668  0.888889    52.6         2204         ohc             four           98        2bbl  3.190000    3.03               9.00   70.000000  4800.000000        29           34   8238.0      8.103448               Low       0    1\n",
            "161          1                168         toyota        std          two        sedan          rwd           front        94.5  0.810668  0.888889    52.6         2265        dohc             four           98        mpfi  3.240000    3.08               9.40  112.000000  6600.000000        26           29   9298.0      9.038462            Medium       0    1\n",
            "162          1                168         toyota        std          two    hatchback          rwd           front        94.5  0.810668  0.888889    52.6         2300        dohc             four           98        mpfi  3.240000    3.08               9.40  112.000000  6600.000000        26           29   9538.0      9.038462            Medium       0    1\n",
            "163          2                134         toyota        std          two      hardtop          rwd           front        98.4  0.846708  0.911111    52.0         2540         ohc             four          146        mpfi  3.620000    3.50               9.30  116.000000  4800.000000        24           30   8449.0      9.791667            Medium       0    1\n",
            "164          2                134         toyota        std          two      hardtop          rwd           front        98.4  0.846708  0.911111    52.0         2536         ohc             four          146        mpfi  3.620000    3.50               9.30  116.000000  4800.000000        24           30   9639.0      9.791667            Medium       0    1\n",
            "165          2                134         toyota        std          two    hatchback          rwd           front        98.4  0.846708  0.911111    52.0         2551         ohc             four          146        mpfi  3.620000    3.50               9.30  116.000000  4800.000000        24           30   9989.0      9.791667            Medium       0    1\n",
            "166          2                134         toyota        std          two      hardtop          rwd           front        98.4  0.846708  0.911111    52.0         2679         ohc             four          146        mpfi  3.620000    3.50               9.30  116.000000  4800.000000        24           30  11199.0      9.791667            Medium       0    1\n",
            "167          2                134         toyota        std          two    hatchback          rwd           front        98.4  0.846708  0.911111    52.0         2714         ohc             four          146        mpfi  3.620000    3.50               9.30  116.000000  4800.000000        24           30  11549.0      9.791667            Medium       0    1\n",
            "168          2                134         toyota        std          two  convertible          rwd           front        98.4  0.846708  0.911111    53.0         2975         ohc             four          146        mpfi  3.620000    3.50               9.30  116.000000  4800.000000        24           30  17669.0      9.791667            Medium       0    1\n",
            "169         -1                 65         toyota        std         four        sedan          fwd           front       102.4  0.843825  0.923611    54.9         2326         ohc             four          122        mpfi  3.310000    3.54               8.70   92.000000  4200.000000        29           34   8948.0      8.103448               Low       0    1\n",
            "170         -1                 65         toyota      turbo         four        sedan          fwd           front       102.4  0.843825  0.923611    54.9         2480         ohc             four          110         idi  3.270000    3.35              22.50   73.000000  4500.000000        30           33  10698.0      7.833333               Low       1    0\n",
            "171         -1                 65         toyota        std         four    hatchback          fwd           front       102.4  0.843825  0.923611    53.9         2414         ohc             four          122        mpfi  3.310000    3.54               8.70   92.000000  4200.000000        27           32   9988.0      8.703704               Low       0    1\n",
            "172         -1                 65         toyota        std         four        sedan          fwd           front       102.4  0.843825  0.923611    54.9         2414         ohc             four          122        mpfi  3.310000    3.54               8.70   92.000000  4200.000000        27           32  10898.0      8.703704               Low       0    1\n",
            "173         -1                 65         toyota        std         four    hatchback          fwd           front       102.4  0.843825  0.923611    53.9         2458         ohc             four          122        mpfi  3.310000    3.54               8.70   92.000000  4200.000000        27           32  11248.0      8.703704               Low       0    1\n",
            "174          3                197         toyota        std          two    hatchback          rwd           front       102.9  0.881788  0.940278    52.0         2976        dohc              six          171        mpfi  3.270000    3.35               9.30  161.000000  5200.000000        20           24  16558.0     11.750000              High       0    1\n",
            "175          3                197         toyota        std          two    hatchback          rwd           front       102.9  0.881788  0.940278    52.0         3016        dohc              six          171        mpfi  3.270000    3.35               9.30  161.000000  5200.000000        19           24  15998.0     12.368421              High       0    1\n",
            "176         -1                 90         toyota        std         four        sedan          rwd           front       104.5  0.902451  0.923611    54.1         3131        dohc              six          171        mpfi  3.270000    3.35               9.20  156.000000  5200.000000        20           24  15690.0     11.750000              High       0    1\n",
            "177         -1                122         toyota        std         four        wagon          rwd           front       104.5  0.902451  0.923611    54.1         3151        dohc              six          161        mpfi  3.270000    3.35               9.20  156.000000  5200.000000        19           24  15750.0     12.368421              High       0    1\n",
            "178          2                122     volkswagen        std          two        sedan          fwd           front        97.3  0.825084  0.909722    55.7         2261         ohc             four           97         idi  3.010000    3.40              23.00   52.000000  4800.000000        37           46   7775.0      6.351351               Low       1    0\n",
            "179          2                122     volkswagen        std          two        sedan          fwd           front        97.3  0.825084  0.909722    55.7         2209         ohc             four          109        mpfi  3.190000    3.40               9.00   85.000000  5250.000000        27           34   7975.0      8.703704               Low       0    1\n",
            "180          2                 94     volkswagen        std         four        sedan          fwd           front        97.3  0.825084  0.909722    55.7         2264         ohc             four           97         idi  3.010000    3.40              23.00   52.000000  4800.000000        37           46   7995.0      6.351351               Low       1    0\n",
            "181          2                 94     volkswagen        std         four        sedan          fwd           front        97.3  0.825084  0.909722    55.7         2212         ohc             four          109        mpfi  3.190000    3.40               9.00   85.000000  5250.000000        27           34   8195.0      8.703704               Low       0    1\n",
            "182          2                 94     volkswagen        std         four        sedan          fwd           front        97.3  0.825084  0.909722    55.7         2275         ohc             four          109        mpfi  3.190000    3.40               9.00   85.000000  5250.000000        27           34   8495.0      8.703704               Low       0    1\n",
            "183          2                 94     volkswagen      turbo         four        sedan          fwd           front        97.3  0.825084  0.909722    55.7         2319         ohc             four           97         idi  3.010000    3.40              23.00   68.000000  4500.000000        37           42   9495.0      6.351351               Low       1    0\n",
            "184          2                 94     volkswagen        std         four        sedan          fwd           front        97.3  0.825084  0.909722    55.7         2300         ohc             four          109        mpfi  3.190000    3.40              10.00  100.000000  5500.000000        26           32   9995.0      9.038462               Low       0    1\n",
            "185          3                122     volkswagen        std          two  convertible          fwd           front        94.5  0.765497  0.891667    55.6         2254         ohc             four          109        mpfi  3.190000    3.40               8.50   90.000000  5500.000000        24           29  11595.0      9.791667               Low       0    1\n",
            "186          3                256     volkswagen        std          two    hatchback          fwd           front        94.5  0.796252  0.888889    51.4         2221         ohc             four          109        mpfi  3.190000    3.40               8.50   90.000000  5500.000000        24           29   9980.0      9.791667               Low       0    1\n",
            "187          0                122     volkswagen        std         four        sedan          fwd           front       100.4  0.865930  0.929167    55.1         2661         ohc             five          136        mpfi  3.190000    3.40               8.50  110.000000  5500.000000        19           24  13295.0     12.368421            Medium       0    1\n",
            "188          0                122     volkswagen      turbo         four        sedan          fwd           front       100.4  0.865930  0.929167    55.1         2579         ohc             four           97         idi  3.010000    3.40              23.00   68.000000  4500.000000        33           38  13845.0      7.121212               Low       1    0\n",
            "189          0                122     volkswagen        std         four        wagon          fwd           front       100.4  0.879865  0.929167    55.1         2563         ohc             four          109        mpfi  3.190000    3.40               9.00   88.000000  5500.000000        25           31  12290.0      9.400000               Low       0    1\n",
            "190         -2                103          volvo        std         four        sedan          rwd           front       104.3  0.907256  0.933333    56.2         2912         ohc             four          141        mpfi  3.780000    3.15               9.50  114.000000  5400.000000        23           28  12940.0     10.217391            Medium       0    1\n",
            "191         -1                 74          volvo        std         four        wagon          rwd           front       104.3  0.907256  0.933333    57.5         3034         ohc             four          141        mpfi  3.780000    3.15               9.50  114.000000  5400.000000        23           28  13415.0     10.217391            Medium       0    1\n",
            "192         -2                103          volvo        std         four        sedan          rwd           front       104.3  0.907256  0.933333    56.2         2935         ohc             four          141        mpfi  3.780000    3.15               9.50  114.000000  5400.000000        24           28  15985.0      9.791667            Medium       0    1\n",
            "193         -1                 74          volvo        std         four        wagon          rwd           front       104.3  0.907256  0.933333    57.5         3042         ohc             four          141        mpfi  3.780000    3.15               9.50  114.000000  5400.000000        24           28  16515.0      9.791667            Medium       0    1\n",
            "194         -2                103          volvo      turbo         four        sedan          rwd           front       104.3  0.907256  0.933333    56.2         3045         ohc             four          130        mpfi  3.620000    3.15               7.50  162.000000  5100.000000        17           22  18420.0     13.823529              High       0    1\n",
            "195         -1                 74          volvo      turbo         four        wagon          rwd           front       104.3  0.907256  0.933333    57.5         3157         ohc             four          130        mpfi  3.620000    3.15               7.50  162.000000  5100.000000        17           22  18950.0     13.823529              High       0    1\n",
            "196         -1                 95          volvo        std         four        sedan          rwd           front       109.1  0.907256  0.956944    55.5         2952         ohc             four          141        mpfi  3.780000    3.15               9.50  114.000000  5400.000000        23           28  16845.0     10.217391            Medium       0    1\n",
            "197         -1                 95          volvo      turbo         four        sedan          rwd           front       109.1  0.907256  0.955556    55.5         3049         ohc             four          141        mpfi  3.780000    3.15               8.70  160.000000  5300.000000        19           25  19045.0     12.368421              High       0    1\n",
            "198         -1                 95          volvo        std         four        sedan          rwd           front       109.1  0.907256  0.956944    55.5         3012        ohcv              six          173        mpfi  3.580000    2.87               8.80  134.000000  5500.000000        18           23  21485.0     13.055556            Medium       0    1\n",
            "199         -1                 95          volvo      turbo         four        sedan          rwd           front       109.1  0.907256  0.956944    55.5         3217         ohc              six          145         idi  3.010000    3.40              23.00  106.000000  4800.000000        26           27  22470.0      9.038462            Medium       1    0\n",
            "200         -1                 95          volvo      turbo         four        sedan          rwd           front       109.1  0.907256  0.956944    55.5         3062         ohc             four          141        mpfi  3.780000    3.15               9.50  114.000000  5400.000000        19           25  22625.0     12.368421            Medium       0    1\n"
          ]
        }
      ]
    },
    {
      "cell_type": "code",
      "source": [
        "# If you have a large DataFrame with many rows, Pandas will only return the first 5 rows, and the last 5 rows:\n",
        "\n",
        "# Example\n",
        "# Print the DataFrame without the to_string() method:\n",
        "\n",
        "import pandas as pd\n",
        "\n",
        "df = pd.read_csv('Data.csv')\n",
        "\n",
        "print(df)"
      ],
      "metadata": {
        "id": "o3ys0B2qdSPk",
        "colab": {
          "base_uri": "https://localhost:8080/"
        },
        "outputId": "15a14c7d-d4c1-4af1-a929-6ac732659144"
      },
      "execution_count": null,
      "outputs": [
        {
          "output_type": "stream",
          "name": "stdout",
          "text": [
            "     symboling  normalized-losses         make  ... horsepower-binned diesel gas\n",
            "0            3                122  alfa-romero  ...            Medium      0   1\n",
            "1            3                122  alfa-romero  ...            Medium      0   1\n",
            "2            1                122  alfa-romero  ...            Medium      0   1\n",
            "3            2                164         audi  ...            Medium      0   1\n",
            "4            2                164         audi  ...            Medium      0   1\n",
            "..         ...                ...          ...  ...               ...    ...  ..\n",
            "196         -1                 95        volvo  ...            Medium      0   1\n",
            "197         -1                 95        volvo  ...              High      0   1\n",
            "198         -1                 95        volvo  ...            Medium      0   1\n",
            "199         -1                 95        volvo  ...            Medium      1   0\n",
            "200         -1                 95        volvo  ...            Medium      0   1\n",
            "\n",
            "[201 rows x 29 columns]\n"
          ]
        }
      ]
    },
    {
      "cell_type": "code",
      "source": [
        "#Load the JSON file into a DataFrame:\n",
        "\n",
        "import pandas as pd\n",
        "\n",
        "df = pd.read_json('Data.json')\n",
        "\n",
        "print(df.to_string())"
      ],
      "metadata": {
        "id": "6bjiw8KDdU_6",
        "colab": {
          "base_uri": "https://localhost:8080/",
          "height": 380
        },
        "outputId": "37cafd4c-d188-47b6-f34b-2167980b8811"
      },
      "execution_count": null,
      "outputs": [
        {
          "output_type": "error",
          "ename": "ValueError",
          "evalue": "ignored",
          "traceback": [
            "\u001b[0;31m---------------------------------------------------------------------------\u001b[0m",
            "\u001b[0;31mValueError\u001b[0m                                Traceback (most recent call last)",
            "\u001b[0;32m<ipython-input-5-02a14db148db>\u001b[0m in \u001b[0;36m<module>\u001b[0;34m()\u001b[0m\n\u001b[1;32m      3\u001b[0m \u001b[0;32mimport\u001b[0m \u001b[0mpandas\u001b[0m \u001b[0;32mas\u001b[0m \u001b[0mpd\u001b[0m\u001b[0;34m\u001b[0m\u001b[0;34m\u001b[0m\u001b[0m\n\u001b[1;32m      4\u001b[0m \u001b[0;34m\u001b[0m\u001b[0m\n\u001b[0;32m----> 5\u001b[0;31m \u001b[0mdf\u001b[0m \u001b[0;34m=\u001b[0m \u001b[0mpd\u001b[0m\u001b[0;34m.\u001b[0m\u001b[0mread_json\u001b[0m\u001b[0;34m(\u001b[0m\u001b[0;34m'Data.json'\u001b[0m\u001b[0;34m)\u001b[0m\u001b[0;34m\u001b[0m\u001b[0;34m\u001b[0m\u001b[0m\n\u001b[0m\u001b[1;32m      6\u001b[0m \u001b[0;34m\u001b[0m\u001b[0m\n\u001b[1;32m      7\u001b[0m \u001b[0mprint\u001b[0m\u001b[0;34m(\u001b[0m\u001b[0mdf\u001b[0m\u001b[0;34m.\u001b[0m\u001b[0mto_string\u001b[0m\u001b[0;34m(\u001b[0m\u001b[0;34m)\u001b[0m\u001b[0;34m)\u001b[0m\u001b[0;34m\u001b[0m\u001b[0;34m\u001b[0m\u001b[0m\n",
            "\u001b[0;32m/usr/local/lib/python3.7/dist-packages/pandas/util/_decorators.py\u001b[0m in \u001b[0;36mwrapper\u001b[0;34m(*args, **kwargs)\u001b[0m\n\u001b[1;32m    205\u001b[0m                 \u001b[0;32melse\u001b[0m\u001b[0;34m:\u001b[0m\u001b[0;34m\u001b[0m\u001b[0;34m\u001b[0m\u001b[0m\n\u001b[1;32m    206\u001b[0m                     \u001b[0mkwargs\u001b[0m\u001b[0;34m[\u001b[0m\u001b[0mnew_arg_name\u001b[0m\u001b[0;34m]\u001b[0m \u001b[0;34m=\u001b[0m \u001b[0mnew_arg_value\u001b[0m\u001b[0;34m\u001b[0m\u001b[0;34m\u001b[0m\u001b[0m\n\u001b[0;32m--> 207\u001b[0;31m             \u001b[0;32mreturn\u001b[0m \u001b[0mfunc\u001b[0m\u001b[0;34m(\u001b[0m\u001b[0;34m*\u001b[0m\u001b[0margs\u001b[0m\u001b[0;34m,\u001b[0m \u001b[0;34m**\u001b[0m\u001b[0mkwargs\u001b[0m\u001b[0;34m)\u001b[0m\u001b[0;34m\u001b[0m\u001b[0;34m\u001b[0m\u001b[0m\n\u001b[0m\u001b[1;32m    208\u001b[0m \u001b[0;34m\u001b[0m\u001b[0m\n\u001b[1;32m    209\u001b[0m         \u001b[0;32mreturn\u001b[0m \u001b[0mcast\u001b[0m\u001b[0;34m(\u001b[0m\u001b[0mF\u001b[0m\u001b[0;34m,\u001b[0m \u001b[0mwrapper\u001b[0m\u001b[0;34m)\u001b[0m\u001b[0;34m\u001b[0m\u001b[0;34m\u001b[0m\u001b[0m\n",
            "\u001b[0;32m/usr/local/lib/python3.7/dist-packages/pandas/util/_decorators.py\u001b[0m in \u001b[0;36mwrapper\u001b[0;34m(*args, **kwargs)\u001b[0m\n\u001b[1;32m    309\u001b[0m                     \u001b[0mstacklevel\u001b[0m\u001b[0;34m=\u001b[0m\u001b[0mstacklevel\u001b[0m\u001b[0;34m,\u001b[0m\u001b[0;34m\u001b[0m\u001b[0;34m\u001b[0m\u001b[0m\n\u001b[1;32m    310\u001b[0m                 )\n\u001b[0;32m--> 311\u001b[0;31m             \u001b[0;32mreturn\u001b[0m \u001b[0mfunc\u001b[0m\u001b[0;34m(\u001b[0m\u001b[0;34m*\u001b[0m\u001b[0margs\u001b[0m\u001b[0;34m,\u001b[0m \u001b[0;34m**\u001b[0m\u001b[0mkwargs\u001b[0m\u001b[0;34m)\u001b[0m\u001b[0;34m\u001b[0m\u001b[0;34m\u001b[0m\u001b[0m\n\u001b[0m\u001b[1;32m    312\u001b[0m \u001b[0;34m\u001b[0m\u001b[0m\n\u001b[1;32m    313\u001b[0m         \u001b[0;32mreturn\u001b[0m \u001b[0mwrapper\u001b[0m\u001b[0;34m\u001b[0m\u001b[0;34m\u001b[0m\u001b[0m\n",
            "\u001b[0;32m/usr/local/lib/python3.7/dist-packages/pandas/io/json/_json.py\u001b[0m in \u001b[0;36mread_json\u001b[0;34m(path_or_buf, orient, typ, dtype, convert_axes, convert_dates, keep_default_dates, numpy, precise_float, date_unit, encoding, encoding_errors, lines, chunksize, compression, nrows, storage_options)\u001b[0m\n\u001b[1;32m    612\u001b[0m \u001b[0;34m\u001b[0m\u001b[0m\n\u001b[1;32m    613\u001b[0m     \u001b[0;32mwith\u001b[0m \u001b[0mjson_reader\u001b[0m\u001b[0;34m:\u001b[0m\u001b[0;34m\u001b[0m\u001b[0;34m\u001b[0m\u001b[0m\n\u001b[0;32m--> 614\u001b[0;31m         \u001b[0;32mreturn\u001b[0m \u001b[0mjson_reader\u001b[0m\u001b[0;34m.\u001b[0m\u001b[0mread\u001b[0m\u001b[0;34m(\u001b[0m\u001b[0;34m)\u001b[0m\u001b[0;34m\u001b[0m\u001b[0;34m\u001b[0m\u001b[0m\n\u001b[0m\u001b[1;32m    615\u001b[0m \u001b[0;34m\u001b[0m\u001b[0m\n\u001b[1;32m    616\u001b[0m \u001b[0;34m\u001b[0m\u001b[0m\n",
            "\u001b[0;32m/usr/local/lib/python3.7/dist-packages/pandas/io/json/_json.py\u001b[0m in \u001b[0;36mread\u001b[0;34m(self)\u001b[0m\n\u001b[1;32m    746\u001b[0m                 \u001b[0mobj\u001b[0m \u001b[0;34m=\u001b[0m \u001b[0mself\u001b[0m\u001b[0;34m.\u001b[0m\u001b[0m_get_object_parser\u001b[0m\u001b[0;34m(\u001b[0m\u001b[0mself\u001b[0m\u001b[0;34m.\u001b[0m\u001b[0m_combine_lines\u001b[0m\u001b[0;34m(\u001b[0m\u001b[0mdata_lines\u001b[0m\u001b[0;34m)\u001b[0m\u001b[0;34m)\u001b[0m\u001b[0;34m\u001b[0m\u001b[0;34m\u001b[0m\u001b[0m\n\u001b[1;32m    747\u001b[0m         \u001b[0;32melse\u001b[0m\u001b[0;34m:\u001b[0m\u001b[0;34m\u001b[0m\u001b[0;34m\u001b[0m\u001b[0m\n\u001b[0;32m--> 748\u001b[0;31m             \u001b[0mobj\u001b[0m \u001b[0;34m=\u001b[0m \u001b[0mself\u001b[0m\u001b[0;34m.\u001b[0m\u001b[0m_get_object_parser\u001b[0m\u001b[0;34m(\u001b[0m\u001b[0mself\u001b[0m\u001b[0;34m.\u001b[0m\u001b[0mdata\u001b[0m\u001b[0;34m)\u001b[0m\u001b[0;34m\u001b[0m\u001b[0;34m\u001b[0m\u001b[0m\n\u001b[0m\u001b[1;32m    749\u001b[0m         \u001b[0mself\u001b[0m\u001b[0;34m.\u001b[0m\u001b[0mclose\u001b[0m\u001b[0;34m(\u001b[0m\u001b[0;34m)\u001b[0m\u001b[0;34m\u001b[0m\u001b[0;34m\u001b[0m\u001b[0m\n\u001b[1;32m    750\u001b[0m         \u001b[0;32mreturn\u001b[0m \u001b[0mobj\u001b[0m\u001b[0;34m\u001b[0m\u001b[0;34m\u001b[0m\u001b[0m\n",
            "\u001b[0;32m/usr/local/lib/python3.7/dist-packages/pandas/io/json/_json.py\u001b[0m in \u001b[0;36m_get_object_parser\u001b[0;34m(self, json)\u001b[0m\n\u001b[1;32m    768\u001b[0m         \u001b[0mobj\u001b[0m \u001b[0;34m=\u001b[0m \u001b[0;32mNone\u001b[0m\u001b[0;34m\u001b[0m\u001b[0;34m\u001b[0m\u001b[0m\n\u001b[1;32m    769\u001b[0m         \u001b[0;32mif\u001b[0m \u001b[0mtyp\u001b[0m \u001b[0;34m==\u001b[0m \u001b[0;34m\"frame\"\u001b[0m\u001b[0;34m:\u001b[0m\u001b[0;34m\u001b[0m\u001b[0;34m\u001b[0m\u001b[0m\n\u001b[0;32m--> 770\u001b[0;31m             \u001b[0mobj\u001b[0m \u001b[0;34m=\u001b[0m \u001b[0mFrameParser\u001b[0m\u001b[0;34m(\u001b[0m\u001b[0mjson\u001b[0m\u001b[0;34m,\u001b[0m \u001b[0;34m**\u001b[0m\u001b[0mkwargs\u001b[0m\u001b[0;34m)\u001b[0m\u001b[0;34m.\u001b[0m\u001b[0mparse\u001b[0m\u001b[0;34m(\u001b[0m\u001b[0;34m)\u001b[0m\u001b[0;34m\u001b[0m\u001b[0;34m\u001b[0m\u001b[0m\n\u001b[0m\u001b[1;32m    771\u001b[0m \u001b[0;34m\u001b[0m\u001b[0m\n\u001b[1;32m    772\u001b[0m         \u001b[0;32mif\u001b[0m \u001b[0mtyp\u001b[0m \u001b[0;34m==\u001b[0m \u001b[0;34m\"series\"\u001b[0m \u001b[0;32mor\u001b[0m \u001b[0mobj\u001b[0m \u001b[0;32mis\u001b[0m \u001b[0;32mNone\u001b[0m\u001b[0;34m:\u001b[0m\u001b[0;34m\u001b[0m\u001b[0;34m\u001b[0m\u001b[0m\n",
            "\u001b[0;32m/usr/local/lib/python3.7/dist-packages/pandas/io/json/_json.py\u001b[0m in \u001b[0;36mparse\u001b[0;34m(self)\u001b[0m\n\u001b[1;32m    883\u001b[0m \u001b[0;34m\u001b[0m\u001b[0m\n\u001b[1;32m    884\u001b[0m         \u001b[0;32melse\u001b[0m\u001b[0;34m:\u001b[0m\u001b[0;34m\u001b[0m\u001b[0;34m\u001b[0m\u001b[0m\n\u001b[0;32m--> 885\u001b[0;31m             \u001b[0mself\u001b[0m\u001b[0;34m.\u001b[0m\u001b[0m_parse_no_numpy\u001b[0m\u001b[0;34m(\u001b[0m\u001b[0;34m)\u001b[0m\u001b[0;34m\u001b[0m\u001b[0;34m\u001b[0m\u001b[0m\n\u001b[0m\u001b[1;32m    886\u001b[0m \u001b[0;34m\u001b[0m\u001b[0m\n\u001b[1;32m    887\u001b[0m         \u001b[0;32mif\u001b[0m \u001b[0mself\u001b[0m\u001b[0;34m.\u001b[0m\u001b[0mobj\u001b[0m \u001b[0;32mis\u001b[0m \u001b[0;32mNone\u001b[0m\u001b[0;34m:\u001b[0m\u001b[0;34m\u001b[0m\u001b[0;34m\u001b[0m\u001b[0m\n",
            "\u001b[0;32m/usr/local/lib/python3.7/dist-packages/pandas/io/json/_json.py\u001b[0m in \u001b[0;36m_parse_no_numpy\u001b[0;34m(self)\u001b[0m\n\u001b[1;32m   1138\u001b[0m         \u001b[0;32mif\u001b[0m \u001b[0morient\u001b[0m \u001b[0;34m==\u001b[0m \u001b[0;34m\"columns\"\u001b[0m\u001b[0;34m:\u001b[0m\u001b[0;34m\u001b[0m\u001b[0;34m\u001b[0m\u001b[0m\n\u001b[1;32m   1139\u001b[0m             self.obj = DataFrame(\n\u001b[0;32m-> 1140\u001b[0;31m                 \u001b[0mloads\u001b[0m\u001b[0;34m(\u001b[0m\u001b[0mjson\u001b[0m\u001b[0;34m,\u001b[0m \u001b[0mprecise_float\u001b[0m\u001b[0;34m=\u001b[0m\u001b[0mself\u001b[0m\u001b[0;34m.\u001b[0m\u001b[0mprecise_float\u001b[0m\u001b[0;34m)\u001b[0m\u001b[0;34m,\u001b[0m \u001b[0mdtype\u001b[0m\u001b[0;34m=\u001b[0m\u001b[0;32mNone\u001b[0m\u001b[0;34m\u001b[0m\u001b[0;34m\u001b[0m\u001b[0m\n\u001b[0m\u001b[1;32m   1141\u001b[0m             )\n\u001b[1;32m   1142\u001b[0m         \u001b[0;32melif\u001b[0m \u001b[0morient\u001b[0m \u001b[0;34m==\u001b[0m \u001b[0;34m\"split\"\u001b[0m\u001b[0;34m:\u001b[0m\u001b[0;34m\u001b[0m\u001b[0;34m\u001b[0m\u001b[0m\n",
            "\u001b[0;31mValueError\u001b[0m: Expected object or value"
          ]
        }
      ]
    },
    {
      "cell_type": "markdown",
      "source": [
        "# **Viewing the Data**\n",
        "One of the most used method for getting a quick overview of the DataFrame, is the head() method.\n",
        "\n",
        "The head() method returns the headers and a specified number of rows, starting from the top."
      ],
      "metadata": {
        "id": "RD9ZmQARdaAR"
      }
    },
    {
      "cell_type": "code",
      "source": [
        "#Get a quick overview by printing the first 10 rows of the DataFrame:\n",
        "\n",
        "import pandas as pd\n",
        "\n",
        "df = pd.read_csv('Data.csv')\n",
        "\n",
        "print(df.head(10))"
      ],
      "metadata": {
        "id": "bpCXA-E4dcOi",
        "colab": {
          "base_uri": "https://localhost:8080/"
        },
        "outputId": "412c6b34-4f96-4d38-90bf-9435828ae112"
      },
      "execution_count": null,
      "outputs": [
        {
          "output_type": "stream",
          "name": "stdout",
          "text": [
            "   symboling  normalized-losses         make  ... horsepower-binned diesel gas\n",
            "0          3                122  alfa-romero  ...            Medium      0   1\n",
            "1          3                122  alfa-romero  ...            Medium      0   1\n",
            "2          1                122  alfa-romero  ...            Medium      0   1\n",
            "3          2                164         audi  ...            Medium      0   1\n",
            "4          2                164         audi  ...            Medium      0   1\n",
            "5          2                122         audi  ...            Medium      0   1\n",
            "6          1                158         audi  ...            Medium      0   1\n",
            "7          1                122         audi  ...            Medium      0   1\n",
            "8          1                158         audi  ...            Medium      0   1\n",
            "9          2                192          bmw  ...               Low      0   1\n",
            "\n",
            "[10 rows x 29 columns]\n"
          ]
        }
      ]
    },
    {
      "cell_type": "code",
      "source": [
        "# Note: if the number of rows is not specified, the head() method will return the top 5 rows.\n",
        "\n",
        "# Example\n",
        "# Print the first 5 rows of the DataFrame:\n",
        "\n",
        "import pandas as pd\n",
        "\n",
        "df = pd.read_csv('Data.csv')\n",
        "\n",
        "print(df.head())"
      ],
      "metadata": {
        "id": "ypWrgfo8dgLK",
        "colab": {
          "base_uri": "https://localhost:8080/"
        },
        "outputId": "a723c74e-9c18-4370-dd66-679c14c28421"
      },
      "execution_count": null,
      "outputs": [
        {
          "output_type": "stream",
          "name": "stdout",
          "text": [
            "   symboling  normalized-losses         make  ... horsepower-binned diesel gas\n",
            "0          3                122  alfa-romero  ...            Medium      0   1\n",
            "1          3                122  alfa-romero  ...            Medium      0   1\n",
            "2          1                122  alfa-romero  ...            Medium      0   1\n",
            "3          2                164         audi  ...            Medium      0   1\n",
            "4          2                164         audi  ...            Medium      0   1\n",
            "\n",
            "[5 rows x 29 columns]\n"
          ]
        }
      ]
    },
    {
      "cell_type": "code",
      "source": [
        "# There is also a tail() method for viewing the last rows of the DataFrame.\n",
        "\n",
        "# The tail() method returns the headers and a specified number of rows, starting from the bottom.\n",
        "\n",
        "# Example\n",
        "# Print the last 5 rows of the DataFrame:\n",
        "\n",
        "print(df.tail())"
      ],
      "metadata": {
        "id": "_PAtaIUHdj0Q",
        "colab": {
          "base_uri": "https://localhost:8080/"
        },
        "outputId": "d245190e-35db-492d-8f30-7a0ce0a6db9f"
      },
      "execution_count": null,
      "outputs": [
        {
          "output_type": "stream",
          "name": "stdout",
          "text": [
            "     symboling  normalized-losses   make  ... horsepower-binned diesel gas\n",
            "196         -1                 95  volvo  ...            Medium      0   1\n",
            "197         -1                 95  volvo  ...              High      0   1\n",
            "198         -1                 95  volvo  ...            Medium      0   1\n",
            "199         -1                 95  volvo  ...            Medium      1   0\n",
            "200         -1                 95  volvo  ...            Medium      0   1\n",
            "\n",
            "[5 rows x 29 columns]\n"
          ]
        }
      ]
    },
    {
      "cell_type": "code",
      "source": [
        "# Info About the Data\n",
        "# The DataFrames object has a method called info(), that gives you more information about the data set.\n",
        "\n",
        "# Example\n",
        "# Print information about the data:\n",
        "\n",
        "\n",
        "print(df.info())"
      ],
      "metadata": {
        "id": "JoqLOA3-dmQv",
        "colab": {
          "base_uri": "https://localhost:8080/"
        },
        "outputId": "fa69c6a7-783a-479f-a8be-330bdb5da3f2"
      },
      "execution_count": null,
      "outputs": [
        {
          "output_type": "stream",
          "name": "stdout",
          "text": [
            "<class 'pandas.core.frame.DataFrame'>\n",
            "RangeIndex: 201 entries, 0 to 200\n",
            "Data columns (total 29 columns):\n",
            " #   Column             Non-Null Count  Dtype  \n",
            "---  ------             --------------  -----  \n",
            " 0   symboling          201 non-null    int64  \n",
            " 1   normalized-losses  201 non-null    int64  \n",
            " 2   make               201 non-null    object \n",
            " 3   aspiration         201 non-null    object \n",
            " 4   num-of-doors       201 non-null    object \n",
            " 5   body-style         201 non-null    object \n",
            " 6   drive-wheels       201 non-null    object \n",
            " 7   engine-location    201 non-null    object \n",
            " 8   wheel-base         201 non-null    float64\n",
            " 9   length             201 non-null    float64\n",
            " 10  width              201 non-null    float64\n",
            " 11  height             201 non-null    float64\n",
            " 12  curb-weight        201 non-null    int64  \n",
            " 13  engine-type        201 non-null    object \n",
            " 14  num-of-cylinders   201 non-null    object \n",
            " 15  engine-size        201 non-null    int64  \n",
            " 16  fuel-system        201 non-null    object \n",
            " 17  bore               201 non-null    float64\n",
            " 18  stroke             197 non-null    float64\n",
            " 19  compression-ratio  201 non-null    float64\n",
            " 20  horsepower         201 non-null    float64\n",
            " 21  peak-rpm           201 non-null    float64\n",
            " 22  city-mpg           201 non-null    int64  \n",
            " 23  highway-mpg        201 non-null    int64  \n",
            " 24  price              201 non-null    float64\n",
            " 25  city-L/100km       201 non-null    float64\n",
            " 26  horsepower-binned  200 non-null    object \n",
            " 27  diesel             201 non-null    int64  \n",
            " 28  gas                201 non-null    int64  \n",
            "dtypes: float64(11), int64(8), object(10)\n",
            "memory usage: 45.7+ KB\n",
            "None\n"
          ]
        }
      ]
    },
    {
      "cell_type": "markdown",
      "source": [
        "# **Null Values**\n",
        "The info() method also tells us how many Non-Null values there are present in each column, and in our data set it seems like there are 164 of 169 Non-Null values in the \"Calories\" column.\n",
        "\n",
        "Which means that there are 5 rows with no value at all, in the \"Calories\" column, for whatever reason.\n",
        "\n",
        "Empty values, or Null values, can be bad when analyzing data, and you should consider removing rows with empty values. This is a step towards what is called cleaning data\n",
        "\n",
        "# **Cleaning Data**\n",
        "Data Cleaning Data cleaning means fixing bad data in your data set.\n",
        "\n",
        "Bad data could be:\n",
        "\n",
        "Empty cells Data in wrong format Wrong data Duplicates\n",
        "\n",
        "Empty Cells Empty cells can potentially give you a wrong result when you analyze data.\n",
        "\n",
        "Remove Rows One way to deal with empty cells is to remove rows that contain empty cells.\n",
        "\n",
        "This is usually OK, since data sets can be very big, and removing a few rows will not have a big impact on the result."
      ],
      "metadata": {
        "id": "qxL3LP5OdqGQ"
      }
    },
    {
      "cell_type": "code",
      "source": [
        "# Example\n",
        "# Return a new Data Frame with no empty cells:\n",
        "\n",
        "import pandas as pd\n",
        "\n",
        "df = pd.read_csv('Data.csv')\n",
        "\n",
        "new_df = df.dropna()\n",
        "\n",
        "print(new_df.to_string())"
      ],
      "metadata": {
        "id": "jMyB_1_pduLB",
        "colab": {
          "base_uri": "https://localhost:8080/"
        },
        "outputId": "3d056ad7-59ed-447d-949d-4b4e4fd0bdb8"
      },
      "execution_count": null,
      "outputs": [
        {
          "output_type": "stream",
          "name": "stdout",
          "text": [
            "     symboling  normalized-losses           make aspiration num-of-doors   body-style drive-wheels engine-location  wheel-base    length     width  height  curb-weight engine-type num-of-cylinders  engine-size fuel-system  bore  stroke  compression-ratio  horsepower     peak-rpm  city-mpg  highway-mpg    price  city-L/100km horsepower-binned  diesel  gas\n",
            "0            3                122    alfa-romero        std          two  convertible          rwd           front        88.6  0.811148  0.890278    48.8         2548        dohc             four          130        mpfi  3.47    2.68               9.00  111.000000  5000.000000        21           27  13495.0     11.190476            Medium       0    1\n",
            "1            3                122    alfa-romero        std          two  convertible          rwd           front        88.6  0.811148  0.890278    48.8         2548        dohc             four          130        mpfi  3.47    2.68               9.00  111.000000  5000.000000        21           27  16500.0     11.190476            Medium       0    1\n",
            "2            1                122    alfa-romero        std          two    hatchback          rwd           front        94.5  0.822681  0.909722    52.4         2823        ohcv              six          152        mpfi  2.68    3.47               9.00  154.000000  5000.000000        19           26  16500.0     12.368421            Medium       0    1\n",
            "3            2                164           audi        std         four        sedan          fwd           front        99.8  0.848630  0.919444    54.3         2337         ohc             four          109        mpfi  3.19    3.40              10.00  102.000000  5500.000000        24           30  13950.0      9.791667            Medium       0    1\n",
            "4            2                164           audi        std         four        sedan          4wd           front        99.4  0.848630  0.922222    54.3         2824         ohc             five          136        mpfi  3.19    3.40               8.00  115.000000  5500.000000        18           22  17450.0     13.055556            Medium       0    1\n",
            "5            2                122           audi        std          two        sedan          fwd           front        99.8  0.851994  0.920833    53.1         2507         ohc             five          136        mpfi  3.19    3.40               8.50  110.000000  5500.000000        19           25  15250.0     12.368421            Medium       0    1\n",
            "6            1                158           audi        std         four        sedan          fwd           front       105.8  0.925997  0.991667    55.7         2844         ohc             five          136        mpfi  3.19    3.40               8.50  110.000000  5500.000000        19           25  17710.0     12.368421            Medium       0    1\n",
            "7            1                122           audi        std         four        wagon          fwd           front       105.8  0.925997  0.991667    55.7         2954         ohc             five          136        mpfi  3.19    3.40               8.50  110.000000  5500.000000        19           25  18920.0     12.368421            Medium       0    1\n",
            "8            1                158           audi      turbo         four        sedan          fwd           front       105.8  0.925997  0.991667    55.9         3086         ohc             five          131        mpfi  3.13    3.40               8.30  140.000000  5500.000000        17           20  23875.0     13.823529            Medium       0    1\n",
            "9            2                192            bmw        std          two        sedan          rwd           front       101.2  0.849592  0.900000    54.3         2395         ohc             four          108        mpfi  3.50    2.80               8.80  101.000000  5800.000000        23           29  16430.0     10.217391               Low       0    1\n",
            "10           0                192            bmw        std         four        sedan          rwd           front       101.2  0.849592  0.900000    54.3         2395         ohc             four          108        mpfi  3.50    2.80               8.80  101.000000  5800.000000        23           29  16925.0     10.217391               Low       0    1\n",
            "11           0                188            bmw        std          two        sedan          rwd           front       101.2  0.849592  0.900000    54.3         2710         ohc              six          164        mpfi  3.31    3.19               9.00  121.000000  4250.000000        21           28  20970.0     11.190476            Medium       0    1\n",
            "12           0                188            bmw        std         four        sedan          rwd           front       101.2  0.849592  0.900000    54.3         2765         ohc              six          164        mpfi  3.31    3.19               9.00  121.000000  4250.000000        21           28  21105.0     11.190476            Medium       0    1\n",
            "13           1                122            bmw        std         four        sedan          rwd           front       103.5  0.908217  0.929167    55.7         3055         ohc              six          164        mpfi  3.31    3.19               9.00  121.000000  4250.000000        20           25  24565.0     11.750000            Medium       0    1\n",
            "14           0                122            bmw        std         four        sedan          rwd           front       103.5  0.908217  0.929167    55.7         3230         ohc              six          209        mpfi  3.62    3.39               8.00  182.000000  5400.000000        16           22  30760.0     14.687500              High       0    1\n",
            "15           0                122            bmw        std          two        sedan          rwd           front       103.5  0.931283  0.943056    53.7         3380         ohc              six          209        mpfi  3.62    3.39               8.00  182.000000  5400.000000        16           22  41315.0     14.687500              High       0    1\n",
            "16           0                122            bmw        std         four        sedan          rwd           front       110.0  0.946660  0.984722    56.3         3505         ohc              six          209        mpfi  3.62    3.39               8.00  182.000000  5400.000000        15           20  36880.0     15.666667              High       0    1\n",
            "17           2                121      chevrolet        std          two    hatchback          fwd           front        88.4  0.678039  0.837500    53.2         1488           l            three           61        2bbl  2.91    3.03               9.50   48.000000  5100.000000        47           53   5151.0      5.000000               Low       0    1\n",
            "18           1                 98      chevrolet        std          two    hatchback          fwd           front        94.5  0.749159  0.883333    52.0         1874         ohc             four           90        2bbl  3.03    3.11               9.60   70.000000  5400.000000        38           43   6295.0      6.184211               Low       0    1\n",
            "19           0                 81      chevrolet        std         four        sedan          fwd           front        94.5  0.763095  0.883333    52.0         1909         ohc             four           90        2bbl  3.03    3.11               9.60   70.000000  5400.000000        38           43   6575.0      6.184211               Low       0    1\n",
            "20           1                118          dodge        std          two    hatchback          fwd           front        93.7  0.755887  0.886111    50.8         1876         ohc             four           90        2bbl  2.97    3.23               9.41   68.000000  5500.000000        37           41   5572.0      6.351351               Low       0    1\n",
            "21           1                118          dodge        std          two    hatchback          fwd           front        93.7  0.755887  0.886111    50.8         1876         ohc             four           90        2bbl  2.97    3.23               9.40   68.000000  5500.000000        31           38   6377.0      7.580645               Low       0    1\n",
            "22           1                118          dodge      turbo          two    hatchback          fwd           front        93.7  0.755887  0.886111    50.8         2128         ohc             four           98        mpfi  3.03    3.39               7.60  102.000000  5500.000000        24           30   7957.0      9.791667            Medium       0    1\n",
            "23           1                148          dodge        std         four    hatchback          fwd           front        93.7  0.755887  0.886111    50.6         1967         ohc             four           90        2bbl  2.97    3.23               9.40   68.000000  5500.000000        31           38   6229.0      7.580645               Low       0    1\n",
            "24           1                148          dodge        std         four        sedan          fwd           front        93.7  0.755887  0.886111    50.6         1989         ohc             four           90        2bbl  2.97    3.23               9.40   68.000000  5500.000000        31           38   6692.0      7.580645               Low       0    1\n",
            "25           1                148          dodge        std         four        sedan          fwd           front        93.7  0.755887  0.886111    50.6         1989         ohc             four           90        2bbl  2.97    3.23               9.40   68.000000  5500.000000        31           38   7609.0      7.580645               Low       0    1\n",
            "26           1                148          dodge      turbo         four        sedan          fwd           front        93.7  0.755887  0.886111    50.6         2191         ohc             four           98        mpfi  3.03    3.39               7.60  102.000000  5500.000000        24           30   8558.0      9.791667            Medium       0    1\n",
            "27          -1                110          dodge        std         four        wagon          fwd           front       103.3  0.839020  0.897222    59.8         2535         ohc             four          122        2bbl  3.34    3.46               8.50   88.000000  5000.000000        24           30   8921.0      9.791667               Low       0    1\n",
            "28           3                145          dodge      turbo          two    hatchback          fwd           front        95.9  0.832292  0.920833    50.2         2811         ohc             four          156         mfi  3.60    3.90               7.00  145.000000  5000.000000        19           24  12964.0     12.368421            Medium       0    1\n",
            "29           2                137          honda        std          two    hatchback          fwd           front        86.6  0.694858  0.887500    50.8         1713         ohc             four           92        1bbl  2.91    3.41               9.60   58.000000  4800.000000        49           54   6479.0      4.795918               Low       0    1\n",
            "30           2                137          honda        std          two    hatchback          fwd           front        86.6  0.694858  0.887500    50.8         1819         ohc             four           92        1bbl  2.91    3.41               9.20   76.000000  6000.000000        31           38   6855.0      7.580645               Low       0    1\n",
            "31           1                101          honda        std          two    hatchback          fwd           front        93.7  0.720807  0.888889    52.6         1837         ohc             four           79        1bbl  2.91    3.07              10.10   60.000000  5500.000000        38           42   5399.0      6.184211               Low       0    1\n",
            "32           1                101          honda        std          two    hatchback          fwd           front        93.7  0.720807  0.888889    52.6         1940         ohc             four           92        1bbl  2.91    3.41               9.20   76.000000  6000.000000        30           34   6529.0      7.833333               Low       0    1\n",
            "33           1                101          honda        std          two    hatchback          fwd           front        93.7  0.720807  0.888889    52.6         1956         ohc             four           92        1bbl  2.91    3.41               9.20   76.000000  6000.000000        30           34   7129.0      7.833333               Low       0    1\n",
            "34           0                110          honda        std         four        sedan          fwd           front        96.5  0.785199  0.888889    54.5         2010         ohc             four           92        1bbl  2.91    3.41               9.20   76.000000  6000.000000        30           34   7295.0      7.833333               Low       0    1\n",
            "35           0                 78          honda        std         four        wagon          fwd           front        96.5  0.754926  0.887500    58.3         2024         ohc             four           92        1bbl  2.92    3.41               9.20   76.000000  6000.000000        30           34   7295.0      7.833333               Low       0    1\n",
            "36           0                106          honda        std          two    hatchback          fwd           front        96.5  0.804901  0.905556    53.3         2236         ohc             four          110        1bbl  3.15    3.58               9.00   86.000000  5800.000000        27           33   7895.0      8.703704               Low       0    1\n",
            "37           0                106          honda        std          two    hatchback          fwd           front        96.5  0.804901  0.905556    53.3         2289         ohc             four          110        1bbl  3.15    3.58               9.00   86.000000  5800.000000        27           33   9095.0      8.703704               Low       0    1\n",
            "38           0                 85          honda        std         four        sedan          fwd           front        96.5  0.842864  0.905556    54.1         2304         ohc             four          110        1bbl  3.15    3.58               9.00   86.000000  5800.000000        27           33   8845.0      8.703704               Low       0    1\n",
            "39           0                 85          honda        std         four        sedan          fwd           front        96.5  0.842864  0.868056    54.1         2372         ohc             four          110        1bbl  3.15    3.58               9.00   86.000000  5800.000000        27           33  10295.0      8.703704               Low       0    1\n",
            "40           0                 85          honda        std         four        sedan          fwd           front        96.5  0.842864  0.905556    54.1         2465         ohc             four          110        mpfi  3.15    3.58               9.00  101.000000  5800.000000        24           28  12945.0      9.791667               Low       0    1\n",
            "41           1                107          honda        std          two        sedan          fwd           front        96.5  0.812590  0.916667    51.0         2293         ohc             four          110        2bbl  3.15    3.58               9.10  100.000000  5500.000000        25           31  10345.0      9.400000               Low       0    1\n",
            "42           0                122          isuzu        std         four        sedan          rwd           front        94.3  0.820279  0.858333    53.5         2337         ohc             four          111        2bbl  3.31    3.23               8.50   78.000000  4800.000000        24           29   6785.0      9.791667               Low       0    1\n",
            "43           2                122          isuzu        std          two    hatchback          rwd           front        96.0  0.829409  0.905556    51.4         2734         ohc             four          119        spfi  3.43    3.23               9.20   90.000000  5000.000000        24           29  11048.0      9.791667               Low       0    1\n",
            "44           0                145         jaguar        std         four        sedan          rwd           front       113.0  0.959154  0.966667    52.8         4066        dohc              six          258        mpfi  3.63    4.17               8.10  176.000000  4750.000000        15           19  32250.0     15.666667              High       0    1\n",
            "45           0                122         jaguar        std         four        sedan          rwd           front       113.0  0.959154  0.966667    52.8         4066        dohc              six          258        mpfi  3.63    4.17               8.10  176.000000  4750.000000        15           19  35550.0     15.666667              High       0    1\n",
            "47           1                104          mazda        std          two    hatchback          fwd           front        93.1  0.764536  0.891667    54.1         1890         ohc             four           91        2bbl  3.03    3.15               9.00   68.000000  5000.000000        30           31   5195.0      7.833333               Low       0    1\n",
            "48           1                104          mazda        std          two    hatchback          fwd           front        93.1  0.764536  0.891667    54.1         1900         ohc             four           91        2bbl  3.03    3.15               9.00   68.000000  5000.000000        31           38   6095.0      7.580645               Low       0    1\n",
            "49           1                104          mazda        std          two    hatchback          fwd           front        93.1  0.764536  0.891667    54.1         1905         ohc             four           91        2bbl  3.03    3.15               9.00   68.000000  5000.000000        31           38   6795.0      7.580645               Low       0    1\n",
            "50           1                113          mazda        std         four        sedan          fwd           front        93.1  0.801538  0.891667    54.1         1945         ohc             four           91        2bbl  3.03    3.15               9.00   68.000000  5000.000000        31           38   6695.0      7.580645               Low       0    1\n",
            "51           1                113          mazda        std         four        sedan          fwd           front        93.1  0.801538  0.891667    54.1         1950         ohc             four           91        2bbl  3.08    3.15               9.00   68.000000  5000.000000        31           38   7395.0      7.580645               Low       0    1\n",
            "56           1                129          mazda        std          two    hatchback          fwd           front        98.8  0.854397  0.923611    53.7         2385         ohc             four          122        2bbl  3.39    3.39               8.60   84.000000  4800.000000        26           32   8845.0      9.038462               Low       0    1\n",
            "57           0                115          mazda        std         four        sedan          fwd           front        98.8  0.854397  0.923611    55.5         2410         ohc             four          122        2bbl  3.39    3.39               8.60   84.000000  4800.000000        26           32   8495.0      9.038462               Low       0    1\n",
            "58           1                129          mazda        std          two    hatchback          fwd           front        98.8  0.854397  0.923611    53.7         2385         ohc             four          122        2bbl  3.39    3.39               8.60   84.000000  4800.000000        26           32  10595.0      9.038462               Low       0    1\n",
            "59           0                115          mazda        std         four        sedan          fwd           front        98.8  0.854397  0.923611    55.5         2410         ohc             four          122        2bbl  3.39    3.39               8.60   84.000000  4800.000000        26           32  10245.0      9.038462               Low       0    1\n",
            "60           0                122          mazda        std         four        sedan          fwd           front        98.8  0.854397  0.923611    55.5         2443         ohc             four          122         idi  3.39    3.39              22.70   64.000000  4650.000000        36           42  10795.0      6.527778               Low       1    0\n",
            "61           0                115          mazda        std         four    hatchback          fwd           front        98.8  0.854397  0.923611    55.5         2425         ohc             four          122        2bbl  3.39    3.39               8.60   84.000000  4800.000000        26           32  11245.0      9.038462               Low       0    1\n",
            "62           0                118          mazda        std         four        sedan          rwd           front       104.9  0.840942  0.918056    54.4         2670         ohc             four          140        mpfi  3.76    3.16               8.00  120.000000  5000.000000        19           27  18280.0     12.368421            Medium       0    1\n",
            "63           0                122          mazda        std         four        sedan          rwd           front       104.9  0.840942  0.918056    54.4         2700         ohc             four          134         idi  3.43    3.64              22.00   72.000000  4200.000000        31           39  18344.0      7.580645               Low       1    0\n",
            "64          -1                 93  mercedes-benz      turbo         four        sedan          rwd           front       110.0  0.917347  0.976389    56.5         3515         ohc             five          183         idi  3.58    3.64              21.50  123.000000  4350.000000        22           25  25552.0     10.681818            Medium       1    0\n",
            "65          -1                 93  mercedes-benz      turbo         four        wagon          rwd           front       110.0  0.917347  0.976389    58.7         3750         ohc             five          183         idi  3.58    3.64              21.50  123.000000  4350.000000        22           25  28248.0     10.681818            Medium       1    0\n",
            "66           0                 93  mercedes-benz      turbo          two      hardtop          rwd           front       106.7  0.901009  0.976389    54.9         3495         ohc             five          183         idi  3.58    3.64              21.50  123.000000  4350.000000        22           25  28176.0     10.681818            Medium       1    0\n",
            "67          -1                 93  mercedes-benz      turbo         four        sedan          rwd           front       115.6  0.973570  0.995833    56.3         3770         ohc             five          183         idi  3.58    3.64              21.50  123.000000  4350.000000        22           25  31600.0     10.681818            Medium       1    0\n",
            "68          -1                122  mercedes-benz        std         four        sedan          rwd           front       115.6  0.973570  0.995833    56.5         3740        ohcv            eight          234        mpfi  3.46    3.10               8.30  155.000000  4750.000000        16           18  34184.0     14.687500            Medium       0    1\n",
            "69           3                142  mercedes-benz        std          two  convertible          rwd           front        96.6  0.866410  0.979167    50.8         3685        ohcv            eight          234        mpfi  3.46    3.10               8.30  155.000000  4750.000000        16           18  35056.0     14.687500            Medium       0    1\n",
            "70           0                122  mercedes-benz        std         four        sedan          rwd           front       120.9  1.000000  0.995833    56.7         3900        ohcv            eight          308        mpfi  3.80    3.35               8.00  184.000000  4500.000000        14           16  40960.0     16.785714              High       0    1\n",
            "71           1                122  mercedes-benz        std          two      hardtop          rwd           front       112.0  0.957232  1.000000    55.4         3715        ohcv            eight          304        mpfi  3.80    3.35               8.00  184.000000  4500.000000        14           16  45400.0     16.785714              High       0    1\n",
            "72           1                122        mercury      turbo          two    hatchback          rwd           front       102.7  0.857280  0.944444    54.8         2910         ohc             four          140        mpfi  3.78    3.12               8.00  175.000000  5000.000000        19           24  16503.0     12.368421              High       0    1\n",
            "73           2                161     mitsubishi        std          two    hatchback          fwd           front        93.7  0.755887  0.894444    50.8         1918         ohc             four           92        2bbl  2.97    3.23               9.40   68.000000  5500.000000        37           41   5389.0      6.351351               Low       0    1\n",
            "74           2                161     mitsubishi        std          two    hatchback          fwd           front        93.7  0.755887  0.894444    50.8         1944         ohc             four           92        2bbl  2.97    3.23               9.40   68.000000  5500.000000        31           38   6189.0      7.580645               Low       0    1\n",
            "75           2                161     mitsubishi        std          two    hatchback          fwd           front        93.7  0.755887  0.894444    50.8         2004         ohc             four           92        2bbl  2.97    3.23               9.40   68.000000  5500.000000        31           38   6669.0      7.580645               Low       0    1\n",
            "76           1                161     mitsubishi      turbo          two    hatchback          fwd           front        93.0  0.755887  0.886111    50.8         2145         ohc             four           98        spdi  3.03    3.39               7.60  102.000000  5500.000000        24           30   7689.0      9.791667            Medium       0    1\n",
            "77           3                153     mitsubishi      turbo          two    hatchback          fwd           front        96.3  0.831331  0.908333    49.4         2370         ohc             four          110        spdi  3.17    3.46               7.50  116.000000  5500.000000        23           30   9959.0     10.217391            Medium       0    1\n",
            "78           3                153     mitsubishi        std          two    hatchback          fwd           front        96.3  0.831331  0.908333    49.4         2328         ohc             four          122        2bbl  3.35    3.46               8.50   88.000000  5000.000000        25           32   8499.0      9.400000               Low       0    1\n",
            "79           3                122     mitsubishi      turbo          two    hatchback          fwd           front        95.9  0.832292  0.920833    50.2         2833         ohc             four          156        spdi  3.58    3.86               7.00  145.000000  5000.000000        19           24  12629.0     12.368421            Medium       0    1\n",
            "80           3                122     mitsubishi      turbo          two    hatchback          fwd           front        95.9  0.832292  0.920833    50.2         2921         ohc             four          156        spdi  3.59    3.86               7.00  145.000000  5000.000000        19           24  14869.0     12.368421            Medium       0    1\n",
            "81           3                122     mitsubishi      turbo          two    hatchback          fwd           front        95.9  0.832292  0.920833    50.2         2926         ohc             four          156        spdi  3.59    3.86               7.00  145.000000  5000.000000        19           24  14489.0     12.368421            Medium       0    1\n",
            "82           1                125     mitsubishi        std         four        sedan          fwd           front        96.3  0.828448  0.908333    51.6         2365         ohc             four          122        2bbl  3.35    3.46               8.50   88.000000  5000.000000        25           32   6989.0      9.400000               Low       0    1\n",
            "83           1                125     mitsubishi        std         four        sedan          fwd           front        96.3  0.828448  0.908333    51.6         2405         ohc             four          122        2bbl  3.35    3.46               8.50   88.000000  5000.000000        25           32   8189.0      9.400000               Low       0    1\n",
            "84           1                125     mitsubishi      turbo         four        sedan          fwd           front        96.3  0.828448  0.908333    51.6         2403         ohc             four          110        spdi  3.17    3.46               7.50  116.000000  5500.000000        23           30   9279.0     10.217391            Medium       0    1\n",
            "85          -1                137     mitsubishi        std         four        sedan          fwd           front        96.3  0.828448  0.908333    51.6         2403         ohc             four          110        spdi  3.17    3.46               7.50  116.000000  5500.000000        23           30   9279.0     10.217391            Medium       0    1\n",
            "86           1                128         nissan        std          two        sedan          fwd           front        94.5  0.794330  0.886111    54.5         1889         ohc             four           97        2bbl  3.15    3.29               9.40   69.000000  5200.000000        31           37   5499.0      7.580645               Low       0    1\n",
            "87           1                128         nissan        std          two        sedan          fwd           front        94.5  0.794330  0.886111    54.5         2017         ohc             four          103         idi  2.99    3.47              21.90   55.000000  4800.000000        45           50   7099.0      5.222222               Low       1    0\n",
            "88           1                128         nissan        std          two        sedan          fwd           front        94.5  0.794330  0.886111    54.5         1918         ohc             four           97        2bbl  3.15    3.29               9.40   69.000000  5200.000000        31           37   6649.0      7.580645               Low       0    1\n",
            "89           1                122         nissan        std         four        sedan          fwd           front        94.5  0.794330  0.886111    54.5         1938         ohc             four           97        2bbl  3.15    3.29               9.40   69.000000  5200.000000        31           37   6849.0      7.580645               Low       0    1\n",
            "90           1                103         nissan        std         four        wagon          fwd           front        94.5  0.817876  0.886111    53.5         2024         ohc             four           97        2bbl  3.15    3.29               9.40   69.000000  5200.000000        31           37   7349.0      7.580645               Low       0    1\n",
            "91           1                128         nissan        std          two        sedan          fwd           front        94.5  0.794330  0.886111    54.5         1951         ohc             four           97        2bbl  3.15    3.29               9.40   69.000000  5200.000000        31           37   7299.0      7.580645               Low       0    1\n",
            "92           1                128         nissan        std          two    hatchback          fwd           front        94.5  0.795771  0.886111    53.3         2028         ohc             four           97        2bbl  3.15    3.29               9.40   69.000000  5200.000000        31           37   7799.0      7.580645               Low       0    1\n",
            "93           1                122         nissan        std         four        sedan          fwd           front        94.5  0.794330  0.886111    54.5         1971         ohc             four           97        2bbl  3.15    3.29               9.40   69.000000  5200.000000        31           37   7499.0      7.580645               Low       0    1\n",
            "94           1                103         nissan        std         four        wagon          fwd           front        94.5  0.817876  0.886111    53.5         2037         ohc             four           97        2bbl  3.15    3.29               9.40   69.000000  5200.000000        31           37   7999.0      7.580645               Low       0    1\n",
            "95           2                168         nissan        std          two      hardtop          fwd           front        95.1  0.780394  0.886111    53.3         2008         ohc             four           97        2bbl  3.15    3.29               9.40   69.000000  5200.000000        31           37   8249.0      7.580645               Low       0    1\n",
            "96           0                106         nissan        std         four    hatchback          fwd           front        97.2  0.833253  0.905556    54.7         2324         ohc             four          120        2bbl  3.33    3.47               8.50   97.000000  5200.000000        27           34   8949.0      8.703704               Low       0    1\n",
            "97           0                106         nissan        std         four        sedan          fwd           front        97.2  0.833253  0.905556    54.7         2302         ohc             four          120        2bbl  3.33    3.47               8.50   97.000000  5200.000000        27           34   9549.0      8.703704               Low       0    1\n",
            "98           0                128         nissan        std         four        sedan          fwd           front       100.4  0.873138  0.923611    55.1         3095        ohcv              six          181        mpfi  3.43    3.27               9.00  152.000000  5200.000000        17           22  13499.0     13.823529            Medium       0    1\n",
            "99           0                108         nissan        std         four        wagon          fwd           front       100.4  0.887074  0.923611    56.1         3296        ohcv              six          181        mpfi  3.43    3.27               9.00  152.000000  5200.000000        17           22  14399.0     13.823529            Medium       0    1\n",
            "100          0                108         nissan        std         four        sedan          fwd           front       100.4  0.887074  0.923611    55.1         3060        ohcv              six          181        mpfi  3.43    3.27               9.00  152.000000  5200.000000        19           25  13499.0     12.368421            Medium       0    1\n",
            "101          3                194         nissan        std          two    hatchback          rwd           front        91.3  0.820279  0.943056    49.7         3071        ohcv              six          181        mpfi  3.43    3.27               9.00  160.000000  5200.000000        19           25  17199.0     12.368421              High       0    1\n",
            "102          3                194         nissan      turbo          two    hatchback          rwd           front        91.3  0.820279  0.943056    49.7         3139        ohcv              six          181        mpfi  3.43    3.27               7.80  200.000000  5200.000000        17           23  19699.0     13.823529              High       0    1\n",
            "103          1                231         nissan        std          two    hatchback          rwd           front        99.2  0.857761  0.943056    49.7         3139        ohcv              six          181        mpfi  3.43    3.27               9.00  160.000000  5200.000000        19           25  18399.0     12.368421              High       0    1\n",
            "104          0                161         peugot        std         four        sedan          rwd           front       107.9  0.897165  0.950000    56.7         3020           l             four          120        mpfi  3.46    3.19               8.40   97.000000  5000.000000        19           24  11900.0     12.368421               Low       0    1\n",
            "105          0                161         peugot      turbo         four        sedan          rwd           front       107.9  0.897165  0.950000    56.7         3197           l             four          152         idi  3.70    3.52              21.00   95.000000  4150.000000        28           33  13200.0      8.392857               Low       1    0\n",
            "106          0                122         peugot        std         four        wagon          rwd           front       114.2  0.955790  0.950000    58.7         3230           l             four          120        mpfi  3.46    3.19               8.40   97.000000  5000.000000        19           24  12440.0     12.368421               Low       0    1\n",
            "107          0                122         peugot      turbo         four        wagon          rwd           front       114.2  0.955790  0.950000    58.7         3430           l             four          152         idi  3.70    3.52              21.00   95.000000  4150.000000        25           25  13860.0      9.400000               Low       1    0\n",
            "108          0                161         peugot        std         four        sedan          rwd           front       107.9  0.897165  0.950000    56.7         3075           l             four          120        mpfi  3.46    2.19               8.40   95.000000  5000.000000        19           24  15580.0     12.368421               Low       0    1\n",
            "109          0                161         peugot      turbo         four        sedan          rwd           front       107.9  0.897165  0.950000    56.7         3252           l             four          152         idi  3.70    3.52              21.00   95.000000  4150.000000        28           33  16900.0      8.392857               Low       1    0\n",
            "110          0                122         peugot        std         four        wagon          rwd           front       114.2  0.955790  0.950000    56.7         3285           l             four          120        mpfi  3.46    2.19               8.40   95.000000  5000.000000        19           24  16695.0     12.368421               Low       0    1\n",
            "111          0                122         peugot      turbo         four        wagon          rwd           front       114.2  0.955790  0.950000    58.7         3485           l             four          152         idi  3.70    3.52              21.00   95.000000  4150.000000        25           25  17075.0      9.400000               Low       1    0\n",
            "112          0                161         peugot        std         four        sedan          rwd           front       107.9  0.897165  0.950000    56.7         3075           l             four          120        mpfi  3.46    3.19               8.40   97.000000  5000.000000        19           24  16630.0     12.368421               Low       0    1\n",
            "113          0                161         peugot      turbo         four        sedan          rwd           front       107.9  0.897165  0.950000    56.7         3252           l             four          152         idi  3.70    3.52              21.00   95.000000  4150.000000        28           33  17950.0      8.392857               Low       1    0\n",
            "114          0                161         peugot      turbo         four        sedan          rwd           front       108.0  0.897165  0.948611    56.0         3130           l             four          134        mpfi  3.61    3.21               7.00  142.000000  5600.000000        18           24  18150.0     13.055556            Medium       0    1\n",
            "115          1                119       plymouth        std          two    hatchback          fwd           front        93.7  0.755887  0.886111    50.8         1918         ohc             four           90        2bbl  2.97    3.23               9.40   68.000000  5500.000000        37           41   5572.0      6.351351               Low       0    1\n",
            "116          1                119       plymouth      turbo          two    hatchback          fwd           front        93.7  0.755887  0.886111    50.8         2128         ohc             four           98        spdi  3.03    3.39               7.60  102.000000  5500.000000        24           30   7957.0      9.791667            Medium       0    1\n",
            "117          1                154       plymouth        std         four    hatchback          fwd           front        93.7  0.755887  0.886111    50.6         1967         ohc             four           90        2bbl  2.97    3.23               9.40   68.000000  5500.000000        31           38   6229.0      7.580645               Low       0    1\n",
            "118          1                154       plymouth        std         four        sedan          fwd           front        93.7  0.803940  0.886111    50.8         1989         ohc             four           90        2bbl  2.97    3.23               9.40   68.000000  5500.000000        31           38   6692.0      7.580645               Low       0    1\n",
            "119          1                154       plymouth        std         four        sedan          fwd           front        93.7  0.803940  0.886111    50.8         2191         ohc             four           98        2bbl  2.97    3.23               9.40   68.000000  5500.000000        31           38   7609.0      7.580645               Low       0    1\n",
            "120         -1                 74       plymouth        std         four        wagon          fwd           front       103.3  0.839020  0.897222    59.8         2535         ohc             four          122        2bbl  3.35    3.46               8.50   88.000000  5000.000000        24           30   8921.0      9.791667               Low       0    1\n",
            "121          3                122       plymouth      turbo          two    hatchback          rwd           front        95.9  0.832292  0.920833    50.2         2818         ohc             four          156        spdi  3.59    3.86               7.00  145.000000  5000.000000        19           24  12764.0     12.368421            Medium       0    1\n",
            "122          3                186        porsche        std          two    hatchback          rwd           front        94.5  0.811629  0.948611    50.2         2778         ohc             four          151        mpfi  3.94    3.11               9.50  143.000000  5500.000000        19           27  22018.0     12.368421            Medium       0    1\n",
            "123          3                122        porsche        std          two      hardtop          rwd            rear        89.5  0.811629  0.902778    51.6         2756        ohcf              six          194        mpfi  3.74    2.90               9.50  207.000000  5900.000000        17           25  32528.0     13.823529              High       0    1\n",
            "124          3                122        porsche        std          two      hardtop          rwd            rear        89.5  0.811629  0.902778    51.6         2756        ohcf              six          194        mpfi  3.74    2.90               9.50  207.000000  5900.000000        17           25  34028.0     13.823529              High       0    1\n",
            "125          3                122        porsche        std          two  convertible          rwd            rear        89.5  0.811629  0.902778    51.6         2800        ohcf              six          194        mpfi  3.74    2.90               9.50  207.000000  5900.000000        17           25  37028.0     13.823529              High       0    1\n",
            "126          0                122        renault        std         four        wagon          fwd           front        96.1  0.872177  0.923611    55.2         2579         ohc             four          132        mpfi  3.46    3.90               8.70  104.256158  5125.369458        23           31   9295.0     10.217391            Medium       0    1\n",
            "127          2                122        renault        std          two    hatchback          fwd           front        96.1  0.849592  0.925000    50.5         2460         ohc             four          132        mpfi  3.46    3.90               8.70  104.256158  5125.369458        23           31   9895.0     10.217391            Medium       0    1\n",
            "128          3                150           saab        std          two    hatchback          fwd           front        99.1  0.896684  0.923611    56.1         2658         ohc             four          121        mpfi  3.54    3.07               9.31  110.000000  5250.000000        21           28  11850.0     11.190476            Medium       0    1\n",
            "129          2                104           saab        std         four        sedan          fwd           front        99.1  0.896684  0.923611    56.1         2695         ohc             four          121        mpfi  3.54    3.07               9.30  110.000000  5250.000000        21           28  12170.0     11.190476            Medium       0    1\n",
            "130          3                150           saab        std          two    hatchback          fwd           front        99.1  0.896684  0.923611    56.1         2707         ohc             four          121        mpfi  2.54    2.07               9.30  110.000000  5250.000000        21           28  15040.0     11.190476            Medium       0    1\n",
            "131          2                104           saab        std         four        sedan          fwd           front        99.1  0.896684  0.923611    56.1         2758         ohc             four          121        mpfi  3.54    3.07               9.30  110.000000  5250.000000        21           28  15510.0     11.190476            Medium       0    1\n",
            "132          3                150           saab      turbo          two    hatchback          fwd           front        99.1  0.896684  0.923611    56.1         2808        dohc             four          121        mpfi  3.54    3.07               9.00  160.000000  5500.000000        19           26  18150.0     12.368421              High       0    1\n",
            "133          2                104           saab      turbo         four        sedan          fwd           front        99.1  0.896684  0.923611    56.1         2847        dohc             four          121        mpfi  3.54    3.07               9.00  160.000000  5500.000000        19           26  18620.0     12.368421              High       0    1\n",
            "134          2                 83         subaru        std          two    hatchback          fwd           front        93.7  0.753964  0.880556    53.7         2050        ohcf             four           97        2bbl  3.62    2.36               9.00   69.000000  4900.000000        31           36   5118.0      7.580645               Low       0    1\n",
            "135          2                 83         subaru        std          two    hatchback          fwd           front        93.7  0.758770  0.883333    53.7         2120        ohcf             four          108        2bbl  3.62    2.64               8.70   73.000000  4400.000000        26           31   7053.0      9.038462               Low       0    1\n",
            "136          2                 83         subaru        std          two    hatchback          4wd           front        93.3  0.755887  0.886111    55.7         2240        ohcf             four          108        2bbl  3.62    2.64               8.70   73.000000  4400.000000        26           31   7603.0      9.038462               Low       0    1\n",
            "137          0                102         subaru        std         four        sedan          fwd           front        97.2  0.826526  0.908333    52.5         2145        ohcf             four          108        2bbl  3.62    2.64               9.50   82.000000  4800.000000        32           37   7126.0      7.343750               Low       0    1\n",
            "138          0                102         subaru        std         four        sedan          fwd           front        97.2  0.826526  0.908333    52.5         2190        ohcf             four          108        2bbl  3.62    2.64               9.50   82.000000  4400.000000        28           33   7775.0      8.392857               Low       0    1\n",
            "139          0                102         subaru        std         four        sedan          fwd           front        97.2  0.826526  0.908333    52.5         2340        ohcf             four          108        mpfi  3.62    2.64               9.00   94.000000  5200.000000        26           32   9960.0      9.038462               Low       0    1\n",
            "140          0                102         subaru        std         four        sedan          4wd           front        97.0  0.826526  0.908333    54.3         2385        ohcf             four          108        2bbl  3.62    2.64               9.00   82.000000  4800.000000        24           25   9233.0      9.791667               Low       0    1\n",
            "141          0                102         subaru      turbo         four        sedan          4wd           front        97.0  0.826526  0.908333    54.3         2510        ohcf             four          108        mpfi  3.62    2.64               7.70  111.000000  4800.000000        24           29  11259.0      9.791667            Medium       0    1\n",
            "142          0                 89         subaru        std         four        wagon          fwd           front        97.0  0.833734  0.908333    53.0         2290        ohcf             four          108        2bbl  3.62    2.64               9.00   82.000000  4800.000000        28           32   7463.0      8.392857               Low       0    1\n",
            "143          0                 89         subaru        std         four        wagon          fwd           front        97.0  0.833734  0.908333    53.0         2455        ohcf             four          108        mpfi  3.62    2.64               9.00   94.000000  5200.000000        25           31  10198.0      9.400000               Low       0    1\n",
            "144          0                 85         subaru        std         four        wagon          4wd           front        96.9  0.834214  0.908333    54.9         2420        ohcf             four          108        2bbl  3.62    2.64               9.00   82.000000  4800.000000        23           29   8013.0     10.217391               Low       0    1\n",
            "145          0                 85         subaru      turbo         four        wagon          4wd           front        96.9  0.834214  0.908333    54.9         2650        ohcf             four          108        mpfi  3.62    2.64               7.70  111.000000  4800.000000        23           23  11694.0     10.217391            Medium       0    1\n",
            "146          1                 87         toyota        std          two    hatchback          fwd           front        95.7  0.762614  0.883333    54.5         1985         ohc             four           92        2bbl  3.05    3.03               9.00   62.000000  4800.000000        35           39   5348.0      6.714286               Low       0    1\n",
            "147          1                 87         toyota        std          two    hatchback          fwd           front        95.7  0.762614  0.883333    54.5         2040         ohc             four           92        2bbl  3.05    3.03               9.00   62.000000  4800.000000        31           38   6338.0      7.580645               Low       0    1\n",
            "148          1                 74         toyota        std         four    hatchback          fwd           front        95.7  0.762614  0.883333    54.5         2015         ohc             four           92        2bbl  3.05    3.03               9.00   62.000000  4800.000000        31           38   6488.0      7.580645               Low       0    1\n",
            "149          0                 77         toyota        std         four        wagon          fwd           front        95.7  0.815473  0.883333    59.1         2280         ohc             four           92        2bbl  3.05    3.03               9.00   62.000000  4800.000000        31           37   6918.0      7.580645               Low       0    1\n",
            "150          0                 81         toyota        std         four        wagon          4wd           front        95.7  0.815473  0.883333    59.1         2290         ohc             four           92        2bbl  3.05    3.03               9.00   62.000000  4800.000000        27           32   7898.0      8.703704               Low       0    1\n",
            "151          0                 91         toyota        std         four        wagon          4wd           front        95.7  0.815473  0.883333    59.1         3110         ohc             four           92        2bbl  3.05    3.03               9.00   62.000000  4800.000000        27           32   8778.0      8.703704               Low       0    1\n",
            "152          0                 91         toyota        std         four        sedan          fwd           front        95.7  0.799135  0.894444    53.0         2081         ohc             four           98        2bbl  3.19    3.03               9.00   70.000000  4800.000000        30           37   6938.0      7.833333               Low       0    1\n",
            "153          0                 91         toyota        std         four    hatchback          fwd           front        95.7  0.799135  0.894444    52.8         2109         ohc             four           98        2bbl  3.19    3.03               9.00   70.000000  4800.000000        30           37   7198.0      7.833333               Low       0    1\n",
            "154          0                 91         toyota        std         four        sedan          fwd           front        95.7  0.799135  0.894444    53.0         2275         ohc             four          110         idi  3.27    3.35              22.50   56.000000  4500.000000        34           36   7898.0      6.911765               Low       1    0\n",
            "155          0                 91         toyota        std         four    hatchback          fwd           front        95.7  0.799135  0.894444    52.8         2275         ohc             four          110         idi  3.27    3.35              22.50   56.000000  4500.000000        38           47   7788.0      6.184211               Low       1    0\n",
            "156          0                 91         toyota        std         four        sedan          fwd           front        95.7  0.799135  0.894444    53.0         2094         ohc             four           98        2bbl  3.19    3.03               9.00   70.000000  4800.000000        38           47   7738.0      6.184211               Low       0    1\n",
            "157          0                 91         toyota        std         four    hatchback          fwd           front        95.7  0.799135  0.894444    52.8         2122         ohc             four           98        2bbl  3.19    3.03               9.00   70.000000  4800.000000        28           34   8358.0      8.392857               Low       0    1\n",
            "158          0                 91         toyota        std         four        sedan          fwd           front        95.7  0.799135  0.894444    52.8         2140         ohc             four           98        2bbl  3.19    3.03               9.00   70.000000  4800.000000        28           34   9258.0      8.392857               Low       0    1\n",
            "159          1                168         toyota        std          two        sedan          rwd           front        94.5  0.810668  0.888889    52.6         2169         ohc             four           98        2bbl  3.19    3.03               9.00   70.000000  4800.000000        29           34   8058.0      8.103448               Low       0    1\n",
            "160          1                168         toyota        std          two    hatchback          rwd           front        94.5  0.810668  0.888889    52.6         2204         ohc             four           98        2bbl  3.19    3.03               9.00   70.000000  4800.000000        29           34   8238.0      8.103448               Low       0    1\n",
            "161          1                168         toyota        std          two        sedan          rwd           front        94.5  0.810668  0.888889    52.6         2265        dohc             four           98        mpfi  3.24    3.08               9.40  112.000000  6600.000000        26           29   9298.0      9.038462            Medium       0    1\n",
            "162          1                168         toyota        std          two    hatchback          rwd           front        94.5  0.810668  0.888889    52.6         2300        dohc             four           98        mpfi  3.24    3.08               9.40  112.000000  6600.000000        26           29   9538.0      9.038462            Medium       0    1\n",
            "163          2                134         toyota        std          two      hardtop          rwd           front        98.4  0.846708  0.911111    52.0         2540         ohc             four          146        mpfi  3.62    3.50               9.30  116.000000  4800.000000        24           30   8449.0      9.791667            Medium       0    1\n",
            "164          2                134         toyota        std          two      hardtop          rwd           front        98.4  0.846708  0.911111    52.0         2536         ohc             four          146        mpfi  3.62    3.50               9.30  116.000000  4800.000000        24           30   9639.0      9.791667            Medium       0    1\n",
            "165          2                134         toyota        std          two    hatchback          rwd           front        98.4  0.846708  0.911111    52.0         2551         ohc             four          146        mpfi  3.62    3.50               9.30  116.000000  4800.000000        24           30   9989.0      9.791667            Medium       0    1\n",
            "166          2                134         toyota        std          two      hardtop          rwd           front        98.4  0.846708  0.911111    52.0         2679         ohc             four          146        mpfi  3.62    3.50               9.30  116.000000  4800.000000        24           30  11199.0      9.791667            Medium       0    1\n",
            "167          2                134         toyota        std          two    hatchback          rwd           front        98.4  0.846708  0.911111    52.0         2714         ohc             four          146        mpfi  3.62    3.50               9.30  116.000000  4800.000000        24           30  11549.0      9.791667            Medium       0    1\n",
            "168          2                134         toyota        std          two  convertible          rwd           front        98.4  0.846708  0.911111    53.0         2975         ohc             four          146        mpfi  3.62    3.50               9.30  116.000000  4800.000000        24           30  17669.0      9.791667            Medium       0    1\n",
            "169         -1                 65         toyota        std         four        sedan          fwd           front       102.4  0.843825  0.923611    54.9         2326         ohc             four          122        mpfi  3.31    3.54               8.70   92.000000  4200.000000        29           34   8948.0      8.103448               Low       0    1\n",
            "170         -1                 65         toyota      turbo         four        sedan          fwd           front       102.4  0.843825  0.923611    54.9         2480         ohc             four          110         idi  3.27    3.35              22.50   73.000000  4500.000000        30           33  10698.0      7.833333               Low       1    0\n",
            "171         -1                 65         toyota        std         four    hatchback          fwd           front       102.4  0.843825  0.923611    53.9         2414         ohc             four          122        mpfi  3.31    3.54               8.70   92.000000  4200.000000        27           32   9988.0      8.703704               Low       0    1\n",
            "172         -1                 65         toyota        std         four        sedan          fwd           front       102.4  0.843825  0.923611    54.9         2414         ohc             four          122        mpfi  3.31    3.54               8.70   92.000000  4200.000000        27           32  10898.0      8.703704               Low       0    1\n",
            "173         -1                 65         toyota        std         four    hatchback          fwd           front       102.4  0.843825  0.923611    53.9         2458         ohc             four          122        mpfi  3.31    3.54               8.70   92.000000  4200.000000        27           32  11248.0      8.703704               Low       0    1\n",
            "174          3                197         toyota        std          two    hatchback          rwd           front       102.9  0.881788  0.940278    52.0         2976        dohc              six          171        mpfi  3.27    3.35               9.30  161.000000  5200.000000        20           24  16558.0     11.750000              High       0    1\n",
            "175          3                197         toyota        std          two    hatchback          rwd           front       102.9  0.881788  0.940278    52.0         3016        dohc              six          171        mpfi  3.27    3.35               9.30  161.000000  5200.000000        19           24  15998.0     12.368421              High       0    1\n",
            "176         -1                 90         toyota        std         four        sedan          rwd           front       104.5  0.902451  0.923611    54.1         3131        dohc              six          171        mpfi  3.27    3.35               9.20  156.000000  5200.000000        20           24  15690.0     11.750000              High       0    1\n",
            "177         -1                122         toyota        std         four        wagon          rwd           front       104.5  0.902451  0.923611    54.1         3151        dohc              six          161        mpfi  3.27    3.35               9.20  156.000000  5200.000000        19           24  15750.0     12.368421              High       0    1\n",
            "178          2                122     volkswagen        std          two        sedan          fwd           front        97.3  0.825084  0.909722    55.7         2261         ohc             four           97         idi  3.01    3.40              23.00   52.000000  4800.000000        37           46   7775.0      6.351351               Low       1    0\n",
            "179          2                122     volkswagen        std          two        sedan          fwd           front        97.3  0.825084  0.909722    55.7         2209         ohc             four          109        mpfi  3.19    3.40               9.00   85.000000  5250.000000        27           34   7975.0      8.703704               Low       0    1\n",
            "180          2                 94     volkswagen        std         four        sedan          fwd           front        97.3  0.825084  0.909722    55.7         2264         ohc             four           97         idi  3.01    3.40              23.00   52.000000  4800.000000        37           46   7995.0      6.351351               Low       1    0\n",
            "181          2                 94     volkswagen        std         four        sedan          fwd           front        97.3  0.825084  0.909722    55.7         2212         ohc             four          109        mpfi  3.19    3.40               9.00   85.000000  5250.000000        27           34   8195.0      8.703704               Low       0    1\n",
            "182          2                 94     volkswagen        std         four        sedan          fwd           front        97.3  0.825084  0.909722    55.7         2275         ohc             four          109        mpfi  3.19    3.40               9.00   85.000000  5250.000000        27           34   8495.0      8.703704               Low       0    1\n",
            "183          2                 94     volkswagen      turbo         four        sedan          fwd           front        97.3  0.825084  0.909722    55.7         2319         ohc             four           97         idi  3.01    3.40              23.00   68.000000  4500.000000        37           42   9495.0      6.351351               Low       1    0\n",
            "184          2                 94     volkswagen        std         four        sedan          fwd           front        97.3  0.825084  0.909722    55.7         2300         ohc             four          109        mpfi  3.19    3.40              10.00  100.000000  5500.000000        26           32   9995.0      9.038462               Low       0    1\n",
            "185          3                122     volkswagen        std          two  convertible          fwd           front        94.5  0.765497  0.891667    55.6         2254         ohc             four          109        mpfi  3.19    3.40               8.50   90.000000  5500.000000        24           29  11595.0      9.791667               Low       0    1\n",
            "186          3                256     volkswagen        std          two    hatchback          fwd           front        94.5  0.796252  0.888889    51.4         2221         ohc             four          109        mpfi  3.19    3.40               8.50   90.000000  5500.000000        24           29   9980.0      9.791667               Low       0    1\n",
            "187          0                122     volkswagen        std         four        sedan          fwd           front       100.4  0.865930  0.929167    55.1         2661         ohc             five          136        mpfi  3.19    3.40               8.50  110.000000  5500.000000        19           24  13295.0     12.368421            Medium       0    1\n",
            "188          0                122     volkswagen      turbo         four        sedan          fwd           front       100.4  0.865930  0.929167    55.1         2579         ohc             four           97         idi  3.01    3.40              23.00   68.000000  4500.000000        33           38  13845.0      7.121212               Low       1    0\n",
            "189          0                122     volkswagen        std         four        wagon          fwd           front       100.4  0.879865  0.929167    55.1         2563         ohc             four          109        mpfi  3.19    3.40               9.00   88.000000  5500.000000        25           31  12290.0      9.400000               Low       0    1\n",
            "190         -2                103          volvo        std         four        sedan          rwd           front       104.3  0.907256  0.933333    56.2         2912         ohc             four          141        mpfi  3.78    3.15               9.50  114.000000  5400.000000        23           28  12940.0     10.217391            Medium       0    1\n",
            "191         -1                 74          volvo        std         four        wagon          rwd           front       104.3  0.907256  0.933333    57.5         3034         ohc             four          141        mpfi  3.78    3.15               9.50  114.000000  5400.000000        23           28  13415.0     10.217391            Medium       0    1\n",
            "192         -2                103          volvo        std         four        sedan          rwd           front       104.3  0.907256  0.933333    56.2         2935         ohc             four          141        mpfi  3.78    3.15               9.50  114.000000  5400.000000        24           28  15985.0      9.791667            Medium       0    1\n",
            "193         -1                 74          volvo        std         four        wagon          rwd           front       104.3  0.907256  0.933333    57.5         3042         ohc             four          141        mpfi  3.78    3.15               9.50  114.000000  5400.000000        24           28  16515.0      9.791667            Medium       0    1\n",
            "194         -2                103          volvo      turbo         four        sedan          rwd           front       104.3  0.907256  0.933333    56.2         3045         ohc             four          130        mpfi  3.62    3.15               7.50  162.000000  5100.000000        17           22  18420.0     13.823529              High       0    1\n",
            "195         -1                 74          volvo      turbo         four        wagon          rwd           front       104.3  0.907256  0.933333    57.5         3157         ohc             four          130        mpfi  3.62    3.15               7.50  162.000000  5100.000000        17           22  18950.0     13.823529              High       0    1\n",
            "196         -1                 95          volvo        std         four        sedan          rwd           front       109.1  0.907256  0.956944    55.5         2952         ohc             four          141        mpfi  3.78    3.15               9.50  114.000000  5400.000000        23           28  16845.0     10.217391            Medium       0    1\n",
            "197         -1                 95          volvo      turbo         four        sedan          rwd           front       109.1  0.907256  0.955556    55.5         3049         ohc             four          141        mpfi  3.78    3.15               8.70  160.000000  5300.000000        19           25  19045.0     12.368421              High       0    1\n",
            "198         -1                 95          volvo        std         four        sedan          rwd           front       109.1  0.907256  0.956944    55.5         3012        ohcv              six          173        mpfi  3.58    2.87               8.80  134.000000  5500.000000        18           23  21485.0     13.055556            Medium       0    1\n",
            "199         -1                 95          volvo      turbo         four        sedan          rwd           front       109.1  0.907256  0.956944    55.5         3217         ohc              six          145         idi  3.01    3.40              23.00  106.000000  4800.000000        26           27  22470.0      9.038462            Medium       1    0\n",
            "200         -1                 95          volvo      turbo         four        sedan          rwd           front       109.1  0.907256  0.956944    55.5         3062         ohc             four          141        mpfi  3.78    3.15               9.50  114.000000  5400.000000        19           25  22625.0     12.368421            Medium       0    1\n"
          ]
        }
      ]
    },
    {
      "cell_type": "code",
      "source": [
        "# Note: By default, the dropna() method returns a new DataFrame, and will not change the original.\n",
        "\n",
        "# If you want to change the original DataFrame, use the inplace = True argument:\n",
        "\n",
        "# Example\n",
        "# Remove all rows with NULL values:\n",
        "\n",
        "import pandas as pd\n",
        "\n",
        "df = pd.read_csv('Data.csv')\n",
        "\n",
        "df.dropna(inplace = True)\n",
        "\n",
        "print(df.to_string())"
      ],
      "metadata": {
        "id": "0oK9T4QQdzRg",
        "colab": {
          "base_uri": "https://localhost:8080/"
        },
        "outputId": "8b925b67-59ca-43c4-a4fa-0332da800cb7"
      },
      "execution_count": null,
      "outputs": [
        {
          "output_type": "stream",
          "name": "stdout",
          "text": [
            "     symboling  normalized-losses           make aspiration num-of-doors   body-style drive-wheels engine-location  wheel-base    length     width  height  curb-weight engine-type num-of-cylinders  engine-size fuel-system  bore  stroke  compression-ratio  horsepower     peak-rpm  city-mpg  highway-mpg    price  city-L/100km horsepower-binned  diesel  gas\n",
            "0            3                122    alfa-romero        std          two  convertible          rwd           front        88.6  0.811148  0.890278    48.8         2548        dohc             four          130        mpfi  3.47    2.68               9.00  111.000000  5000.000000        21           27  13495.0     11.190476            Medium       0    1\n",
            "1            3                122    alfa-romero        std          two  convertible          rwd           front        88.6  0.811148  0.890278    48.8         2548        dohc             four          130        mpfi  3.47    2.68               9.00  111.000000  5000.000000        21           27  16500.0     11.190476            Medium       0    1\n",
            "2            1                122    alfa-romero        std          two    hatchback          rwd           front        94.5  0.822681  0.909722    52.4         2823        ohcv              six          152        mpfi  2.68    3.47               9.00  154.000000  5000.000000        19           26  16500.0     12.368421            Medium       0    1\n",
            "3            2                164           audi        std         four        sedan          fwd           front        99.8  0.848630  0.919444    54.3         2337         ohc             four          109        mpfi  3.19    3.40              10.00  102.000000  5500.000000        24           30  13950.0      9.791667            Medium       0    1\n",
            "4            2                164           audi        std         four        sedan          4wd           front        99.4  0.848630  0.922222    54.3         2824         ohc             five          136        mpfi  3.19    3.40               8.00  115.000000  5500.000000        18           22  17450.0     13.055556            Medium       0    1\n",
            "5            2                122           audi        std          two        sedan          fwd           front        99.8  0.851994  0.920833    53.1         2507         ohc             five          136        mpfi  3.19    3.40               8.50  110.000000  5500.000000        19           25  15250.0     12.368421            Medium       0    1\n",
            "6            1                158           audi        std         four        sedan          fwd           front       105.8  0.925997  0.991667    55.7         2844         ohc             five          136        mpfi  3.19    3.40               8.50  110.000000  5500.000000        19           25  17710.0     12.368421            Medium       0    1\n",
            "7            1                122           audi        std         four        wagon          fwd           front       105.8  0.925997  0.991667    55.7         2954         ohc             five          136        mpfi  3.19    3.40               8.50  110.000000  5500.000000        19           25  18920.0     12.368421            Medium       0    1\n",
            "8            1                158           audi      turbo         four        sedan          fwd           front       105.8  0.925997  0.991667    55.9         3086         ohc             five          131        mpfi  3.13    3.40               8.30  140.000000  5500.000000        17           20  23875.0     13.823529            Medium       0    1\n",
            "9            2                192            bmw        std          two        sedan          rwd           front       101.2  0.849592  0.900000    54.3         2395         ohc             four          108        mpfi  3.50    2.80               8.80  101.000000  5800.000000        23           29  16430.0     10.217391               Low       0    1\n",
            "10           0                192            bmw        std         four        sedan          rwd           front       101.2  0.849592  0.900000    54.3         2395         ohc             four          108        mpfi  3.50    2.80               8.80  101.000000  5800.000000        23           29  16925.0     10.217391               Low       0    1\n",
            "11           0                188            bmw        std          two        sedan          rwd           front       101.2  0.849592  0.900000    54.3         2710         ohc              six          164        mpfi  3.31    3.19               9.00  121.000000  4250.000000        21           28  20970.0     11.190476            Medium       0    1\n",
            "12           0                188            bmw        std         four        sedan          rwd           front       101.2  0.849592  0.900000    54.3         2765         ohc              six          164        mpfi  3.31    3.19               9.00  121.000000  4250.000000        21           28  21105.0     11.190476            Medium       0    1\n",
            "13           1                122            bmw        std         four        sedan          rwd           front       103.5  0.908217  0.929167    55.7         3055         ohc              six          164        mpfi  3.31    3.19               9.00  121.000000  4250.000000        20           25  24565.0     11.750000            Medium       0    1\n",
            "14           0                122            bmw        std         four        sedan          rwd           front       103.5  0.908217  0.929167    55.7         3230         ohc              six          209        mpfi  3.62    3.39               8.00  182.000000  5400.000000        16           22  30760.0     14.687500              High       0    1\n",
            "15           0                122            bmw        std          two        sedan          rwd           front       103.5  0.931283  0.943056    53.7         3380         ohc              six          209        mpfi  3.62    3.39               8.00  182.000000  5400.000000        16           22  41315.0     14.687500              High       0    1\n",
            "16           0                122            bmw        std         four        sedan          rwd           front       110.0  0.946660  0.984722    56.3         3505         ohc              six          209        mpfi  3.62    3.39               8.00  182.000000  5400.000000        15           20  36880.0     15.666667              High       0    1\n",
            "17           2                121      chevrolet        std          two    hatchback          fwd           front        88.4  0.678039  0.837500    53.2         1488           l            three           61        2bbl  2.91    3.03               9.50   48.000000  5100.000000        47           53   5151.0      5.000000               Low       0    1\n",
            "18           1                 98      chevrolet        std          two    hatchback          fwd           front        94.5  0.749159  0.883333    52.0         1874         ohc             four           90        2bbl  3.03    3.11               9.60   70.000000  5400.000000        38           43   6295.0      6.184211               Low       0    1\n",
            "19           0                 81      chevrolet        std         four        sedan          fwd           front        94.5  0.763095  0.883333    52.0         1909         ohc             four           90        2bbl  3.03    3.11               9.60   70.000000  5400.000000        38           43   6575.0      6.184211               Low       0    1\n",
            "20           1                118          dodge        std          two    hatchback          fwd           front        93.7  0.755887  0.886111    50.8         1876         ohc             four           90        2bbl  2.97    3.23               9.41   68.000000  5500.000000        37           41   5572.0      6.351351               Low       0    1\n",
            "21           1                118          dodge        std          two    hatchback          fwd           front        93.7  0.755887  0.886111    50.8         1876         ohc             four           90        2bbl  2.97    3.23               9.40   68.000000  5500.000000        31           38   6377.0      7.580645               Low       0    1\n",
            "22           1                118          dodge      turbo          two    hatchback          fwd           front        93.7  0.755887  0.886111    50.8         2128         ohc             four           98        mpfi  3.03    3.39               7.60  102.000000  5500.000000        24           30   7957.0      9.791667            Medium       0    1\n",
            "23           1                148          dodge        std         four    hatchback          fwd           front        93.7  0.755887  0.886111    50.6         1967         ohc             four           90        2bbl  2.97    3.23               9.40   68.000000  5500.000000        31           38   6229.0      7.580645               Low       0    1\n",
            "24           1                148          dodge        std         four        sedan          fwd           front        93.7  0.755887  0.886111    50.6         1989         ohc             four           90        2bbl  2.97    3.23               9.40   68.000000  5500.000000        31           38   6692.0      7.580645               Low       0    1\n",
            "25           1                148          dodge        std         four        sedan          fwd           front        93.7  0.755887  0.886111    50.6         1989         ohc             four           90        2bbl  2.97    3.23               9.40   68.000000  5500.000000        31           38   7609.0      7.580645               Low       0    1\n",
            "26           1                148          dodge      turbo         four        sedan          fwd           front        93.7  0.755887  0.886111    50.6         2191         ohc             four           98        mpfi  3.03    3.39               7.60  102.000000  5500.000000        24           30   8558.0      9.791667            Medium       0    1\n",
            "27          -1                110          dodge        std         four        wagon          fwd           front       103.3  0.839020  0.897222    59.8         2535         ohc             four          122        2bbl  3.34    3.46               8.50   88.000000  5000.000000        24           30   8921.0      9.791667               Low       0    1\n",
            "28           3                145          dodge      turbo          two    hatchback          fwd           front        95.9  0.832292  0.920833    50.2         2811         ohc             four          156         mfi  3.60    3.90               7.00  145.000000  5000.000000        19           24  12964.0     12.368421            Medium       0    1\n",
            "29           2                137          honda        std          two    hatchback          fwd           front        86.6  0.694858  0.887500    50.8         1713         ohc             four           92        1bbl  2.91    3.41               9.60   58.000000  4800.000000        49           54   6479.0      4.795918               Low       0    1\n",
            "30           2                137          honda        std          two    hatchback          fwd           front        86.6  0.694858  0.887500    50.8         1819         ohc             four           92        1bbl  2.91    3.41               9.20   76.000000  6000.000000        31           38   6855.0      7.580645               Low       0    1\n",
            "31           1                101          honda        std          two    hatchback          fwd           front        93.7  0.720807  0.888889    52.6         1837         ohc             four           79        1bbl  2.91    3.07              10.10   60.000000  5500.000000        38           42   5399.0      6.184211               Low       0    1\n",
            "32           1                101          honda        std          two    hatchback          fwd           front        93.7  0.720807  0.888889    52.6         1940         ohc             four           92        1bbl  2.91    3.41               9.20   76.000000  6000.000000        30           34   6529.0      7.833333               Low       0    1\n",
            "33           1                101          honda        std          two    hatchback          fwd           front        93.7  0.720807  0.888889    52.6         1956         ohc             four           92        1bbl  2.91    3.41               9.20   76.000000  6000.000000        30           34   7129.0      7.833333               Low       0    1\n",
            "34           0                110          honda        std         four        sedan          fwd           front        96.5  0.785199  0.888889    54.5         2010         ohc             four           92        1bbl  2.91    3.41               9.20   76.000000  6000.000000        30           34   7295.0      7.833333               Low       0    1\n",
            "35           0                 78          honda        std         four        wagon          fwd           front        96.5  0.754926  0.887500    58.3         2024         ohc             four           92        1bbl  2.92    3.41               9.20   76.000000  6000.000000        30           34   7295.0      7.833333               Low       0    1\n",
            "36           0                106          honda        std          two    hatchback          fwd           front        96.5  0.804901  0.905556    53.3         2236         ohc             four          110        1bbl  3.15    3.58               9.00   86.000000  5800.000000        27           33   7895.0      8.703704               Low       0    1\n",
            "37           0                106          honda        std          two    hatchback          fwd           front        96.5  0.804901  0.905556    53.3         2289         ohc             four          110        1bbl  3.15    3.58               9.00   86.000000  5800.000000        27           33   9095.0      8.703704               Low       0    1\n",
            "38           0                 85          honda        std         four        sedan          fwd           front        96.5  0.842864  0.905556    54.1         2304         ohc             four          110        1bbl  3.15    3.58               9.00   86.000000  5800.000000        27           33   8845.0      8.703704               Low       0    1\n",
            "39           0                 85          honda        std         four        sedan          fwd           front        96.5  0.842864  0.868056    54.1         2372         ohc             four          110        1bbl  3.15    3.58               9.00   86.000000  5800.000000        27           33  10295.0      8.703704               Low       0    1\n",
            "40           0                 85          honda        std         four        sedan          fwd           front        96.5  0.842864  0.905556    54.1         2465         ohc             four          110        mpfi  3.15    3.58               9.00  101.000000  5800.000000        24           28  12945.0      9.791667               Low       0    1\n",
            "41           1                107          honda        std          two        sedan          fwd           front        96.5  0.812590  0.916667    51.0         2293         ohc             four          110        2bbl  3.15    3.58               9.10  100.000000  5500.000000        25           31  10345.0      9.400000               Low       0    1\n",
            "42           0                122          isuzu        std         four        sedan          rwd           front        94.3  0.820279  0.858333    53.5         2337         ohc             four          111        2bbl  3.31    3.23               8.50   78.000000  4800.000000        24           29   6785.0      9.791667               Low       0    1\n",
            "43           2                122          isuzu        std          two    hatchback          rwd           front        96.0  0.829409  0.905556    51.4         2734         ohc             four          119        spfi  3.43    3.23               9.20   90.000000  5000.000000        24           29  11048.0      9.791667               Low       0    1\n",
            "44           0                145         jaguar        std         four        sedan          rwd           front       113.0  0.959154  0.966667    52.8         4066        dohc              six          258        mpfi  3.63    4.17               8.10  176.000000  4750.000000        15           19  32250.0     15.666667              High       0    1\n",
            "45           0                122         jaguar        std         four        sedan          rwd           front       113.0  0.959154  0.966667    52.8         4066        dohc              six          258        mpfi  3.63    4.17               8.10  176.000000  4750.000000        15           19  35550.0     15.666667              High       0    1\n",
            "47           1                104          mazda        std          two    hatchback          fwd           front        93.1  0.764536  0.891667    54.1         1890         ohc             four           91        2bbl  3.03    3.15               9.00   68.000000  5000.000000        30           31   5195.0      7.833333               Low       0    1\n",
            "48           1                104          mazda        std          two    hatchback          fwd           front        93.1  0.764536  0.891667    54.1         1900         ohc             four           91        2bbl  3.03    3.15               9.00   68.000000  5000.000000        31           38   6095.0      7.580645               Low       0    1\n",
            "49           1                104          mazda        std          two    hatchback          fwd           front        93.1  0.764536  0.891667    54.1         1905         ohc             four           91        2bbl  3.03    3.15               9.00   68.000000  5000.000000        31           38   6795.0      7.580645               Low       0    1\n",
            "50           1                113          mazda        std         four        sedan          fwd           front        93.1  0.801538  0.891667    54.1         1945         ohc             four           91        2bbl  3.03    3.15               9.00   68.000000  5000.000000        31           38   6695.0      7.580645               Low       0    1\n",
            "51           1                113          mazda        std         four        sedan          fwd           front        93.1  0.801538  0.891667    54.1         1950         ohc             four           91        2bbl  3.08    3.15               9.00   68.000000  5000.000000        31           38   7395.0      7.580645               Low       0    1\n",
            "56           1                129          mazda        std          two    hatchback          fwd           front        98.8  0.854397  0.923611    53.7         2385         ohc             four          122        2bbl  3.39    3.39               8.60   84.000000  4800.000000        26           32   8845.0      9.038462               Low       0    1\n",
            "57           0                115          mazda        std         four        sedan          fwd           front        98.8  0.854397  0.923611    55.5         2410         ohc             four          122        2bbl  3.39    3.39               8.60   84.000000  4800.000000        26           32   8495.0      9.038462               Low       0    1\n",
            "58           1                129          mazda        std          two    hatchback          fwd           front        98.8  0.854397  0.923611    53.7         2385         ohc             four          122        2bbl  3.39    3.39               8.60   84.000000  4800.000000        26           32  10595.0      9.038462               Low       0    1\n",
            "59           0                115          mazda        std         four        sedan          fwd           front        98.8  0.854397  0.923611    55.5         2410         ohc             four          122        2bbl  3.39    3.39               8.60   84.000000  4800.000000        26           32  10245.0      9.038462               Low       0    1\n",
            "60           0                122          mazda        std         four        sedan          fwd           front        98.8  0.854397  0.923611    55.5         2443         ohc             four          122         idi  3.39    3.39              22.70   64.000000  4650.000000        36           42  10795.0      6.527778               Low       1    0\n",
            "61           0                115          mazda        std         four    hatchback          fwd           front        98.8  0.854397  0.923611    55.5         2425         ohc             four          122        2bbl  3.39    3.39               8.60   84.000000  4800.000000        26           32  11245.0      9.038462               Low       0    1\n",
            "62           0                118          mazda        std         four        sedan          rwd           front       104.9  0.840942  0.918056    54.4         2670         ohc             four          140        mpfi  3.76    3.16               8.00  120.000000  5000.000000        19           27  18280.0     12.368421            Medium       0    1\n",
            "63           0                122          mazda        std         four        sedan          rwd           front       104.9  0.840942  0.918056    54.4         2700         ohc             four          134         idi  3.43    3.64              22.00   72.000000  4200.000000        31           39  18344.0      7.580645               Low       1    0\n",
            "64          -1                 93  mercedes-benz      turbo         four        sedan          rwd           front       110.0  0.917347  0.976389    56.5         3515         ohc             five          183         idi  3.58    3.64              21.50  123.000000  4350.000000        22           25  25552.0     10.681818            Medium       1    0\n",
            "65          -1                 93  mercedes-benz      turbo         four        wagon          rwd           front       110.0  0.917347  0.976389    58.7         3750         ohc             five          183         idi  3.58    3.64              21.50  123.000000  4350.000000        22           25  28248.0     10.681818            Medium       1    0\n",
            "66           0                 93  mercedes-benz      turbo          two      hardtop          rwd           front       106.7  0.901009  0.976389    54.9         3495         ohc             five          183         idi  3.58    3.64              21.50  123.000000  4350.000000        22           25  28176.0     10.681818            Medium       1    0\n",
            "67          -1                 93  mercedes-benz      turbo         four        sedan          rwd           front       115.6  0.973570  0.995833    56.3         3770         ohc             five          183         idi  3.58    3.64              21.50  123.000000  4350.000000        22           25  31600.0     10.681818            Medium       1    0\n",
            "68          -1                122  mercedes-benz        std         four        sedan          rwd           front       115.6  0.973570  0.995833    56.5         3740        ohcv            eight          234        mpfi  3.46    3.10               8.30  155.000000  4750.000000        16           18  34184.0     14.687500            Medium       0    1\n",
            "69           3                142  mercedes-benz        std          two  convertible          rwd           front        96.6  0.866410  0.979167    50.8         3685        ohcv            eight          234        mpfi  3.46    3.10               8.30  155.000000  4750.000000        16           18  35056.0     14.687500            Medium       0    1\n",
            "70           0                122  mercedes-benz        std         four        sedan          rwd           front       120.9  1.000000  0.995833    56.7         3900        ohcv            eight          308        mpfi  3.80    3.35               8.00  184.000000  4500.000000        14           16  40960.0     16.785714              High       0    1\n",
            "71           1                122  mercedes-benz        std          two      hardtop          rwd           front       112.0  0.957232  1.000000    55.4         3715        ohcv            eight          304        mpfi  3.80    3.35               8.00  184.000000  4500.000000        14           16  45400.0     16.785714              High       0    1\n",
            "72           1                122        mercury      turbo          two    hatchback          rwd           front       102.7  0.857280  0.944444    54.8         2910         ohc             four          140        mpfi  3.78    3.12               8.00  175.000000  5000.000000        19           24  16503.0     12.368421              High       0    1\n",
            "73           2                161     mitsubishi        std          two    hatchback          fwd           front        93.7  0.755887  0.894444    50.8         1918         ohc             four           92        2bbl  2.97    3.23               9.40   68.000000  5500.000000        37           41   5389.0      6.351351               Low       0    1\n",
            "74           2                161     mitsubishi        std          two    hatchback          fwd           front        93.7  0.755887  0.894444    50.8         1944         ohc             four           92        2bbl  2.97    3.23               9.40   68.000000  5500.000000        31           38   6189.0      7.580645               Low       0    1\n",
            "75           2                161     mitsubishi        std          two    hatchback          fwd           front        93.7  0.755887  0.894444    50.8         2004         ohc             four           92        2bbl  2.97    3.23               9.40   68.000000  5500.000000        31           38   6669.0      7.580645               Low       0    1\n",
            "76           1                161     mitsubishi      turbo          two    hatchback          fwd           front        93.0  0.755887  0.886111    50.8         2145         ohc             four           98        spdi  3.03    3.39               7.60  102.000000  5500.000000        24           30   7689.0      9.791667            Medium       0    1\n",
            "77           3                153     mitsubishi      turbo          two    hatchback          fwd           front        96.3  0.831331  0.908333    49.4         2370         ohc             four          110        spdi  3.17    3.46               7.50  116.000000  5500.000000        23           30   9959.0     10.217391            Medium       0    1\n",
            "78           3                153     mitsubishi        std          two    hatchback          fwd           front        96.3  0.831331  0.908333    49.4         2328         ohc             four          122        2bbl  3.35    3.46               8.50   88.000000  5000.000000        25           32   8499.0      9.400000               Low       0    1\n",
            "79           3                122     mitsubishi      turbo          two    hatchback          fwd           front        95.9  0.832292  0.920833    50.2         2833         ohc             four          156        spdi  3.58    3.86               7.00  145.000000  5000.000000        19           24  12629.0     12.368421            Medium       0    1\n",
            "80           3                122     mitsubishi      turbo          two    hatchback          fwd           front        95.9  0.832292  0.920833    50.2         2921         ohc             four          156        spdi  3.59    3.86               7.00  145.000000  5000.000000        19           24  14869.0     12.368421            Medium       0    1\n",
            "81           3                122     mitsubishi      turbo          two    hatchback          fwd           front        95.9  0.832292  0.920833    50.2         2926         ohc             four          156        spdi  3.59    3.86               7.00  145.000000  5000.000000        19           24  14489.0     12.368421            Medium       0    1\n",
            "82           1                125     mitsubishi        std         four        sedan          fwd           front        96.3  0.828448  0.908333    51.6         2365         ohc             four          122        2bbl  3.35    3.46               8.50   88.000000  5000.000000        25           32   6989.0      9.400000               Low       0    1\n",
            "83           1                125     mitsubishi        std         four        sedan          fwd           front        96.3  0.828448  0.908333    51.6         2405         ohc             four          122        2bbl  3.35    3.46               8.50   88.000000  5000.000000        25           32   8189.0      9.400000               Low       0    1\n",
            "84           1                125     mitsubishi      turbo         four        sedan          fwd           front        96.3  0.828448  0.908333    51.6         2403         ohc             four          110        spdi  3.17    3.46               7.50  116.000000  5500.000000        23           30   9279.0     10.217391            Medium       0    1\n",
            "85          -1                137     mitsubishi        std         four        sedan          fwd           front        96.3  0.828448  0.908333    51.6         2403         ohc             four          110        spdi  3.17    3.46               7.50  116.000000  5500.000000        23           30   9279.0     10.217391            Medium       0    1\n",
            "86           1                128         nissan        std          two        sedan          fwd           front        94.5  0.794330  0.886111    54.5         1889         ohc             four           97        2bbl  3.15    3.29               9.40   69.000000  5200.000000        31           37   5499.0      7.580645               Low       0    1\n",
            "87           1                128         nissan        std          two        sedan          fwd           front        94.5  0.794330  0.886111    54.5         2017         ohc             four          103         idi  2.99    3.47              21.90   55.000000  4800.000000        45           50   7099.0      5.222222               Low       1    0\n",
            "88           1                128         nissan        std          two        sedan          fwd           front        94.5  0.794330  0.886111    54.5         1918         ohc             four           97        2bbl  3.15    3.29               9.40   69.000000  5200.000000        31           37   6649.0      7.580645               Low       0    1\n",
            "89           1                122         nissan        std         four        sedan          fwd           front        94.5  0.794330  0.886111    54.5         1938         ohc             four           97        2bbl  3.15    3.29               9.40   69.000000  5200.000000        31           37   6849.0      7.580645               Low       0    1\n",
            "90           1                103         nissan        std         four        wagon          fwd           front        94.5  0.817876  0.886111    53.5         2024         ohc             four           97        2bbl  3.15    3.29               9.40   69.000000  5200.000000        31           37   7349.0      7.580645               Low       0    1\n",
            "91           1                128         nissan        std          two        sedan          fwd           front        94.5  0.794330  0.886111    54.5         1951         ohc             four           97        2bbl  3.15    3.29               9.40   69.000000  5200.000000        31           37   7299.0      7.580645               Low       0    1\n",
            "92           1                128         nissan        std          two    hatchback          fwd           front        94.5  0.795771  0.886111    53.3         2028         ohc             four           97        2bbl  3.15    3.29               9.40   69.000000  5200.000000        31           37   7799.0      7.580645               Low       0    1\n",
            "93           1                122         nissan        std         four        sedan          fwd           front        94.5  0.794330  0.886111    54.5         1971         ohc             four           97        2bbl  3.15    3.29               9.40   69.000000  5200.000000        31           37   7499.0      7.580645               Low       0    1\n",
            "94           1                103         nissan        std         four        wagon          fwd           front        94.5  0.817876  0.886111    53.5         2037         ohc             four           97        2bbl  3.15    3.29               9.40   69.000000  5200.000000        31           37   7999.0      7.580645               Low       0    1\n",
            "95           2                168         nissan        std          two      hardtop          fwd           front        95.1  0.780394  0.886111    53.3         2008         ohc             four           97        2bbl  3.15    3.29               9.40   69.000000  5200.000000        31           37   8249.0      7.580645               Low       0    1\n",
            "96           0                106         nissan        std         four    hatchback          fwd           front        97.2  0.833253  0.905556    54.7         2324         ohc             four          120        2bbl  3.33    3.47               8.50   97.000000  5200.000000        27           34   8949.0      8.703704               Low       0    1\n",
            "97           0                106         nissan        std         four        sedan          fwd           front        97.2  0.833253  0.905556    54.7         2302         ohc             four          120        2bbl  3.33    3.47               8.50   97.000000  5200.000000        27           34   9549.0      8.703704               Low       0    1\n",
            "98           0                128         nissan        std         four        sedan          fwd           front       100.4  0.873138  0.923611    55.1         3095        ohcv              six          181        mpfi  3.43    3.27               9.00  152.000000  5200.000000        17           22  13499.0     13.823529            Medium       0    1\n",
            "99           0                108         nissan        std         four        wagon          fwd           front       100.4  0.887074  0.923611    56.1         3296        ohcv              six          181        mpfi  3.43    3.27               9.00  152.000000  5200.000000        17           22  14399.0     13.823529            Medium       0    1\n",
            "100          0                108         nissan        std         four        sedan          fwd           front       100.4  0.887074  0.923611    55.1         3060        ohcv              six          181        mpfi  3.43    3.27               9.00  152.000000  5200.000000        19           25  13499.0     12.368421            Medium       0    1\n",
            "101          3                194         nissan        std          two    hatchback          rwd           front        91.3  0.820279  0.943056    49.7         3071        ohcv              six          181        mpfi  3.43    3.27               9.00  160.000000  5200.000000        19           25  17199.0     12.368421              High       0    1\n",
            "102          3                194         nissan      turbo          two    hatchback          rwd           front        91.3  0.820279  0.943056    49.7         3139        ohcv              six          181        mpfi  3.43    3.27               7.80  200.000000  5200.000000        17           23  19699.0     13.823529              High       0    1\n",
            "103          1                231         nissan        std          two    hatchback          rwd           front        99.2  0.857761  0.943056    49.7         3139        ohcv              six          181        mpfi  3.43    3.27               9.00  160.000000  5200.000000        19           25  18399.0     12.368421              High       0    1\n",
            "104          0                161         peugot        std         four        sedan          rwd           front       107.9  0.897165  0.950000    56.7         3020           l             four          120        mpfi  3.46    3.19               8.40   97.000000  5000.000000        19           24  11900.0     12.368421               Low       0    1\n",
            "105          0                161         peugot      turbo         four        sedan          rwd           front       107.9  0.897165  0.950000    56.7         3197           l             four          152         idi  3.70    3.52              21.00   95.000000  4150.000000        28           33  13200.0      8.392857               Low       1    0\n",
            "106          0                122         peugot        std         four        wagon          rwd           front       114.2  0.955790  0.950000    58.7         3230           l             four          120        mpfi  3.46    3.19               8.40   97.000000  5000.000000        19           24  12440.0     12.368421               Low       0    1\n",
            "107          0                122         peugot      turbo         four        wagon          rwd           front       114.2  0.955790  0.950000    58.7         3430           l             four          152         idi  3.70    3.52              21.00   95.000000  4150.000000        25           25  13860.0      9.400000               Low       1    0\n",
            "108          0                161         peugot        std         four        sedan          rwd           front       107.9  0.897165  0.950000    56.7         3075           l             four          120        mpfi  3.46    2.19               8.40   95.000000  5000.000000        19           24  15580.0     12.368421               Low       0    1\n",
            "109          0                161         peugot      turbo         four        sedan          rwd           front       107.9  0.897165  0.950000    56.7         3252           l             four          152         idi  3.70    3.52              21.00   95.000000  4150.000000        28           33  16900.0      8.392857               Low       1    0\n",
            "110          0                122         peugot        std         four        wagon          rwd           front       114.2  0.955790  0.950000    56.7         3285           l             four          120        mpfi  3.46    2.19               8.40   95.000000  5000.000000        19           24  16695.0     12.368421               Low       0    1\n",
            "111          0                122         peugot      turbo         four        wagon          rwd           front       114.2  0.955790  0.950000    58.7         3485           l             four          152         idi  3.70    3.52              21.00   95.000000  4150.000000        25           25  17075.0      9.400000               Low       1    0\n",
            "112          0                161         peugot        std         four        sedan          rwd           front       107.9  0.897165  0.950000    56.7         3075           l             four          120        mpfi  3.46    3.19               8.40   97.000000  5000.000000        19           24  16630.0     12.368421               Low       0    1\n",
            "113          0                161         peugot      turbo         four        sedan          rwd           front       107.9  0.897165  0.950000    56.7         3252           l             four          152         idi  3.70    3.52              21.00   95.000000  4150.000000        28           33  17950.0      8.392857               Low       1    0\n",
            "114          0                161         peugot      turbo         four        sedan          rwd           front       108.0  0.897165  0.948611    56.0         3130           l             four          134        mpfi  3.61    3.21               7.00  142.000000  5600.000000        18           24  18150.0     13.055556            Medium       0    1\n",
            "115          1                119       plymouth        std          two    hatchback          fwd           front        93.7  0.755887  0.886111    50.8         1918         ohc             four           90        2bbl  2.97    3.23               9.40   68.000000  5500.000000        37           41   5572.0      6.351351               Low       0    1\n",
            "116          1                119       plymouth      turbo          two    hatchback          fwd           front        93.7  0.755887  0.886111    50.8         2128         ohc             four           98        spdi  3.03    3.39               7.60  102.000000  5500.000000        24           30   7957.0      9.791667            Medium       0    1\n",
            "117          1                154       plymouth        std         four    hatchback          fwd           front        93.7  0.755887  0.886111    50.6         1967         ohc             four           90        2bbl  2.97    3.23               9.40   68.000000  5500.000000        31           38   6229.0      7.580645               Low       0    1\n",
            "118          1                154       plymouth        std         four        sedan          fwd           front        93.7  0.803940  0.886111    50.8         1989         ohc             four           90        2bbl  2.97    3.23               9.40   68.000000  5500.000000        31           38   6692.0      7.580645               Low       0    1\n",
            "119          1                154       plymouth        std         four        sedan          fwd           front        93.7  0.803940  0.886111    50.8         2191         ohc             four           98        2bbl  2.97    3.23               9.40   68.000000  5500.000000        31           38   7609.0      7.580645               Low       0    1\n",
            "120         -1                 74       plymouth        std         four        wagon          fwd           front       103.3  0.839020  0.897222    59.8         2535         ohc             four          122        2bbl  3.35    3.46               8.50   88.000000  5000.000000        24           30   8921.0      9.791667               Low       0    1\n",
            "121          3                122       plymouth      turbo          two    hatchback          rwd           front        95.9  0.832292  0.920833    50.2         2818         ohc             four          156        spdi  3.59    3.86               7.00  145.000000  5000.000000        19           24  12764.0     12.368421            Medium       0    1\n",
            "122          3                186        porsche        std          two    hatchback          rwd           front        94.5  0.811629  0.948611    50.2         2778         ohc             four          151        mpfi  3.94    3.11               9.50  143.000000  5500.000000        19           27  22018.0     12.368421            Medium       0    1\n",
            "123          3                122        porsche        std          two      hardtop          rwd            rear        89.5  0.811629  0.902778    51.6         2756        ohcf              six          194        mpfi  3.74    2.90               9.50  207.000000  5900.000000        17           25  32528.0     13.823529              High       0    1\n",
            "124          3                122        porsche        std          two      hardtop          rwd            rear        89.5  0.811629  0.902778    51.6         2756        ohcf              six          194        mpfi  3.74    2.90               9.50  207.000000  5900.000000        17           25  34028.0     13.823529              High       0    1\n",
            "125          3                122        porsche        std          two  convertible          rwd            rear        89.5  0.811629  0.902778    51.6         2800        ohcf              six          194        mpfi  3.74    2.90               9.50  207.000000  5900.000000        17           25  37028.0     13.823529              High       0    1\n",
            "126          0                122        renault        std         four        wagon          fwd           front        96.1  0.872177  0.923611    55.2         2579         ohc             four          132        mpfi  3.46    3.90               8.70  104.256158  5125.369458        23           31   9295.0     10.217391            Medium       0    1\n",
            "127          2                122        renault        std          two    hatchback          fwd           front        96.1  0.849592  0.925000    50.5         2460         ohc             four          132        mpfi  3.46    3.90               8.70  104.256158  5125.369458        23           31   9895.0     10.217391            Medium       0    1\n",
            "128          3                150           saab        std          two    hatchback          fwd           front        99.1  0.896684  0.923611    56.1         2658         ohc             four          121        mpfi  3.54    3.07               9.31  110.000000  5250.000000        21           28  11850.0     11.190476            Medium       0    1\n",
            "129          2                104           saab        std         four        sedan          fwd           front        99.1  0.896684  0.923611    56.1         2695         ohc             four          121        mpfi  3.54    3.07               9.30  110.000000  5250.000000        21           28  12170.0     11.190476            Medium       0    1\n",
            "130          3                150           saab        std          two    hatchback          fwd           front        99.1  0.896684  0.923611    56.1         2707         ohc             four          121        mpfi  2.54    2.07               9.30  110.000000  5250.000000        21           28  15040.0     11.190476            Medium       0    1\n",
            "131          2                104           saab        std         four        sedan          fwd           front        99.1  0.896684  0.923611    56.1         2758         ohc             four          121        mpfi  3.54    3.07               9.30  110.000000  5250.000000        21           28  15510.0     11.190476            Medium       0    1\n",
            "132          3                150           saab      turbo          two    hatchback          fwd           front        99.1  0.896684  0.923611    56.1         2808        dohc             four          121        mpfi  3.54    3.07               9.00  160.000000  5500.000000        19           26  18150.0     12.368421              High       0    1\n",
            "133          2                104           saab      turbo         four        sedan          fwd           front        99.1  0.896684  0.923611    56.1         2847        dohc             four          121        mpfi  3.54    3.07               9.00  160.000000  5500.000000        19           26  18620.0     12.368421              High       0    1\n",
            "134          2                 83         subaru        std          two    hatchback          fwd           front        93.7  0.753964  0.880556    53.7         2050        ohcf             four           97        2bbl  3.62    2.36               9.00   69.000000  4900.000000        31           36   5118.0      7.580645               Low       0    1\n",
            "135          2                 83         subaru        std          two    hatchback          fwd           front        93.7  0.758770  0.883333    53.7         2120        ohcf             four          108        2bbl  3.62    2.64               8.70   73.000000  4400.000000        26           31   7053.0      9.038462               Low       0    1\n",
            "136          2                 83         subaru        std          two    hatchback          4wd           front        93.3  0.755887  0.886111    55.7         2240        ohcf             four          108        2bbl  3.62    2.64               8.70   73.000000  4400.000000        26           31   7603.0      9.038462               Low       0    1\n",
            "137          0                102         subaru        std         four        sedan          fwd           front        97.2  0.826526  0.908333    52.5         2145        ohcf             four          108        2bbl  3.62    2.64               9.50   82.000000  4800.000000        32           37   7126.0      7.343750               Low       0    1\n",
            "138          0                102         subaru        std         four        sedan          fwd           front        97.2  0.826526  0.908333    52.5         2190        ohcf             four          108        2bbl  3.62    2.64               9.50   82.000000  4400.000000        28           33   7775.0      8.392857               Low       0    1\n",
            "139          0                102         subaru        std         four        sedan          fwd           front        97.2  0.826526  0.908333    52.5         2340        ohcf             four          108        mpfi  3.62    2.64               9.00   94.000000  5200.000000        26           32   9960.0      9.038462               Low       0    1\n",
            "140          0                102         subaru        std         four        sedan          4wd           front        97.0  0.826526  0.908333    54.3         2385        ohcf             four          108        2bbl  3.62    2.64               9.00   82.000000  4800.000000        24           25   9233.0      9.791667               Low       0    1\n",
            "141          0                102         subaru      turbo         four        sedan          4wd           front        97.0  0.826526  0.908333    54.3         2510        ohcf             four          108        mpfi  3.62    2.64               7.70  111.000000  4800.000000        24           29  11259.0      9.791667            Medium       0    1\n",
            "142          0                 89         subaru        std         four        wagon          fwd           front        97.0  0.833734  0.908333    53.0         2290        ohcf             four          108        2bbl  3.62    2.64               9.00   82.000000  4800.000000        28           32   7463.0      8.392857               Low       0    1\n",
            "143          0                 89         subaru        std         four        wagon          fwd           front        97.0  0.833734  0.908333    53.0         2455        ohcf             four          108        mpfi  3.62    2.64               9.00   94.000000  5200.000000        25           31  10198.0      9.400000               Low       0    1\n",
            "144          0                 85         subaru        std         four        wagon          4wd           front        96.9  0.834214  0.908333    54.9         2420        ohcf             four          108        2bbl  3.62    2.64               9.00   82.000000  4800.000000        23           29   8013.0     10.217391               Low       0    1\n",
            "145          0                 85         subaru      turbo         four        wagon          4wd           front        96.9  0.834214  0.908333    54.9         2650        ohcf             four          108        mpfi  3.62    2.64               7.70  111.000000  4800.000000        23           23  11694.0     10.217391            Medium       0    1\n",
            "146          1                 87         toyota        std          two    hatchback          fwd           front        95.7  0.762614  0.883333    54.5         1985         ohc             four           92        2bbl  3.05    3.03               9.00   62.000000  4800.000000        35           39   5348.0      6.714286               Low       0    1\n",
            "147          1                 87         toyota        std          two    hatchback          fwd           front        95.7  0.762614  0.883333    54.5         2040         ohc             four           92        2bbl  3.05    3.03               9.00   62.000000  4800.000000        31           38   6338.0      7.580645               Low       0    1\n",
            "148          1                 74         toyota        std         four    hatchback          fwd           front        95.7  0.762614  0.883333    54.5         2015         ohc             four           92        2bbl  3.05    3.03               9.00   62.000000  4800.000000        31           38   6488.0      7.580645               Low       0    1\n",
            "149          0                 77         toyota        std         four        wagon          fwd           front        95.7  0.815473  0.883333    59.1         2280         ohc             four           92        2bbl  3.05    3.03               9.00   62.000000  4800.000000        31           37   6918.0      7.580645               Low       0    1\n",
            "150          0                 81         toyota        std         four        wagon          4wd           front        95.7  0.815473  0.883333    59.1         2290         ohc             four           92        2bbl  3.05    3.03               9.00   62.000000  4800.000000        27           32   7898.0      8.703704               Low       0    1\n",
            "151          0                 91         toyota        std         four        wagon          4wd           front        95.7  0.815473  0.883333    59.1         3110         ohc             four           92        2bbl  3.05    3.03               9.00   62.000000  4800.000000        27           32   8778.0      8.703704               Low       0    1\n",
            "152          0                 91         toyota        std         four        sedan          fwd           front        95.7  0.799135  0.894444    53.0         2081         ohc             four           98        2bbl  3.19    3.03               9.00   70.000000  4800.000000        30           37   6938.0      7.833333               Low       0    1\n",
            "153          0                 91         toyota        std         four    hatchback          fwd           front        95.7  0.799135  0.894444    52.8         2109         ohc             four           98        2bbl  3.19    3.03               9.00   70.000000  4800.000000        30           37   7198.0      7.833333               Low       0    1\n",
            "154          0                 91         toyota        std         four        sedan          fwd           front        95.7  0.799135  0.894444    53.0         2275         ohc             four          110         idi  3.27    3.35              22.50   56.000000  4500.000000        34           36   7898.0      6.911765               Low       1    0\n",
            "155          0                 91         toyota        std         four    hatchback          fwd           front        95.7  0.799135  0.894444    52.8         2275         ohc             four          110         idi  3.27    3.35              22.50   56.000000  4500.000000        38           47   7788.0      6.184211               Low       1    0\n",
            "156          0                 91         toyota        std         four        sedan          fwd           front        95.7  0.799135  0.894444    53.0         2094         ohc             four           98        2bbl  3.19    3.03               9.00   70.000000  4800.000000        38           47   7738.0      6.184211               Low       0    1\n",
            "157          0                 91         toyota        std         four    hatchback          fwd           front        95.7  0.799135  0.894444    52.8         2122         ohc             four           98        2bbl  3.19    3.03               9.00   70.000000  4800.000000        28           34   8358.0      8.392857               Low       0    1\n",
            "158          0                 91         toyota        std         four        sedan          fwd           front        95.7  0.799135  0.894444    52.8         2140         ohc             four           98        2bbl  3.19    3.03               9.00   70.000000  4800.000000        28           34   9258.0      8.392857               Low       0    1\n",
            "159          1                168         toyota        std          two        sedan          rwd           front        94.5  0.810668  0.888889    52.6         2169         ohc             four           98        2bbl  3.19    3.03               9.00   70.000000  4800.000000        29           34   8058.0      8.103448               Low       0    1\n",
            "160          1                168         toyota        std          two    hatchback          rwd           front        94.5  0.810668  0.888889    52.6         2204         ohc             four           98        2bbl  3.19    3.03               9.00   70.000000  4800.000000        29           34   8238.0      8.103448               Low       0    1\n",
            "161          1                168         toyota        std          two        sedan          rwd           front        94.5  0.810668  0.888889    52.6         2265        dohc             four           98        mpfi  3.24    3.08               9.40  112.000000  6600.000000        26           29   9298.0      9.038462            Medium       0    1\n",
            "162          1                168         toyota        std          two    hatchback          rwd           front        94.5  0.810668  0.888889    52.6         2300        dohc             four           98        mpfi  3.24    3.08               9.40  112.000000  6600.000000        26           29   9538.0      9.038462            Medium       0    1\n",
            "163          2                134         toyota        std          two      hardtop          rwd           front        98.4  0.846708  0.911111    52.0         2540         ohc             four          146        mpfi  3.62    3.50               9.30  116.000000  4800.000000        24           30   8449.0      9.791667            Medium       0    1\n",
            "164          2                134         toyota        std          two      hardtop          rwd           front        98.4  0.846708  0.911111    52.0         2536         ohc             four          146        mpfi  3.62    3.50               9.30  116.000000  4800.000000        24           30   9639.0      9.791667            Medium       0    1\n",
            "165          2                134         toyota        std          two    hatchback          rwd           front        98.4  0.846708  0.911111    52.0         2551         ohc             four          146        mpfi  3.62    3.50               9.30  116.000000  4800.000000        24           30   9989.0      9.791667            Medium       0    1\n",
            "166          2                134         toyota        std          two      hardtop          rwd           front        98.4  0.846708  0.911111    52.0         2679         ohc             four          146        mpfi  3.62    3.50               9.30  116.000000  4800.000000        24           30  11199.0      9.791667            Medium       0    1\n",
            "167          2                134         toyota        std          two    hatchback          rwd           front        98.4  0.846708  0.911111    52.0         2714         ohc             four          146        mpfi  3.62    3.50               9.30  116.000000  4800.000000        24           30  11549.0      9.791667            Medium       0    1\n",
            "168          2                134         toyota        std          two  convertible          rwd           front        98.4  0.846708  0.911111    53.0         2975         ohc             four          146        mpfi  3.62    3.50               9.30  116.000000  4800.000000        24           30  17669.0      9.791667            Medium       0    1\n",
            "169         -1                 65         toyota        std         four        sedan          fwd           front       102.4  0.843825  0.923611    54.9         2326         ohc             four          122        mpfi  3.31    3.54               8.70   92.000000  4200.000000        29           34   8948.0      8.103448               Low       0    1\n",
            "170         -1                 65         toyota      turbo         four        sedan          fwd           front       102.4  0.843825  0.923611    54.9         2480         ohc             four          110         idi  3.27    3.35              22.50   73.000000  4500.000000        30           33  10698.0      7.833333               Low       1    0\n",
            "171         -1                 65         toyota        std         four    hatchback          fwd           front       102.4  0.843825  0.923611    53.9         2414         ohc             four          122        mpfi  3.31    3.54               8.70   92.000000  4200.000000        27           32   9988.0      8.703704               Low       0    1\n",
            "172         -1                 65         toyota        std         four        sedan          fwd           front       102.4  0.843825  0.923611    54.9         2414         ohc             four          122        mpfi  3.31    3.54               8.70   92.000000  4200.000000        27           32  10898.0      8.703704               Low       0    1\n",
            "173         -1                 65         toyota        std         four    hatchback          fwd           front       102.4  0.843825  0.923611    53.9         2458         ohc             four          122        mpfi  3.31    3.54               8.70   92.000000  4200.000000        27           32  11248.0      8.703704               Low       0    1\n",
            "174          3                197         toyota        std          two    hatchback          rwd           front       102.9  0.881788  0.940278    52.0         2976        dohc              six          171        mpfi  3.27    3.35               9.30  161.000000  5200.000000        20           24  16558.0     11.750000              High       0    1\n",
            "175          3                197         toyota        std          two    hatchback          rwd           front       102.9  0.881788  0.940278    52.0         3016        dohc              six          171        mpfi  3.27    3.35               9.30  161.000000  5200.000000        19           24  15998.0     12.368421              High       0    1\n",
            "176         -1                 90         toyota        std         four        sedan          rwd           front       104.5  0.902451  0.923611    54.1         3131        dohc              six          171        mpfi  3.27    3.35               9.20  156.000000  5200.000000        20           24  15690.0     11.750000              High       0    1\n",
            "177         -1                122         toyota        std         four        wagon          rwd           front       104.5  0.902451  0.923611    54.1         3151        dohc              six          161        mpfi  3.27    3.35               9.20  156.000000  5200.000000        19           24  15750.0     12.368421              High       0    1\n",
            "178          2                122     volkswagen        std          two        sedan          fwd           front        97.3  0.825084  0.909722    55.7         2261         ohc             four           97         idi  3.01    3.40              23.00   52.000000  4800.000000        37           46   7775.0      6.351351               Low       1    0\n",
            "179          2                122     volkswagen        std          two        sedan          fwd           front        97.3  0.825084  0.909722    55.7         2209         ohc             four          109        mpfi  3.19    3.40               9.00   85.000000  5250.000000        27           34   7975.0      8.703704               Low       0    1\n",
            "180          2                 94     volkswagen        std         four        sedan          fwd           front        97.3  0.825084  0.909722    55.7         2264         ohc             four           97         idi  3.01    3.40              23.00   52.000000  4800.000000        37           46   7995.0      6.351351               Low       1    0\n",
            "181          2                 94     volkswagen        std         four        sedan          fwd           front        97.3  0.825084  0.909722    55.7         2212         ohc             four          109        mpfi  3.19    3.40               9.00   85.000000  5250.000000        27           34   8195.0      8.703704               Low       0    1\n",
            "182          2                 94     volkswagen        std         four        sedan          fwd           front        97.3  0.825084  0.909722    55.7         2275         ohc             four          109        mpfi  3.19    3.40               9.00   85.000000  5250.000000        27           34   8495.0      8.703704               Low       0    1\n",
            "183          2                 94     volkswagen      turbo         four        sedan          fwd           front        97.3  0.825084  0.909722    55.7         2319         ohc             four           97         idi  3.01    3.40              23.00   68.000000  4500.000000        37           42   9495.0      6.351351               Low       1    0\n",
            "184          2                 94     volkswagen        std         four        sedan          fwd           front        97.3  0.825084  0.909722    55.7         2300         ohc             four          109        mpfi  3.19    3.40              10.00  100.000000  5500.000000        26           32   9995.0      9.038462               Low       0    1\n",
            "185          3                122     volkswagen        std          two  convertible          fwd           front        94.5  0.765497  0.891667    55.6         2254         ohc             four          109        mpfi  3.19    3.40               8.50   90.000000  5500.000000        24           29  11595.0      9.791667               Low       0    1\n",
            "186          3                256     volkswagen        std          two    hatchback          fwd           front        94.5  0.796252  0.888889    51.4         2221         ohc             four          109        mpfi  3.19    3.40               8.50   90.000000  5500.000000        24           29   9980.0      9.791667               Low       0    1\n",
            "187          0                122     volkswagen        std         four        sedan          fwd           front       100.4  0.865930  0.929167    55.1         2661         ohc             five          136        mpfi  3.19    3.40               8.50  110.000000  5500.000000        19           24  13295.0     12.368421            Medium       0    1\n",
            "188          0                122     volkswagen      turbo         four        sedan          fwd           front       100.4  0.865930  0.929167    55.1         2579         ohc             four           97         idi  3.01    3.40              23.00   68.000000  4500.000000        33           38  13845.0      7.121212               Low       1    0\n",
            "189          0                122     volkswagen        std         four        wagon          fwd           front       100.4  0.879865  0.929167    55.1         2563         ohc             four          109        mpfi  3.19    3.40               9.00   88.000000  5500.000000        25           31  12290.0      9.400000               Low       0    1\n",
            "190         -2                103          volvo        std         four        sedan          rwd           front       104.3  0.907256  0.933333    56.2         2912         ohc             four          141        mpfi  3.78    3.15               9.50  114.000000  5400.000000        23           28  12940.0     10.217391            Medium       0    1\n",
            "191         -1                 74          volvo        std         four        wagon          rwd           front       104.3  0.907256  0.933333    57.5         3034         ohc             four          141        mpfi  3.78    3.15               9.50  114.000000  5400.000000        23           28  13415.0     10.217391            Medium       0    1\n",
            "192         -2                103          volvo        std         four        sedan          rwd           front       104.3  0.907256  0.933333    56.2         2935         ohc             four          141        mpfi  3.78    3.15               9.50  114.000000  5400.000000        24           28  15985.0      9.791667            Medium       0    1\n",
            "193         -1                 74          volvo        std         four        wagon          rwd           front       104.3  0.907256  0.933333    57.5         3042         ohc             four          141        mpfi  3.78    3.15               9.50  114.000000  5400.000000        24           28  16515.0      9.791667            Medium       0    1\n",
            "194         -2                103          volvo      turbo         four        sedan          rwd           front       104.3  0.907256  0.933333    56.2         3045         ohc             four          130        mpfi  3.62    3.15               7.50  162.000000  5100.000000        17           22  18420.0     13.823529              High       0    1\n",
            "195         -1                 74          volvo      turbo         four        wagon          rwd           front       104.3  0.907256  0.933333    57.5         3157         ohc             four          130        mpfi  3.62    3.15               7.50  162.000000  5100.000000        17           22  18950.0     13.823529              High       0    1\n",
            "196         -1                 95          volvo        std         four        sedan          rwd           front       109.1  0.907256  0.956944    55.5         2952         ohc             four          141        mpfi  3.78    3.15               9.50  114.000000  5400.000000        23           28  16845.0     10.217391            Medium       0    1\n",
            "197         -1                 95          volvo      turbo         four        sedan          rwd           front       109.1  0.907256  0.955556    55.5         3049         ohc             four          141        mpfi  3.78    3.15               8.70  160.000000  5300.000000        19           25  19045.0     12.368421              High       0    1\n",
            "198         -1                 95          volvo        std         four        sedan          rwd           front       109.1  0.907256  0.956944    55.5         3012        ohcv              six          173        mpfi  3.58    2.87               8.80  134.000000  5500.000000        18           23  21485.0     13.055556            Medium       0    1\n",
            "199         -1                 95          volvo      turbo         four        sedan          rwd           front       109.1  0.907256  0.956944    55.5         3217         ohc              six          145         idi  3.01    3.40              23.00  106.000000  4800.000000        26           27  22470.0      9.038462            Medium       1    0\n",
            "200         -1                 95          volvo      turbo         four        sedan          rwd           front       109.1  0.907256  0.956944    55.5         3062         ohc             four          141        mpfi  3.78    3.15               9.50  114.000000  5400.000000        19           25  22625.0     12.368421            Medium       0    1\n"
          ]
        }
      ]
    },
    {
      "cell_type": "code",
      "source": [
        "#Replace Empty Values\n",
        "# Another way of dealing with empty cells is to insert a new value instead.\n",
        "\n",
        "# This way you do not have to delete entire rows just because of some empty cells.\n",
        "\n",
        "# The fillna() method allows us to replace empty cells with a value:\n",
        "\n",
        "# Example\n",
        "# Replace NULL values with the number 130:\n",
        "\n",
        "import pandas as pd\n",
        "\n",
        "df = pd.read_csv('Data.csv')\n",
        "\n",
        "df.fillna(130, inplace = True)"
      ],
      "metadata": {
        "id": "UG6pYtNfd135"
      },
      "execution_count": null,
      "outputs": []
    },
    {
      "cell_type": "code",
      "source": [
        "# Replace Only For Specified Columns\n",
        "# The example above replaces all empty cells in the whole Data Frame.\n",
        "\n",
        "# To only replace empty values for one column, specify the column name for the DataFrame:\n",
        "\n",
        "# Example\n",
        "# Replace NULL values in the \"Calories\" columns with the number 130:\n",
        "\n",
        "import pandas as pd\n",
        "\n",
        "df = pd.read_csv('Data.csv')\n",
        "\n",
        "df[\"Calories\"].fillna(130, inplace = True)"
      ],
      "metadata": {
        "id": "bzuhBw66d4rJ"
      },
      "execution_count": null,
      "outputs": []
    },
    {
      "cell_type": "markdown",
      "source": [
        "# **Replace Using Mean, Median, or Mode**"
      ],
      "metadata": {
        "id": "-nZQSUgjd7a_"
      }
    },
    {
      "cell_type": "code",
      "source": [
        "# A common way to replace empty cells, is to calculate the mean, median or mode value of the column.\n",
        "\n",
        "# Pandas uses the mean() median() and mode() methods to calculate the respective values for a specified column:\n",
        "\n",
        "# Example\n",
        "# Calculate the MEAN, and replace any empty values with it:\n",
        "\n",
        "import pandas as pd\n",
        "\n",
        "df = pd.read_csv('data.csv')\n",
        "\n",
        "x = df[\"Calories\"].mean()\n",
        "\n",
        "df[\"Calories\"].fillna(x, inplace = True)"
      ],
      "metadata": {
        "id": "ltO28G4ld-Jx"
      },
      "execution_count": null,
      "outputs": []
    },
    {
      "cell_type": "code",
      "source": [
        "# Example\n",
        "# Calculate the MEDIAN, and replace any empty values with it:\n",
        "\n",
        "import pandas as pd\n",
        "\n",
        "df = pd.read_csv('data.csv')\n",
        "\n",
        "x = df[\"Calories\"].median()\n",
        "\n",
        "df[\"Calories\"].fillna(x, inplace = True)"
      ],
      "metadata": {
        "id": "dVsMuaypeAtj"
      },
      "execution_count": null,
      "outputs": []
    },
    {
      "cell_type": "code",
      "source": [
        "# Example\n",
        "# Calculate the MODE, and replace any empty values with it:\n",
        "\n",
        "import pandas as pd\n",
        "\n",
        "df = pd.read_csv('data.csv')\n",
        "\n",
        "x = df[\"Calories\"].mode()[0]\n",
        "\n",
        "df[\"Calories\"].fillna(x, inplace = True)"
      ],
      "metadata": {
        "id": "DFqeRzpueDnC"
      },
      "execution_count": null,
      "outputs": []
    },
    {
      "cell_type": "markdown",
      "source": [
        "# **Removing duplicates**"
      ],
      "metadata": {
        "id": "N-4YjpR4eF_B"
      }
    },
    {
      "cell_type": "code",
      "source": [
        "# Example\n",
        "# Returns True for every row that is a duplicate, othwerwise False:\n",
        "print(df.duplicated())"
      ],
      "metadata": {
        "id": "cvJQGDqOeO7L"
      },
      "execution_count": null,
      "outputs": []
    },
    {
      "cell_type": "code",
      "source": [
        "# Removing Duplicates\n",
        "# To remove duplicates, use the drop_duplicates() method.\n",
        "\n",
        "# Example\n",
        "# Remove all duplicates:\n",
        "\n",
        "df.drop_duplicates(inplace = True)\n",
        "\n",
        "#Remember: The (inplace = True) will make sure that the method does NOT return a new DataFrame, but it will remove all duplicates from the original DataFrame.\n"
      ],
      "metadata": {
        "id": "R-_EWX-yeP8Z"
      },
      "execution_count": null,
      "outputs": []
    },
    {
      "cell_type": "markdown",
      "source": [
        "# **Finding Relationships**\n",
        "A great aspect of the Pandas module is the corr() method.\n",
        "\n",
        "The corr() method calculates the relationship between each column in your data set."
      ],
      "metadata": {
        "id": "cz-NeMwxecBK"
      }
    },
    {
      "cell_type": "code",
      "source": [
        "# Example\n",
        "# Show the relationship between the columns:\n",
        "\n",
        "df.corr()\n",
        "#Note: The corr() method ignores \"not numeric\" columns"
      ],
      "metadata": {
        "id": "f6heVs8Pehop"
      },
      "execution_count": null,
      "outputs": []
    },
    {
      "cell_type": "markdown",
      "source": [
        "Result Explained The Result of the corr() method is a table with a lot of numbers that represents how well the relationship is between two columns.\n",
        "\n",
        "The number varies from -1 to 1.\n",
        "\n",
        "1 means that there is a 1 to 1 relationship (a perfect correlation), and for this data set, each time a value went up in the first column, the other one went up as well.\n",
        "\n",
        "0.9 is also a good relationship, and if you increase one value, the other will probably increase as well.\n",
        "\n",
        "-0.9 would be just as good relationship as 0.9, but if you increase one value, the other will probably go down.\n",
        "\n",
        "0.2 means NOT a good relationship, meaning that if one value goes up does not mean that the other will.\n",
        "\n",
        "What is a good correlation? It depends on the use, but I think it is safe to say you have to have at least 0.6 (or -0.6) to call it a good correlation.\n",
        "\n",
        "Perfect Correlation: We can see that \"Duration\" and \"Duration\" got the number 1.000000, which makes sense, each column always has a perfect relationship with itself.\n",
        "\n",
        "Good Correlation: \"Duration\" and \"Calories\" got a 0.922721 correlation, which is a very good correlation, and we can predict that the longer you work out, the more calories you burn, and the other way around: if you burned a lot of calories, you probably had a long work out.\n",
        "\n",
        "Bad Correlation: \"Duration\" and \"Maxpulse\" got a 0.009403 correlation, which is a very bad correlation, meaning that we can not predict the max pulse by just looking at the duration of the work out, and vice versa."
      ],
      "metadata": {
        "id": "YNxK-WRyelYB"
      }
    }
  ]
}