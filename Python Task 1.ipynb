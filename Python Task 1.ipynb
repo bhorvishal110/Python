{
 "cells": [
  {
   "cell_type": "code",
   "execution_count": null,
   "metadata": {},
   "outputs": [],
   "source": [
    "'''\n",
    "Ask 2 numbers from users and store it in num1 and num2\n",
    "Ask user to press 1 for addition,2 for subtraction,3 for multiplication and 4 for division\n",
    "based on number given by user do the math operation\n",
    "'''\n",
    "\n",
    "# take 2 numbers from user\n",
    "\n"
   ]
  },
  {
   "cell_type": "code",
   "execution_count": 18,
   "metadata": {},
   "outputs": [
    {
     "name": "stdout",
     "output_type": "stream",
     "text": [
      "Enter 1st Number7\n",
      "Enter 2nd Number6\n",
      " Press 1 for ADDITION\n",
      "Press 2 for SUBTRACTION\n",
      "Press 3 for MULTIPLICATION\n",
      "Press 4 for Division3\n",
      "42\n"
     ]
    }
   ],
   "source": [
    "num1 = int(input(\"Enter 1st Number\"))\n",
    "num2 = int(input(\"Enter 2nd Number\"))\n",
    "\n",
    "\n",
    "math = int(input(''' Press 1 for ADDITION\n",
    "Press 2 for SUBTRACTION\n",
    "Press 3 for MULTIPLICATION\n",
    "Press 4 for Division'''))\n",
    "\n",
    "\n",
    "if(math == 1):\n",
    "    result = num1 + num2\n",
    "elif(math == 2):\n",
    "    result = num - num2\n",
    "elif(math == 3):\n",
    "    result = num1 * num2\n",
    "elif(math == 4):\n",
    "    result = num1 / num2\n",
    "else:\n",
    "    print(\"wrong selection\")\n",
    "    \n",
    "print(result)"
   ]
  },
  {
   "cell_type": "code",
   "execution_count": null,
   "metadata": {},
   "outputs": [],
   "source": [
    "\n",
    "\n",
    "\n",
    "\n",
    "\n"
   ]
  },
  {
   "cell_type": "code",
   "execution_count": 7,
   "metadata": {},
   "outputs": [
    {
     "name": "stdout",
     "output_type": "stream",
     "text": [
      "Enter 1st Number6\n",
      "Enter 2nd Number3\n",
      "Press 1 for ADDITION\n",
      "Press 2 for SUBTRACTION\n",
      "Press 3 for MULTIPLICATION\n",
      "Press 4 for Division : 4\n",
      "\n",
      "Division is : 2.0\n"
     ]
    }
   ],
   "source": [
    "num1 = int(input(\"Enter 1st Number\"))\n",
    "num2 = int(input(\"Enter 2nd Number\"))\n",
    "\n",
    "def add():\n",
    "    a = num1 + num2\n",
    "    print(\"\\nAddition is : \",a)\n",
    "    \n",
    "def sub():\n",
    "    s = num1 - num2\n",
    "    print(\"\\nSubtraction is :\",s)\n",
    "    \n",
    "def mul():\n",
    "    m = num1 * num2\n",
    "    print(\"\\nMultiplication is :\",m)\n",
    "    \n",
    "def div():\n",
    "    d = num1 / num2\n",
    "    print(\"\\nDivision is :\",d)\n",
    "    \n",
    "math = int(input('''Press 1 for ADDITION\n",
    "Press 2 for SUBTRACTION\n",
    "Press 3 for MULTIPLICATION\n",
    "Press 4 for Division : '''))\n",
    "\n",
    "if(math == 1):\n",
    "    add()\n",
    "elif(math == 2):\n",
    "    sub()\n",
    "elif(math == 3):\n",
    "    mul()\n",
    "elif(math == 4):\n",
    "    div()\n",
    "else:\n",
    "    print(\"wrong selection\")"
   ]
  },
  {
   "cell_type": "code",
   "execution_count": null,
   "metadata": {},
   "outputs": [],
   "source": [
    "\n",
    "\n",
    "\n",
    "\n",
    "\n"
   ]
  },
  {
   "cell_type": "code",
   "execution_count": 12,
   "metadata": {},
   "outputs": [
    {
     "name": "stdout",
     "output_type": "stream",
     "text": [
      "Enter 1st Number23\n",
      "Enter 2nd Number10\n",
      "Press + for ADDITION\n",
      "Press - for SUBTRACTION\n",
      "Press * for MULTIPLICATION\n",
      "Press / for Division : +\n",
      "\n",
      "Addition is :  33\n"
     ]
    }
   ],
   "source": [
    "num1 = int(input(\"Enter 1st Number\"))\n",
    "num2 = int(input(\"Enter 2nd Number\"))\n",
    "\n",
    "def add():\n",
    "    a = num1 + num2\n",
    "    print(\"\\nAddition is : \",a)\n",
    "    \n",
    "def sub():\n",
    "    s = num1 - num2\n",
    "    print(\"\\nSubtraction is :\",s)\n",
    "    \n",
    "def mul():\n",
    "    m = num1 * num2\n",
    "    print(\"\\nMultiplication is :\",m)\n",
    "    \n",
    "def div():\n",
    "    d = num1 / num2\n",
    "    print(\"\\nDivision is :\",d)\n",
    "    \n",
    "math = input('''Press + for ADDITION\n",
    "Press - for SUBTRACTION\n",
    "Press * for MULTIPLICATION\n",
    "Press / for Division : ''')\n",
    "\n",
    "if(math == \"+\"):\n",
    "    add()\n",
    "elif(math == \"-\"):\n",
    "    sub()\n",
    "elif(math == \"*\"):\n",
    "    mul()\n",
    "elif(math == \"/\"):\n",
    "    div()\n",
    "else:\n",
    "    print(\"wrong selection\")"
   ]
  },
  {
   "cell_type": "code",
   "execution_count": null,
   "metadata": {},
   "outputs": [],
   "source": [
    "\n",
    "\n",
    "\n",
    "\n",
    "\n"
   ]
  },
  {
   "cell_type": "code",
   "execution_count": 4,
   "metadata": {},
   "outputs": [
    {
     "name": "stdout",
     "output_type": "stream",
     "text": [
      "     Hello     \n"
     ]
    }
   ],
   "source": [
    "#remove white space at the beginning & at the ending\n",
    "str1 ='     Hello     '\n",
    "print(str1)"
   ]
  },
  {
   "cell_type": "code",
   "execution_count": 3,
   "metadata": {},
   "outputs": [
    {
     "name": "stdout",
     "output_type": "stream",
     "text": [
      "Hello\n"
     ]
    }
   ],
   "source": [
    "str1 = '     Hello     '\n",
    "\n",
    "#to remove space at the biginning\n",
    "while str1[0] == \" \":  \n",
    "    str1 = str1[1:]\n",
    "\n",
    "#to remove space at the end\n",
    "while str1[-1] == \" \":\n",
    "    str1 = str1[:-1]\n",
    "    \n",
    "print(str1)"
   ]
  },
  {
   "cell_type": "code",
   "execution_count": null,
   "metadata": {},
   "outputs": [],
   "source": [
    "\n",
    "\n",
    "\n",
    "\n",
    "\n"
   ]
  },
  {
   "cell_type": "code",
   "execution_count": null,
   "metadata": {},
   "outputs": [],
   "source": [
    "# to count & remove white space"
   ]
  },
  {
   "cell_type": "code",
   "execution_count": 3,
   "metadata": {},
   "outputs": [
    {
     "name": "stdout",
     "output_type": "stream",
     "text": [
      "Hello\n",
      "Space at Beginning:  5\n",
      "Space at ending :  5\n"
     ]
    }
   ],
   "source": [
    "str1 = '     Hello     '\n",
    "count1 = 0\n",
    "count2 = 0\n",
    "\n",
    "#to remove space at the biginning\n",
    "while str1[0] == \" \":  \n",
    "    str1 = str1[1:]\n",
    "    count1 = count1 + 1\n",
    "     \n",
    "#to remove space at the end\n",
    "while str1[-1] == \" \":\n",
    "    str1 = str1[:-1]\n",
    "    count2 = count2 + 1\n",
    "    \n",
    "print(str1)\n",
    "print('Space at Beginning: ', count1)\n",
    "print('Space at ending : ', count2)"
   ]
  },
  {
   "cell_type": "code",
   "execution_count": null,
   "metadata": {},
   "outputs": [],
   "source": [
    "\n",
    "\n",
    "\n",
    "\n",
    "\n"
   ]
  },
  {
   "cell_type": "code",
   "execution_count": null,
   "metadata": {},
   "outputs": [],
   "source": [
    "# to count the no. of words in a string without inbuilt function"
   ]
  },
  {
   "cell_type": "code",
   "execution_count": 1,
   "metadata": {},
   "outputs": [
    {
     "name": "stdout",
     "output_type": "stream",
     "text": [
      "['G', 'R', 'A', 'T', 'I', 'T', 'U', 'D', 'E', ' ', 'I', 'S', ' ', 'A', 'T', 'T', 'I', 'T', 'U', 'D', 'E']\n"
     ]
    }
   ],
   "source": [
    "#string\n",
    "word = ('GRATITUDE IS ATTITUDE')\n",
    "n = 0\n",
    "s = 0\n",
    "\n",
    "#convert string to list\n",
    "\n",
    "list1 = list(word)\n",
    "print(list1)"
   ]
  },
  {
   "cell_type": "code",
   "execution_count": 2,
   "metadata": {},
   "outputs": [
    {
     "name": "stdout",
     "output_type": "stream",
     "text": [
      "21\n"
     ]
    }
   ],
   "source": [
    "# to count total list\n",
    "\n",
    "for i in word:\n",
    "    n = n + 1\n",
    "print(n)"
   ]
  },
  {
   "cell_type": "code",
   "execution_count": 5,
   "metadata": {},
   "outputs": [
    {
     "name": "stdout",
     "output_type": "stream",
     "text": [
      "2\n"
     ]
    }
   ],
   "source": [
    "# to coount total spaces in word\n",
    "\n",
    "for i in word :\n",
    "    if(i == \" \"):\n",
    "        s = s + 1  \n",
    "print(s)"
   ]
  },
  {
   "cell_type": "code",
   "execution_count": 6,
   "metadata": {},
   "outputs": [
    {
     "name": "stdout",
     "output_type": "stream",
     "text": [
      "19\n"
     ]
    }
   ],
   "source": [
    "# to count actual characters in the word\n",
    "total_word = n - s\n",
    "print(total_word)"
   ]
  },
  {
   "cell_type": "code",
   "execution_count": null,
   "metadata": {},
   "outputs": [],
   "source": []
  }
 ],
 "metadata": {
  "kernelspec": {
   "display_name": "Python 3",
   "language": "python",
   "name": "python3"
  },
  "language_info": {
   "codemirror_mode": {
    "name": "ipython",
    "version": 3
   },
   "file_extension": ".py",
   "mimetype": "text/x-python",
   "name": "python",
   "nbconvert_exporter": "python",
   "pygments_lexer": "ipython3",
   "version": "3.7.6"
  }
 },
 "nbformat": 4,
 "nbformat_minor": 4
}
