{
 "cells": [
  {
   "cell_type": "code",
   "execution_count": 1,
   "metadata": {},
   "outputs": [],
   "source": [
    "# PROGRAM TO OBTAIN SUM OF 1ST AND LAST DIGIT OF THE NUMBER"
   ]
  },
  {
   "cell_type": "code",
   "execution_count": 35,
   "metadata": {},
   "outputs": [
    {
     "name": "stdout",
     "output_type": "stream",
     "text": [
      "Enter the Number :3\n",
      "Dont Enter SINGLE DIGIT Number\n"
     ]
    }
   ],
   "source": [
    "# TAKE AN INTEGER\n",
    "\n",
    "int1 = input(\"Enter the Number :\")\n",
    "\n",
    "#str to list\n",
    "\n",
    "int2 = list(int1)\n",
    "\n",
    "# Number should not single digit\n",
    "if (len(int2) < 2):\n",
    "    print(\"Dont Enter SINGLE DIGIT Number\")\n",
    "\n",
    "else:\n",
    "    # to add 1st and last digit\n",
    "\n",
    "    first = int(int2[0])\n",
    "    last = int(int2[-1])\n",
    "\n",
    "    print(\"1st digit of number is :\" ,first)\n",
    "    print(\"last digit of number is :\" ,last)\n",
    "\n",
    "    result = first + last\n",
    "    print(\"Final result is :\" ,result)"
   ]
  },
  {
   "cell_type": "code",
   "execution_count": null,
   "metadata": {},
   "outputs": [],
   "source": [
    "\n",
    "\n",
    "\n",
    "\n",
    "\n"
   ]
  },
  {
   "cell_type": "code",
   "execution_count": null,
   "metadata": {},
   "outputs": [],
   "source": [
    "# PROGRAM TO REVERSE THE GIVEN INTEGER"
   ]
  },
  {
   "cell_type": "code",
   "execution_count": 43,
   "metadata": {},
   "outputs": [
    {
     "name": "stdout",
     "output_type": "stream",
     "text": [
      "Enter the number :1234567890\n",
      "1234567890\n",
      "<class 'str'>\n",
      "['1', '2', '3', '4', '5', '6', '7', '8', '9', '0']\n",
      "['0', '9', '8', '7', '6', '5', '4', '3', '2', '1']\n",
      "987654321\n",
      "<class 'int'>\n"
     ]
    }
   ],
   "source": [
    "# TAKE THE NUMBER\n",
    "\n",
    "num1 = int(input(\"Enter the number :\"))\n",
    "print(num1)\n",
    "\n",
    "# CONVERT THE GIVEN NUMBER INTO THE STRING\n",
    "\n",
    "num2 = str(num1)\n",
    "print(type(num2))\n",
    "\n",
    "# CONVERTING TO LIST\n",
    "\n",
    "list1 = list(num2)\n",
    "print(list1)\n",
    "\n",
    "# reversing the list\n",
    "\n",
    "new = list1[::-1]\n",
    "print(new)\n",
    "\n",
    "#converting list to srting\n",
    "\n",
    "rev = \"\".join(new)\n",
    "result2 = int(rev)\n",
    "print(result2)\n",
    "print(type(result2))"
   ]
  },
  {
   "cell_type": "code",
   "execution_count": null,
   "metadata": {},
   "outputs": [],
   "source": [
    "\n",
    "\n",
    "\n",
    "\n",
    "\n"
   ]
  },
  {
   "cell_type": "code",
   "execution_count": null,
   "metadata": {},
   "outputs": [],
   "source": [
    "'''program to obtain length (L) and breadth (B) of a rectangle and check whether\n",
    "its area is greater or perimeter is greater or both are equal.'''"
   ]
  },
  {
   "cell_type": "code",
   "execution_count": 50,
   "metadata": {},
   "outputs": [
    {
     "name": "stdout",
     "output_type": "stream",
     "text": [
      "Enter Length og Rectangle : 4\n",
      "Enter breadth og Rectangle : 2\n",
      "Arae of Rectangle is :  8\n",
      "Perimeter of Rectangle is : 12\n",
      "Perimeter is Greater than Area of Rectangle\n"
     ]
    }
   ],
   "source": [
    "# take length and breadth of rectangle\n",
    "\n",
    "l = int(input(\"Enter Length og Rectangle : \" ))\n",
    "b = int(input(\"Enter breadth og Rectangle : \" ))\n",
    "\n",
    "# calculating area and perimeter\n",
    "\n",
    "a = l * b \n",
    "print(\"Arae of Rectangle is : \" ,area)\n",
    "p = 2 * (l + b)\n",
    "print(\"Perimeter of Rectangle is :\" ,perimeter)\n",
    "\n",
    "# Printing Conditions\n",
    "\n",
    "if (a > p):\n",
    "    print(\"Area is Greater than Perimeter of Rectangle\")\n",
    "    \n",
    "elif (p > a):\n",
    "    print(\"Perimeter is Greater than Area of Rectangle\")\n",
    "\n",
    "elif (a == p):\n",
    "    print(\"Area and Perimeter both are equal\")\n",
    "\n",
    "else:\n",
    "    pass"
   ]
  },
  {
   "cell_type": "code",
   "execution_count": null,
   "metadata": {},
   "outputs": [],
   "source": [
    "\n",
    "\n",
    "\n",
    "\n",
    "\n"
   ]
  },
  {
   "cell_type": "code",
   "execution_count": null,
   "metadata": {},
   "outputs": [],
   "source": [
    "# to check whether a triangle is valid or not "
   ]
  },
  {
   "cell_type": "code",
   "execution_count": 13,
   "metadata": {},
   "outputs": [
    {
     "name": "stdout",
     "output_type": "stream",
     "text": [
      "Enter 1st Angle of Triangle :60\n",
      "Enter 2nd Angle of Triangle :60\n",
      "Enter 3rd Angle of Triangle :60\n",
      "Enter 1st length of Triangle :2\n",
      "Enter 2nd length of Triangle :4\n",
      "Enter 3rd length of Triangle :15\n",
      "\n",
      "it is not a triangle\n"
     ]
    }
   ],
   "source": [
    "# take angles and lengths of a triangle\n",
    "# 3 Angles :\n",
    "a1 = int(input(\"Enter 1st Angle of Triangle :\"))\n",
    "a2 = int(input(\"Enter 2nd Angle of Triangle :\"))\n",
    "a3 = int(input(\"Enter 3rd Angle of Triangle :\"))\n",
    "\n",
    "# 3 lenghts :\n",
    "l1 = int(input(\"Enter 1st length of Triangle :\"))\n",
    "l2 = int(input(\"Enter 2nd length of Triangle :\"))\n",
    "l3 = int(input(\"Enter 3rd length of Triangle :\"))\n",
    "\n",
    "''' sum of all 3 angles is equal to 180 degree and \n",
    "sum of any 2 length of triangle is greater than 3rd length then \n",
    "condition of triangle is satisfied '''\n",
    "\n",
    "if (a1 + a2 + a3 == 180 and l1 + l2 >= l3 and l2 + l3 >= l1 and l1 + l3 >= l2):\n",
    "    print(\"\\nall conditions are satisfied it is triangle\")\n",
    "\n",
    "else:\n",
    "    print(\"\\nit is not a triangle\")"
   ]
  },
  {
   "cell_type": "code",
   "execution_count": null,
   "metadata": {},
   "outputs": [],
   "source": [
    "\n",
    "\n",
    "\n",
    "\n",
    "\n"
   ]
  },
  {
   "cell_type": "code",
   "execution_count": null,
   "metadata": {},
   "outputs": [],
   "source": [
    "# to find 2nd largest number"
   ]
  },
  {
   "cell_type": "code",
   "execution_count": 1,
   "metadata": {},
   "outputs": [
    {
     "name": "stdout",
     "output_type": "stream",
     "text": [
      "Enter 1st no. :10000\n",
      "Enter 2nd no. :100\n",
      "Enter 3rd no. :1000\n",
      "[100, 1000, 10000]\n",
      "2nd largest no. is : 1000\n"
     ]
    }
   ],
   "source": [
    "n1 = int(input(\"Enter 1st no. :\"))\n",
    "n2 = int(input(\"Enter 2nd no. :\"))\n",
    "n3 = int(input(\"Enter 3rd no. :\"))\n",
    "\n",
    "# condition to find 2nd largest number\n",
    "\n",
    "list1 = [n1, n2, n3]\n",
    "list1.sort()\n",
    "print(list1)\n",
    "print(\"2nd largest no. is :\" ,list1[1])"
   ]
  }
 ],
 "metadata": {
  "kernelspec": {
   "display_name": "Python 3",
   "language": "python",
   "name": "python3"
  },
  "language_info": {
   "codemirror_mode": {
    "name": "ipython",
    "version": 3
   },
   "file_extension": ".py",
   "mimetype": "text/x-python",
   "name": "python",
   "nbconvert_exporter": "python",
   "pygments_lexer": "ipython3",
   "version": "3.7.6"
  }
 },
 "nbformat": 4,
 "nbformat_minor": 4
}
